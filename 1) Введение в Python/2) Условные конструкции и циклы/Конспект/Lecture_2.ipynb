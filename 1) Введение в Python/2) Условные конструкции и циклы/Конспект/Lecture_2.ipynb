{
 "cells": [
  {
   "cell_type": "markdown",
   "metadata": {},
   "source": [
    "# Занятие 2. Условные конструкции и циклы"
   ]
  },
  {
   "cell_type": "code",
   "execution_count": 1,
   "metadata": {},
   "outputs": [],
   "source": [
    "accuracy = 0.75"
   ]
  },
  {
   "cell_type": "code",
   "execution_count": 2,
   "metadata": {},
   "outputs": [
    {
     "name": "stdout",
     "output_type": "stream",
     "text": [
      "True\n",
      "False\n"
     ]
    }
   ],
   "source": [
    "print(accuracy > 0.5)\n",
    "print(accuracy > 0.9)"
   ]
  },
  {
   "cell_type": "markdown",
   "metadata": {},
   "source": [
    "## Условные конструкции\n",
    "\n",
    "Конструкция с неполным ветвлением:\n",
    "```python\n",
    "if условие: \n",
    "    Код, который выполняется, если условие верно\n",
    "```"
   ]
  },
  {
   "cell_type": "code",
   "execution_count": 3,
   "metadata": {},
   "outputs": [
    {
     "name": "stdout",
     "output_type": "stream",
     "text": [
      "Да, все верно\n"
     ]
    }
   ],
   "source": [
    "if accuracy > 0.5: \n",
    "    print('Да, все верно')"
   ]
  },
  {
   "cell_type": "markdown",
   "metadata": {},
   "source": [
    "## Отступы в Python"
   ]
  },
  {
   "cell_type": "markdown",
   "metadata": {},
   "source": [
    "* весь синтаксис построен на работе с блоками\n",
    "* блоки выделяются отступами \n",
    "* отступы однородны внутри блока"
   ]
  },
  {
   "cell_type": "markdown",
   "metadata": {},
   "source": [
    "```python\n",
    "это команда\n",
    "это другая команда\n",
    "    это первая команда блока\n",
    "    это вторая команда блока\n",
    "    это третья команда блока\n",
    "эта команда уже не в блоке\n",
    "```"
   ]
  },
  {
   "cell_type": "markdown",
   "metadata": {},
   "source": [
    "\"Классическая\" конструкция с else:\n",
    "```python\n",
    "if какое-то условие: \n",
    "    Код, который выполняется, если условие верно\n",
    "else:\n",
    "    Код, который выполняется, если условие ложно\n",
    "```"
   ]
  },
  {
   "cell_type": "code",
   "execution_count": 4,
   "metadata": {},
   "outputs": [
    {
     "name": "stdout",
     "output_type": "stream",
     "text": [
      "R^2 меньше или равно 0.9\n"
     ]
    }
   ],
   "source": [
    "r2 = 0.8\n",
    "if r2 > 0.9:\n",
    "    print('Да, все верно')\n",
    "else:\n",
    "    print('R^2 меньше или равно 0.9')"
   ]
  },
  {
   "cell_type": "code",
   "execution_count": 5,
   "metadata": {},
   "outputs": [
    {
     "name": "stdout",
     "output_type": "stream",
     "text": [
      "R^2 меньше или равно 0.9\n"
     ]
    }
   ],
   "source": [
    "print('Да, все верно') if r2 > 0.9 else print('R^2 меньше или равно 0.9')"
   ]
  },
  {
   "cell_type": "code",
   "execution_count": 7,
   "metadata": {
    "scrolled": true
   },
   "outputs": [
    {
     "ename": "SyntaxError",
     "evalue": "invalid syntax (<ipython-input-7-607060cfc39b>, line 2)",
     "output_type": "error",
     "traceback": [
      "\u001b[0;36m  File \u001b[0;32m\"<ipython-input-7-607060cfc39b>\"\u001b[0;36m, line \u001b[0;32m2\u001b[0m\n\u001b[0;31m    print('Да, все верно') if r2 > 0.9\u001b[0m\n\u001b[0m                                      ^\u001b[0m\n\u001b[0;31mSyntaxError\u001b[0m\u001b[0;31m:\u001b[0m invalid syntax\n"
     ]
    }
   ],
   "source": [
    "# Ошибка синтаксиса\n",
    "print('Да, все верно') if r2 > 0.9"
   ]
  },
  {
   "cell_type": "code",
   "execution_count": 8,
   "metadata": {},
   "outputs": [
    {
     "name": "stdout",
     "output_type": "stream",
     "text": [
      "R^2 в диапазоне (0.5, 0.9)\n"
     ]
    }
   ],
   "source": [
    "if 0.5 < r2 < 0.9:\n",
    "    print('R^2 в диапазоне (0.5, 0.9)')\n",
    "else:\n",
    "    print('Иначе')"
   ]
  },
  {
   "cell_type": "markdown",
   "metadata": {},
   "source": [
    "Если необходимо больше, чем 2 варианта действий, то необходимо воспользоваться следующей конструкцией:\n",
    "```python\n",
    "if какое-то условие:\n",
    "    Код, который выполняется, если условие верно\n",
    "elif еще одно условие:\n",
    "    Код, который выполняется, если это условие верно, а предыдущее — нет\n",
    "    ...\n",
    "else:\n",
    "    Код, который выполняется, если все условия ложны\n",
    "```"
   ]
  },
  {
   "cell_type": "code",
   "execution_count": 9,
   "metadata": {},
   "outputs": [
    {
     "name": "stdout",
     "output_type": "stream",
     "text": [
      "Подписок Васи не нашли\n"
     ]
    }
   ],
   "source": [
    "user = 'vasya96'\n",
    "\n",
    "actress_page = {'ne_tvoya', 'nogotochki', 'igor_kot'}\n",
    "surfing = {'healthy_guy', 'cheap_tan'}\n",
    "\n",
    "if user in actress_page:\n",
    "    print('Вася подписан на актрису')\n",
    "elif user in surfing:\n",
    "    print('Вася интересуется серфингом')\n",
    "else:\n",
    "    print('Подписок Васи не нашли')"
   ]
  },
  {
   "cell_type": "markdown",
   "metadata": {},
   "source": [
    "Ключевое слово `pass` необходимо использовать, если по каким-то причинам нужно, чтобы при выполнении условия ничего не происходило.\n",
    "Это связано с тем, что данная конструкция не может быть пустой:\n",
    "\n",
    "```python\n",
    "if expressions: \n",
    "   code\n",
    "``` \n"
   ]
  },
  {
   "cell_type": "code",
   "execution_count": 10,
   "metadata": {},
   "outputs": [],
   "source": [
    "cars = {'igor_kot', 'vasya96', '50cent'}\n",
    "\n",
    "if user in actress_page:\n",
    "    print('Вася подписан на актрису')\n",
    "elif user in cars:\n",
    "    pass"
   ]
  },
  {
   "cell_type": "markdown",
   "metadata": {},
   "source": [
    "## Циклы"
   ]
  },
  {
   "cell_type": "markdown",
   "metadata": {},
   "source": [
    "В Python есть два вида циклов:"
   ]
  },
  {
   "cell_type": "markdown",
   "metadata": {},
   "source": [
    "### while"
   ]
  },
  {
   "cell_type": "markdown",
   "metadata": {},
   "source": [
    "`while` — выполняет заданные действия до тех пор, пока `условие` является истинным.\n",
    "    \n",
    "    \n",
    "```python\n",
    "while условие:\n",
    "\tвыполняется пока «условие» верно \n",
    "```"
   ]
  },
  {
   "cell_type": "code",
   "execution_count": 11,
   "metadata": {},
   "outputs": [
    {
     "name": "stdout",
     "output_type": "stream",
     "text": [
      "1 ['new task']\n",
      "2 ['new task', 'new task']\n",
      "3 ['new task', 'new task', 'new task']\n"
     ]
    }
   ],
   "source": [
    "tasks = []\n",
    "while len(tasks) < 3:\n",
    "    tasks.append('new task')\n",
    "    print(len(tasks), tasks)"
   ]
  },
  {
   "cell_type": "markdown",
   "metadata": {},
   "source": [
    "### for"
   ]
  },
  {
   "cell_type": "markdown",
   "metadata": {},
   "source": [
    "`for` — выполняет заданные действия для каждого элемента итерируемой переменной.\n",
    "\n",
    "```python\n",
    "for переменная in «последовательность»:\n",
    "\tвыполняется столько раз, сколько элементов в последовательности\n",
    "\n",
    "```"
   ]
  },
  {
   "cell_type": "code",
   "execution_count": 12,
   "metadata": {},
   "outputs": [],
   "source": [
    "upper_letters = []\n",
    "for letter in 'word':\n",
    "    upper_letters.append(letter.upper())"
   ]
  },
  {
   "cell_type": "code",
   "execution_count": 13,
   "metadata": {},
   "outputs": [
    {
     "data": {
      "text/plain": [
       "['W', 'O', 'R', 'D']"
      ]
     },
     "execution_count": 13,
     "metadata": {},
     "output_type": "execute_result"
    }
   ],
   "source": [
    "upper_letters"
   ]
  },
  {
   "cell_type": "code",
   "execution_count": 14,
   "metadata": {},
   "outputs": [
    {
     "data": {
      "text/plain": [
       "'WORD'"
      ]
     },
     "execution_count": 14,
     "metadata": {},
     "output_type": "execute_result"
    }
   ],
   "source": [
    "''.join(upper_letters)"
   ]
  },
  {
   "cell_type": "code",
   "execution_count": 26,
   "metadata": {},
   "outputs": [],
   "source": [
    "# for letter in 'word':\n",
    "#     print(letter.upper())"
   ]
  },
  {
   "cell_type": "code",
   "execution_count": 25,
   "metadata": {},
   "outputs": [],
   "source": [
    "# for element in (0, 2, 10):\n",
    "#     print(element)"
   ]
  },
  {
   "cell_type": "code",
   "execution_count": 24,
   "metadata": {},
   "outputs": [],
   "source": [
    "# for element in range(10):\n",
    "#     print(element)"
   ]
  },
  {
   "cell_type": "code",
   "execution_count": 23,
   "metadata": {},
   "outputs": [],
   "source": [
    "# for key in {0: 'user0', 1: 'user1'}:\n",
    "#     print(key)"
   ]
  },
  {
   "cell_type": "markdown",
   "metadata": {},
   "source": [
    "## Управление циклами"
   ]
  },
  {
   "cell_type": "markdown",
   "metadata": {},
   "source": [
    "* `break` — прерывает выполнение цикла, в котором написан\n",
    "* `continue` — завершает текущую итерацию и переводит цикл на следующую"
   ]
  },
  {
   "cell_type": "code",
   "execution_count": 27,
   "metadata": {},
   "outputs": [
    {
     "name": "stdout",
     "output_type": "stream",
     "text": [
      "Он\n",
      "шел\n",
      "по\n",
      "дороге\n"
     ]
    }
   ],
   "source": [
    "sentence = 'Он шел по дороге и смотрел по сторонам'\n",
    "for word in sentence.split():\n",
    "    if word == 'и':\n",
    "        break\n",
    "    print(word)"
   ]
  },
  {
   "cell_type": "code",
   "execution_count": 28,
   "metadata": {},
   "outputs": [
    {
     "name": "stdout",
     "output_type": "stream",
     "text": [
      "1\n",
      "2\n",
      "3\n",
      "4\n",
      "5\n",
      "6\n",
      "7\n",
      "8\n",
      "9\n"
     ]
    }
   ],
   "source": [
    "for index in range(10):\n",
    "    if index == 0:\n",
    "        continue\n",
    "    print(index)"
   ]
  },
  {
   "cell_type": "code",
   "execution_count": 29,
   "metadata": {},
   "outputs": [
    {
     "name": "stdout",
     "output_type": "stream",
     "text": [
      "прогноз\n",
      "прогноз\n",
      "прогноз\n",
      "прогноз\n",
      "отмена\n"
     ]
    }
   ],
   "source": [
    "while True:\n",
    "    user_input = input()\n",
    "    if user_input == 'отмена':\n",
    "        break\n",
    "    print('прогноз')"
   ]
  },
  {
   "cell_type": "markdown",
   "metadata": {},
   "source": [
    "## Полезные функции для циклов"
   ]
  },
  {
   "cell_type": "markdown",
   "metadata": {},
   "source": [
    "1. `enumerate(structure)` — на каждой итерации генерит пару (индекс, элемент последовательности), возможность опустить обращение к элементам по индексу\n",
    "2. `zip(structure_1, structure_2,...)` — позволяет итерировать сразу по нескольким структурам. Важно, чтобы они были одного размера"
   ]
  },
  {
   "cell_type": "code",
   "execution_count": 30,
   "metadata": {},
   "outputs": [
    {
     "name": "stdout",
     "output_type": "stream",
     "text": [
      "0: S\n",
      "1: t\n",
      "2: r\n",
      "3: i\n",
      "4: n\n",
      "5: g\n"
     ]
    }
   ],
   "source": [
    "for index, char in enumerate('String'):\n",
    "    print(f'{index}: {char}')"
   ]
  },
  {
   "cell_type": "code",
   "execution_count": 31,
   "metadata": {},
   "outputs": [
    {
     "name": "stdout",
     "output_type": "stream",
     "text": [
      "user1 33 102\n",
      "user2 29 62\n",
      "user3 32 93\n"
     ]
    }
   ],
   "source": [
    "users = ['user1', 'user2', 'user3']\n",
    "ages = [33, 29, 32]\n",
    "weights = (102, 62, 93)\n",
    "for user, age, weight in zip(users, ages, weights):\n",
    "    print(user, age, weight)"
   ]
  },
  {
   "cell_type": "markdown",
   "metadata": {},
   "source": [
    "## Comprehensions\n",
    "\n",
    "Способ позволяющий получить список/словарь/сет на основе другого словаря/сета/списка в более короткой записи\n",
    "\n",
    "```python\n",
    "newlist = [expression for item in iterable_value if condition == True] — List comprehension\n",
    "newdict = {key_expression: value_expression for item in iterable_value if condition == True} — Dict comprehension\n",
    "newset = {expression for item in iterable_value if condition == True} — Set comprehension\n",
    "```\n",
    "Если `iterable_value словарь`, то в качестве `item` дожна быть пара `ключ, значение`"
   ]
  },
  {
   "cell_type": "code",
   "execution_count": 32,
   "metadata": {},
   "outputs": [
    {
     "name": "stdout",
     "output_type": "stream",
     "text": [
      "[1, 3, 5, 7, 9]\n"
     ]
    }
   ],
   "source": [
    "digits = range(10)\n",
    "\n",
    "odd_digits = []\n",
    "for digit in digits:\n",
    "    if digit % 2 == 1:\n",
    "        odd_digits.append(digit)\n",
    "        \n",
    "print(odd_digits)"
   ]
  },
  {
   "cell_type": "code",
   "execution_count": 33,
   "metadata": {},
   "outputs": [
    {
     "name": "stdout",
     "output_type": "stream",
     "text": [
      "[1, 3, 5, 7, 9]\n"
     ]
    }
   ],
   "source": [
    "odd_digits = [digit for digit in digits if digit % 2 == 1]\n",
    "print(odd_digits)"
   ]
  },
  {
   "cell_type": "markdown",
   "metadata": {},
   "source": [
    "`expression` может содержать в себе условия, но не в качестве фильтра, а в качестве способа взимодейсвия с элементом `iterable_value`"
   ]
  },
  {
   "cell_type": "code",
   "execution_count": 34,
   "metadata": {},
   "outputs": [
    {
     "name": "stdout",
     "output_type": "stream",
     "text": [
      "[6, 5, 4, 3, 2, 1, 0, 1, 2]\n"
     ]
    }
   ],
   "source": [
    "num_abs = [digit if digit > 0 else -1 * digit for digit in range(-6, 3)]\n",
    "print(num_abs)"
   ]
  },
  {
   "cell_type": "code",
   "execution_count": 35,
   "metadata": {},
   "outputs": [
    {
     "name": "stdout",
     "output_type": "stream",
     "text": [
      "{0, 64, 512, 8, 216}\n"
     ]
    }
   ],
   "source": [
    "pow3 = {digit**3 for digit in range(0, 10, 2)}\n",
    "print(pow3)"
   ]
  },
  {
   "cell_type": "code",
   "execution_count": null,
   "metadata": {},
   "outputs": [],
   "source": []
  }
 ],
 "metadata": {
  "kernelspec": {
   "display_name": "Python 3",
   "language": "python",
   "name": "python3"
  },
  "language_info": {
   "codemirror_mode": {
    "name": "ipython",
    "version": 3
   },
   "file_extension": ".py",
   "mimetype": "text/x-python",
   "name": "python",
   "nbconvert_exporter": "python",
   "pygments_lexer": "ipython3",
   "version": "3.7.3"
  }
 },
 "nbformat": 4,
 "nbformat_minor": 5
}

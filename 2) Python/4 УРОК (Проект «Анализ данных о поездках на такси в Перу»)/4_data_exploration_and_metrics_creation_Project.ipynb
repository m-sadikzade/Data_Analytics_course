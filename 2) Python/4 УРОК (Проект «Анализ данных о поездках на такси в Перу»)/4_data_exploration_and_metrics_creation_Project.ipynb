{
 "cells": [
  {
   "cell_type": "markdown",
   "metadata": {
    "id": "meHApm_GjObc"
   },
   "source": [
    "# Проект урока 4. Исследование данных и создание метрик\n",
    "#  «Анализ данных о поездках на такси в Перу»"
   ]
  },
  {
   "cell_type": "markdown",
   "metadata": {
    "id": "kS_jYqfgjObd"
   },
   "source": [
    "## Шаг 1"
   ]
  },
  {
   "cell_type": "markdown",
   "metadata": {
    "id": "67bnjCtvjObe"
   },
   "source": [
    "В этом проекте вы снова будете работать с данными по поездкам на такси, но теперь в Перу. Данные разделены на три датасета: в `passengers` информация о поездках со стороны пассажиров, в `drivers` — об этих же поездках со стороны водителей, в `taxi_2` — и та, и та информация, но о других поездках. В каждой строке каждого датасета — запись об одной поездке.\n",
    "\n",
    "**Описание данных:**\n",
    "\n",
    "passengers:\n",
    "- journey_id – уникальный id поездки  \n",
    "- user_id – id пользователя  \n",
    "- start_type – тип заказа (asap, reserved, delayed)  \n",
    "- start_lat – исходное местоположение пользователя, широта  \n",
    "- start_lon – исходное местоположение пользователя, долгота  \n",
    "- source – платформа, с которой сделан заказ  \n",
    "- driver_score – какую оценку клиент поставил водителю  \n",
    "\n",
    "drivers:\n",
    "- journey_id – уникальный id поездки  \n",
    "- driver_id – id водителя  \n",
    "- taxi_id – id машины  \n",
    "- icon – тип поездки  \n",
    "- start_at – время начала поездки  \n",
    "- end_at – время окончания поездки  \n",
    "- end_lat – итоговое местоположение, широта  \n",
    "- end_lon – итоговое местоположение, долгота  \n",
    "- end_state – состояние заказа  \n",
    "- driver_start_lat – исходное местоположение водителя, широта  \n",
    "- driver_start_lon – исходное местоположение водителя, долгота  \n",
    "- arrived_at – время прибытия водителя  \n",
    "- rider_score – какую оценку водитель поставил клиенту  "
   ]
  },
  {
   "cell_type": "markdown",
   "metadata": {
    "id": "O397IExwjObe"
   },
   "source": [
    "## Шаг 2"
   ]
  },
  {
   "cell_type": "markdown",
   "metadata": {
    "id": "kCp0pl5wjObe"
   },
   "source": [
    "**Соберите первую часть данных.** Для этого прочитайте датасеты `passengers` и `drivers`. Объедините датафреймы в единый по ключу — колонке `journey_id`.\n",
    "\n",
    "**Сколько столбцов с типом `object` у вас получилось в объединенном датафрейме?**"
   ]
  },
  {
   "cell_type": "code",
   "execution_count": 1,
   "metadata": {
    "id": "3IVuDZfljObf"
   },
   "outputs": [],
   "source": [
    "import pandas as pd"
   ]
  },
  {
   "cell_type": "code",
   "execution_count": 2,
   "metadata": {
    "id": "HqFz4DdRjObg"
   },
   "outputs": [],
   "source": [
    "passengers = pd.read_csv('passengers.csv')\n",
    "drivers = pd.read_csv('drivers.csv')\n"
   ]
  },
  {
   "cell_type": "code",
   "execution_count": 3,
   "metadata": {
    "id": "SomStl9LjObg"
   },
   "outputs": [
    {
     "data": {
      "text/html": [
       "<div>\n",
       "<style scoped>\n",
       "    .dataframe tbody tr th:only-of-type {\n",
       "        vertical-align: middle;\n",
       "    }\n",
       "\n",
       "    .dataframe tbody tr th {\n",
       "        vertical-align: top;\n",
       "    }\n",
       "\n",
       "    .dataframe thead th {\n",
       "        text-align: right;\n",
       "    }\n",
       "</style>\n",
       "<table border=\"1\" class=\"dataframe\">\n",
       "  <thead>\n",
       "    <tr style=\"text-align: right;\">\n",
       "      <th></th>\n",
       "      <th>journey_id</th>\n",
       "      <th>user_id</th>\n",
       "      <th>start_type</th>\n",
       "      <th>start_lat</th>\n",
       "      <th>start_lon</th>\n",
       "      <th>source</th>\n",
       "      <th>driver_score</th>\n",
       "    </tr>\n",
       "  </thead>\n",
       "  <tbody>\n",
       "    <tr>\n",
       "      <th>0</th>\n",
       "      <td>23a1406fc6a11d866e3c82f22eed4d4c</td>\n",
       "      <td>0e9af5bbf1edfe591b54ecdfd7e91e26</td>\n",
       "      <td>asap</td>\n",
       "      <td>-12,13983536</td>\n",
       "      <td>-77,02355957</td>\n",
       "      <td>iPhone</td>\n",
       "      <td>5.0</td>\n",
       "    </tr>\n",
       "    <tr>\n",
       "      <th>1</th>\n",
       "      <td>dd2af4715d0dc16eded53afc0e243577</td>\n",
       "      <td>a553c46e3a22fb9c326aeb3d72b3334e</td>\n",
       "      <td>asap</td>\n",
       "      <td>-12,13874817</td>\n",
       "      <td>-76,99536133</td>\n",
       "      <td>iPhone</td>\n",
       "      <td>NaN</td>\n",
       "    </tr>\n",
       "    <tr>\n",
       "      <th>2</th>\n",
       "      <td>dd91e131888064bf7df3ce08f3d4b4ad</td>\n",
       "      <td>a553c46e3a22fb9c326aeb3d72b3334e</td>\n",
       "      <td>asap</td>\n",
       "      <td>-12,12453079</td>\n",
       "      <td>-77,02780151</td>\n",
       "      <td>iPhone</td>\n",
       "      <td>NaN</td>\n",
       "    </tr>\n",
       "    <tr>\n",
       "      <th>3</th>\n",
       "      <td>dd2af4715d0dc16eded53afc0e2466d0</td>\n",
       "      <td>a553c46e3a22fb9c326aeb3d72b3334e</td>\n",
       "      <td>asap</td>\n",
       "      <td>-12,13885117</td>\n",
       "      <td>-76,99530029</td>\n",
       "      <td>iPhone</td>\n",
       "      <td>NaN</td>\n",
       "    </tr>\n",
       "    <tr>\n",
       "      <th>4</th>\n",
       "      <td>85b7eabcf5d84e42dc7629b7d27781af</td>\n",
       "      <td>56772d544fdfa589a020a1ff894a86f7</td>\n",
       "      <td>reserved</td>\n",
       "      <td>-12,08995438</td>\n",
       "      <td>-76,92626953</td>\n",
       "      <td>iPhone</td>\n",
       "      <td>4.0</td>\n",
       "    </tr>\n",
       "  </tbody>\n",
       "</table>\n",
       "</div>"
      ],
      "text/plain": [
       "                         journey_id                           user_id  \\\n",
       "0  23a1406fc6a11d866e3c82f22eed4d4c  0e9af5bbf1edfe591b54ecdfd7e91e26   \n",
       "1  dd2af4715d0dc16eded53afc0e243577  a553c46e3a22fb9c326aeb3d72b3334e   \n",
       "2  dd91e131888064bf7df3ce08f3d4b4ad  a553c46e3a22fb9c326aeb3d72b3334e   \n",
       "3  dd2af4715d0dc16eded53afc0e2466d0  a553c46e3a22fb9c326aeb3d72b3334e   \n",
       "4  85b7eabcf5d84e42dc7629b7d27781af  56772d544fdfa589a020a1ff894a86f7   \n",
       "\n",
       "  start_type     start_lat     start_lon  source  driver_score  \n",
       "0       asap  -12,13983536  -77,02355957  iPhone           5.0  \n",
       "1       asap  -12,13874817  -76,99536133  iPhone           NaN  \n",
       "2       asap  -12,12453079  -77,02780151  iPhone           NaN  \n",
       "3       asap  -12,13885117  -76,99530029  iPhone           NaN  \n",
       "4   reserved  -12,08995438  -76,92626953  iPhone           4.0  "
      ]
     },
     "execution_count": 3,
     "metadata": {},
     "output_type": "execute_result"
    }
   ],
   "source": [
    "passengers.head()"
   ]
  },
  {
   "cell_type": "code",
   "execution_count": 4,
   "metadata": {},
   "outputs": [
    {
     "data": {
      "text/html": [
       "<div>\n",
       "<style scoped>\n",
       "    .dataframe tbody tr th:only-of-type {\n",
       "        vertical-align: middle;\n",
       "    }\n",
       "\n",
       "    .dataframe tbody tr th {\n",
       "        vertical-align: top;\n",
       "    }\n",
       "\n",
       "    .dataframe thead th {\n",
       "        text-align: right;\n",
       "    }\n",
       "</style>\n",
       "<table border=\"1\" class=\"dataframe\">\n",
       "  <thead>\n",
       "    <tr style=\"text-align: right;\">\n",
       "      <th></th>\n",
       "      <th>journey_id</th>\n",
       "      <th>driver_id</th>\n",
       "      <th>taxi_id</th>\n",
       "      <th>icon</th>\n",
       "      <th>start_at</th>\n",
       "      <th>end_at</th>\n",
       "      <th>end_lat</th>\n",
       "      <th>end_lon</th>\n",
       "      <th>end_state</th>\n",
       "      <th>driver_start_lat</th>\n",
       "      <th>driver_start_lon</th>\n",
       "      <th>arrived_at</th>\n",
       "      <th>rider_score</th>\n",
       "    </tr>\n",
       "  </thead>\n",
       "  <tbody>\n",
       "    <tr>\n",
       "      <th>0</th>\n",
       "      <td>23a1406fc6a11d866e3c82f22eed4d4c</td>\n",
       "      <td>583949a89a9ee17d19e3ca4f137b6b4c</td>\n",
       "      <td>b12f4f09c783e29fe0d0ea624530db56</td>\n",
       "      <td>executive</td>\n",
       "      <td>2010-11-16 16:44:00</td>\n",
       "      <td>2010-11-16 17:29:00</td>\n",
       "      <td>-12,05537033</td>\n",
       "      <td>-77,0413208</td>\n",
       "      <td>drop off</td>\n",
       "      <td>-12,10825481</td>\n",
       "      <td>-77,0272739</td>\n",
       "      <td>2010-11-16 17:02:00</td>\n",
       "      <td>5.0</td>\n",
       "    </tr>\n",
       "    <tr>\n",
       "      <th>1</th>\n",
       "      <td>dd2af4715d0dc16eded53afc0e243577</td>\n",
       "      <td>NaN</td>\n",
       "      <td>NaN</td>\n",
       "      <td>executive</td>\n",
       "      <td>2010-06-01 00:34:00</td>\n",
       "      <td>2010-06-01 00:37:00</td>\n",
       "      <td>-12,12465668</td>\n",
       "      <td>-77,02886963</td>\n",
       "      <td>not found</td>\n",
       "      <td>NaN</td>\n",
       "      <td>NaN</td>\n",
       "      <td>NaN</td>\n",
       "      <td>NaN</td>\n",
       "    </tr>\n",
       "    <tr>\n",
       "      <th>2</th>\n",
       "      <td>dd91e131888064bf7df3ce08f3d4b4ad</td>\n",
       "      <td>NaN</td>\n",
       "      <td>NaN</td>\n",
       "      <td>executive</td>\n",
       "      <td>2010-05-31 05:01:00</td>\n",
       "      <td>2010-05-31 05:04:00</td>\n",
       "      <td>-12,13883209</td>\n",
       "      <td>-76,99530029</td>\n",
       "      <td>not found</td>\n",
       "      <td>NaN</td>\n",
       "      <td>NaN</td>\n",
       "      <td>NaN</td>\n",
       "      <td>NaN</td>\n",
       "    </tr>\n",
       "    <tr>\n",
       "      <th>3</th>\n",
       "      <td>dd2af4715d0dc16eded53afc0e2466d0</td>\n",
       "      <td>NaN</td>\n",
       "      <td>NaN</td>\n",
       "      <td>executive</td>\n",
       "      <td>2010-06-01 00:29:00</td>\n",
       "      <td>2010-06-01 00:32:00</td>\n",
       "      <td>-12,12458801</td>\n",
       "      <td>-77,02896118</td>\n",
       "      <td>not found</td>\n",
       "      <td>NaN</td>\n",
       "      <td>NaN</td>\n",
       "      <td>NaN</td>\n",
       "      <td>NaN</td>\n",
       "    </tr>\n",
       "    <tr>\n",
       "      <th>4</th>\n",
       "      <td>85b7eabcf5d84e42dc7629b7d27781af</td>\n",
       "      <td>d665fb9f75ef5d9cd0fd89479380ba78</td>\n",
       "      <td>0accdd3aa5a322f4129fa20b53278c69</td>\n",
       "      <td>executive</td>\n",
       "      <td>2010-09-11 23:55:00</td>\n",
       "      <td>2010-09-12 01:07:00</td>\n",
       "      <td>-12,02223206</td>\n",
       "      <td>-77,10638428</td>\n",
       "      <td>drop off</td>\n",
       "      <td>-12,08311558</td>\n",
       "      <td>-76,9277072</td>\n",
       "      <td>2010-09-11 23:50:00</td>\n",
       "      <td>5.0</td>\n",
       "    </tr>\n",
       "  </tbody>\n",
       "</table>\n",
       "</div>"
      ],
      "text/plain": [
       "                         journey_id                         driver_id  \\\n",
       "0  23a1406fc6a11d866e3c82f22eed4d4c  583949a89a9ee17d19e3ca4f137b6b4c   \n",
       "1  dd2af4715d0dc16eded53afc0e243577                               NaN   \n",
       "2  dd91e131888064bf7df3ce08f3d4b4ad                               NaN   \n",
       "3  dd2af4715d0dc16eded53afc0e2466d0                               NaN   \n",
       "4  85b7eabcf5d84e42dc7629b7d27781af  d665fb9f75ef5d9cd0fd89479380ba78   \n",
       "\n",
       "                            taxi_id       icon             start_at  \\\n",
       "0  b12f4f09c783e29fe0d0ea624530db56  executive  2010-11-16 16:44:00   \n",
       "1                               NaN  executive  2010-06-01 00:34:00   \n",
       "2                               NaN  executive  2010-05-31 05:01:00   \n",
       "3                               NaN  executive  2010-06-01 00:29:00   \n",
       "4  0accdd3aa5a322f4129fa20b53278c69  executive  2010-09-11 23:55:00   \n",
       "\n",
       "                end_at       end_lat       end_lon  end_state  \\\n",
       "0  2010-11-16 17:29:00  -12,05537033   -77,0413208   drop off   \n",
       "1  2010-06-01 00:37:00  -12,12465668  -77,02886963  not found   \n",
       "2  2010-05-31 05:04:00  -12,13883209  -76,99530029  not found   \n",
       "3  2010-06-01 00:32:00  -12,12458801  -77,02896118  not found   \n",
       "4  2010-09-12 01:07:00  -12,02223206  -77,10638428   drop off   \n",
       "\n",
       "  driver_start_lat driver_start_lon           arrived_at  rider_score  \n",
       "0     -12,10825481      -77,0272739  2010-11-16 17:02:00          5.0  \n",
       "1              NaN              NaN                  NaN          NaN  \n",
       "2              NaN              NaN                  NaN          NaN  \n",
       "3              NaN              NaN                  NaN          NaN  \n",
       "4     -12,08311558      -76,9277072  2010-09-11 23:50:00          5.0  "
      ]
     },
     "execution_count": 4,
     "metadata": {},
     "output_type": "execute_result"
    }
   ],
   "source": [
    "drivers.head()"
   ]
  },
  {
   "cell_type": "code",
   "execution_count": 10,
   "metadata": {},
   "outputs": [
    {
     "data": {
      "text/html": [
       "<div>\n",
       "<style scoped>\n",
       "    .dataframe tbody tr th:only-of-type {\n",
       "        vertical-align: middle;\n",
       "    }\n",
       "\n",
       "    .dataframe tbody tr th {\n",
       "        vertical-align: top;\n",
       "    }\n",
       "\n",
       "    .dataframe thead th {\n",
       "        text-align: right;\n",
       "    }\n",
       "</style>\n",
       "<table border=\"1\" class=\"dataframe\">\n",
       "  <thead>\n",
       "    <tr style=\"text-align: right;\">\n",
       "      <th></th>\n",
       "      <th>journey_id</th>\n",
       "      <th>driver_id</th>\n",
       "      <th>taxi_id</th>\n",
       "      <th>icon</th>\n",
       "      <th>start_at</th>\n",
       "      <th>end_at</th>\n",
       "      <th>end_lat</th>\n",
       "      <th>end_lon</th>\n",
       "      <th>end_state</th>\n",
       "      <th>driver_start_lat</th>\n",
       "      <th>driver_start_lon</th>\n",
       "      <th>arrived_at</th>\n",
       "      <th>rider_score</th>\n",
       "      <th>user_id</th>\n",
       "      <th>start_type</th>\n",
       "      <th>start_lat</th>\n",
       "      <th>start_lon</th>\n",
       "      <th>source</th>\n",
       "      <th>driver_score</th>\n",
       "    </tr>\n",
       "  </thead>\n",
       "  <tbody>\n",
       "    <tr>\n",
       "      <th>0</th>\n",
       "      <td>23a1406fc6a11d866e3c82f22eed4d4c</td>\n",
       "      <td>583949a89a9ee17d19e3ca4f137b6b4c</td>\n",
       "      <td>b12f4f09c783e29fe0d0ea624530db56</td>\n",
       "      <td>executive</td>\n",
       "      <td>2010-11-16 16:44:00</td>\n",
       "      <td>2010-11-16 17:29:00</td>\n",
       "      <td>-12,05537033</td>\n",
       "      <td>-77,0413208</td>\n",
       "      <td>drop off</td>\n",
       "      <td>-12,10825481</td>\n",
       "      <td>-77,0272739</td>\n",
       "      <td>2010-11-16 17:02:00</td>\n",
       "      <td>5.0</td>\n",
       "      <td>0e9af5bbf1edfe591b54ecdfd7e91e26</td>\n",
       "      <td>asap</td>\n",
       "      <td>-12,13983536</td>\n",
       "      <td>-77,02355957</td>\n",
       "      <td>iPhone</td>\n",
       "      <td>5.0</td>\n",
       "    </tr>\n",
       "    <tr>\n",
       "      <th>1</th>\n",
       "      <td>dd2af4715d0dc16eded53afc0e243577</td>\n",
       "      <td>NaN</td>\n",
       "      <td>NaN</td>\n",
       "      <td>executive</td>\n",
       "      <td>2010-06-01 00:34:00</td>\n",
       "      <td>2010-06-01 00:37:00</td>\n",
       "      <td>-12,12465668</td>\n",
       "      <td>-77,02886963</td>\n",
       "      <td>not found</td>\n",
       "      <td>NaN</td>\n",
       "      <td>NaN</td>\n",
       "      <td>NaN</td>\n",
       "      <td>NaN</td>\n",
       "      <td>a553c46e3a22fb9c326aeb3d72b3334e</td>\n",
       "      <td>asap</td>\n",
       "      <td>-12,13874817</td>\n",
       "      <td>-76,99536133</td>\n",
       "      <td>iPhone</td>\n",
       "      <td>NaN</td>\n",
       "    </tr>\n",
       "    <tr>\n",
       "      <th>2</th>\n",
       "      <td>dd91e131888064bf7df3ce08f3d4b4ad</td>\n",
       "      <td>NaN</td>\n",
       "      <td>NaN</td>\n",
       "      <td>executive</td>\n",
       "      <td>2010-05-31 05:01:00</td>\n",
       "      <td>2010-05-31 05:04:00</td>\n",
       "      <td>-12,13883209</td>\n",
       "      <td>-76,99530029</td>\n",
       "      <td>not found</td>\n",
       "      <td>NaN</td>\n",
       "      <td>NaN</td>\n",
       "      <td>NaN</td>\n",
       "      <td>NaN</td>\n",
       "      <td>a553c46e3a22fb9c326aeb3d72b3334e</td>\n",
       "      <td>asap</td>\n",
       "      <td>-12,12453079</td>\n",
       "      <td>-77,02780151</td>\n",
       "      <td>iPhone</td>\n",
       "      <td>NaN</td>\n",
       "    </tr>\n",
       "    <tr>\n",
       "      <th>3</th>\n",
       "      <td>dd2af4715d0dc16eded53afc0e2466d0</td>\n",
       "      <td>NaN</td>\n",
       "      <td>NaN</td>\n",
       "      <td>executive</td>\n",
       "      <td>2010-06-01 00:29:00</td>\n",
       "      <td>2010-06-01 00:32:00</td>\n",
       "      <td>-12,12458801</td>\n",
       "      <td>-77,02896118</td>\n",
       "      <td>not found</td>\n",
       "      <td>NaN</td>\n",
       "      <td>NaN</td>\n",
       "      <td>NaN</td>\n",
       "      <td>NaN</td>\n",
       "      <td>a553c46e3a22fb9c326aeb3d72b3334e</td>\n",
       "      <td>asap</td>\n",
       "      <td>-12,13885117</td>\n",
       "      <td>-76,99530029</td>\n",
       "      <td>iPhone</td>\n",
       "      <td>NaN</td>\n",
       "    </tr>\n",
       "    <tr>\n",
       "      <th>4</th>\n",
       "      <td>85b7eabcf5d84e42dc7629b7d27781af</td>\n",
       "      <td>d665fb9f75ef5d9cd0fd89479380ba78</td>\n",
       "      <td>0accdd3aa5a322f4129fa20b53278c69</td>\n",
       "      <td>executive</td>\n",
       "      <td>2010-09-11 23:55:00</td>\n",
       "      <td>2010-09-12 01:07:00</td>\n",
       "      <td>-12,02223206</td>\n",
       "      <td>-77,10638428</td>\n",
       "      <td>drop off</td>\n",
       "      <td>-12,08311558</td>\n",
       "      <td>-76,9277072</td>\n",
       "      <td>2010-09-11 23:50:00</td>\n",
       "      <td>5.0</td>\n",
       "      <td>56772d544fdfa589a020a1ff894a86f7</td>\n",
       "      <td>reserved</td>\n",
       "      <td>-12,08995438</td>\n",
       "      <td>-76,92626953</td>\n",
       "      <td>iPhone</td>\n",
       "      <td>4.0</td>\n",
       "    </tr>\n",
       "  </tbody>\n",
       "</table>\n",
       "</div>"
      ],
      "text/plain": [
       "                         journey_id                         driver_id  \\\n",
       "0  23a1406fc6a11d866e3c82f22eed4d4c  583949a89a9ee17d19e3ca4f137b6b4c   \n",
       "1  dd2af4715d0dc16eded53afc0e243577                               NaN   \n",
       "2  dd91e131888064bf7df3ce08f3d4b4ad                               NaN   \n",
       "3  dd2af4715d0dc16eded53afc0e2466d0                               NaN   \n",
       "4  85b7eabcf5d84e42dc7629b7d27781af  d665fb9f75ef5d9cd0fd89479380ba78   \n",
       "\n",
       "                            taxi_id       icon             start_at  \\\n",
       "0  b12f4f09c783e29fe0d0ea624530db56  executive  2010-11-16 16:44:00   \n",
       "1                               NaN  executive  2010-06-01 00:34:00   \n",
       "2                               NaN  executive  2010-05-31 05:01:00   \n",
       "3                               NaN  executive  2010-06-01 00:29:00   \n",
       "4  0accdd3aa5a322f4129fa20b53278c69  executive  2010-09-11 23:55:00   \n",
       "\n",
       "                end_at       end_lat       end_lon  end_state  \\\n",
       "0  2010-11-16 17:29:00  -12,05537033   -77,0413208   drop off   \n",
       "1  2010-06-01 00:37:00  -12,12465668  -77,02886963  not found   \n",
       "2  2010-05-31 05:04:00  -12,13883209  -76,99530029  not found   \n",
       "3  2010-06-01 00:32:00  -12,12458801  -77,02896118  not found   \n",
       "4  2010-09-12 01:07:00  -12,02223206  -77,10638428   drop off   \n",
       "\n",
       "  driver_start_lat driver_start_lon           arrived_at  rider_score  \\\n",
       "0     -12,10825481      -77,0272739  2010-11-16 17:02:00          5.0   \n",
       "1              NaN              NaN                  NaN          NaN   \n",
       "2              NaN              NaN                  NaN          NaN   \n",
       "3              NaN              NaN                  NaN          NaN   \n",
       "4     -12,08311558      -76,9277072  2010-09-11 23:50:00          5.0   \n",
       "\n",
       "                            user_id start_type     start_lat     start_lon  \\\n",
       "0  0e9af5bbf1edfe591b54ecdfd7e91e26       asap  -12,13983536  -77,02355957   \n",
       "1  a553c46e3a22fb9c326aeb3d72b3334e       asap  -12,13874817  -76,99536133   \n",
       "2  a553c46e3a22fb9c326aeb3d72b3334e       asap  -12,12453079  -77,02780151   \n",
       "3  a553c46e3a22fb9c326aeb3d72b3334e       asap  -12,13885117  -76,99530029   \n",
       "4  56772d544fdfa589a020a1ff894a86f7   reserved  -12,08995438  -76,92626953   \n",
       "\n",
       "   source  driver_score  \n",
       "0  iPhone           5.0  \n",
       "1  iPhone           NaN  \n",
       "2  iPhone           NaN  \n",
       "3  iPhone           NaN  \n",
       "4  iPhone           4.0  "
      ]
     },
     "execution_count": 10,
     "metadata": {},
     "output_type": "execute_result"
    }
   ],
   "source": [
    "df = drivers.merge(passengers, on='journey_id')\n",
    "df.head()"
   ]
  },
  {
   "cell_type": "code",
   "execution_count": 12,
   "metadata": {
    "id": "8kqSuAuTjObh"
   },
   "outputs": [
    {
     "data": {
      "text/plain": [
       "(11555, 19)"
      ]
     },
     "execution_count": 12,
     "metadata": {},
     "output_type": "execute_result"
    }
   ],
   "source": [
    "df.shape\n"
   ]
  },
  {
   "cell_type": "code",
   "execution_count": 19,
   "metadata": {},
   "outputs": [
    {
     "data": {
      "text/plain": [
       "journey_id           object\n",
       "driver_id            object\n",
       "taxi_id              object\n",
       "icon                 object\n",
       "start_at             object\n",
       "end_at               object\n",
       "end_lat              object\n",
       "end_lon              object\n",
       "end_state            object\n",
       "driver_start_lat     object\n",
       "driver_start_lon     object\n",
       "arrived_at           object\n",
       "rider_score         float64\n",
       "user_id              object\n",
       "start_type           object\n",
       "start_lat            object\n",
       "start_lon            object\n",
       "source               object\n",
       "driver_score        float64\n",
       "dtype: object"
      ]
     },
     "execution_count": 19,
     "metadata": {},
     "output_type": "execute_result"
    }
   ],
   "source": [
    "df.dtypes"
   ]
  },
  {
   "cell_type": "code",
   "execution_count": 20,
   "metadata": {
    "id": "fVHI5tm1jObh"
   },
   "outputs": [
    {
     "name": "stdout",
     "output_type": "stream",
     "text": [
      "17\n"
     ]
    }
   ],
   "source": [
    "c = 0\n",
    "for el in df.dtypes:\n",
    "    if el == 'object':\n",
    "        c += 1\n",
    "print(c)"
   ]
  },
  {
   "cell_type": "markdown",
   "metadata": {
    "id": "sQhQjo_XjObj"
   },
   "source": [
    "## Шаг 3"
   ]
  },
  {
   "cell_type": "markdown",
   "metadata": {
    "id": "IRjx0fhLjObj"
   },
   "source": [
    "**Теперь первую часть данных (объединенный датафрейм) нужно соединить со второй частью из датасета `taxi_2`.** Для этого сначала прочитайте датасет `taxi_2`. После этого соедините (сконкатенируйте) первую (полученную на прошлом шаге) и вторую часть данных. **Датафрейм какого размера у вас получился?**"
   ]
  },
  {
   "cell_type": "code",
   "execution_count": 27,
   "metadata": {
    "id": "bw0v0ASSjObr"
   },
   "outputs": [],
   "source": [
    "taxi = pd.read_csv('taxi_2.csv')"
   ]
  },
  {
   "cell_type": "code",
   "execution_count": 28,
   "metadata": {
    "id": "uHzrMafwjObr"
   },
   "outputs": [
    {
     "data": {
      "text/html": [
       "<div>\n",
       "<style scoped>\n",
       "    .dataframe tbody tr th:only-of-type {\n",
       "        vertical-align: middle;\n",
       "    }\n",
       "\n",
       "    .dataframe tbody tr th {\n",
       "        vertical-align: top;\n",
       "    }\n",
       "\n",
       "    .dataframe thead th {\n",
       "        text-align: right;\n",
       "    }\n",
       "</style>\n",
       "<table border=\"1\" class=\"dataframe\">\n",
       "  <thead>\n",
       "    <tr style=\"text-align: right;\">\n",
       "      <th></th>\n",
       "      <th>journey_id</th>\n",
       "      <th>user_id</th>\n",
       "      <th>driver_id</th>\n",
       "      <th>taxi_id</th>\n",
       "      <th>icon</th>\n",
       "      <th>start_type</th>\n",
       "      <th>start_at</th>\n",
       "      <th>start_lat</th>\n",
       "      <th>start_lon</th>\n",
       "      <th>end_at</th>\n",
       "      <th>end_lat</th>\n",
       "      <th>end_lon</th>\n",
       "      <th>end_state</th>\n",
       "      <th>driver_start_lat</th>\n",
       "      <th>driver_start_lon</th>\n",
       "      <th>arrived_at</th>\n",
       "      <th>source</th>\n",
       "      <th>driver_score</th>\n",
       "      <th>rider_score</th>\n",
       "    </tr>\n",
       "  </thead>\n",
       "  <tbody>\n",
       "    <tr>\n",
       "      <th>0</th>\n",
       "      <td>b6206048fbda6d454ead4fa2b4b9beaf</td>\n",
       "      <td>d0de230345480ca6bcc86ce1eb89fbfa</td>\n",
       "      <td>40187316352d2c03ddc19e9c8ad7c514</td>\n",
       "      <td>42aa958edf790ef3d45823386fb734ea</td>\n",
       "      <td>executive</td>\n",
       "      <td>asap</td>\n",
       "      <td>2010-11-30 03:38:00</td>\n",
       "      <td>-11,95227432</td>\n",
       "      <td>-76,81442261</td>\n",
       "      <td>2010-11-30 03:39:00</td>\n",
       "      <td>40,4052887</td>\n",
       "      <td>-3,72117424</td>\n",
       "      <td>rider cancel</td>\n",
       "      <td>-12,08863069</td>\n",
       "      <td>-76,96650439</td>\n",
       "      <td>NaN</td>\n",
       "      <td>iPhone</td>\n",
       "      <td>NaN</td>\n",
       "      <td>NaN</td>\n",
       "    </tr>\n",
       "    <tr>\n",
       "      <th>1</th>\n",
       "      <td>d2cf43d9f47c6512b84e1ea7b8746a0c</td>\n",
       "      <td>8e37a68fab5f31a5e2c1b5f77c6bb9e5</td>\n",
       "      <td>1d8ba0bdacccf2d0d70ee9925185d231</td>\n",
       "      <td>1d8ba0bdacccf2d0d70ee99251862c54</td>\n",
       "      <td>executive</td>\n",
       "      <td>reserved</td>\n",
       "      <td>2010-11-28 22:30:00</td>\n",
       "      <td>-12,0495456</td>\n",
       "      <td>-77,1116799</td>\n",
       "      <td>2010-11-29 00:22:00</td>\n",
       "      <td>-12,11973</td>\n",
       "      <td>-76,998734</td>\n",
       "      <td>drop off</td>\n",
       "      <td>-12,04809647</td>\n",
       "      <td>-77,096405</td>\n",
       "      <td>2010-11-28 22:02:00</td>\n",
       "      <td>web</td>\n",
       "      <td>NaN</td>\n",
       "      <td>NaN</td>\n",
       "    </tr>\n",
       "    <tr>\n",
       "      <th>2</th>\n",
       "      <td>7c01cd25b39f4f8b234bf56d48a5e9c9</td>\n",
       "      <td>8e37a68fab5f31a5e2c1b5f77c6bb9e5</td>\n",
       "      <td>ecdcce0c956e266ed26c80fd9e5cbb8f</td>\n",
       "      <td>1d3c551d7fc3d0daf73f0a8c82781c2d</td>\n",
       "      <td>executive</td>\n",
       "      <td>reserved</td>\n",
       "      <td>2010-11-28 22:30:00</td>\n",
       "      <td>-12,0511575</td>\n",
       "      <td>-77,1300437</td>\n",
       "      <td>2010-11-28 23:04:00</td>\n",
       "      <td>-12,0794453</td>\n",
       "      <td>-77,0896372</td>\n",
       "      <td>drop off</td>\n",
       "      <td>0</td>\n",
       "      <td>0</td>\n",
       "      <td>2010-11-28 22:34:00</td>\n",
       "      <td>web</td>\n",
       "      <td>NaN</td>\n",
       "      <td>NaN</td>\n",
       "    </tr>\n",
       "    <tr>\n",
       "      <th>3</th>\n",
       "      <td>ab90a1bf4289d96e78d4a47d7cc2286d</td>\n",
       "      <td>1e639fc120efea2675ac138ebeac4c2f</td>\n",
       "      <td>12c472dd8efc6ed622ae8669251b82f1</td>\n",
       "      <td>c26f22be31323781fd478dbcf8926d44</td>\n",
       "      <td>executive</td>\n",
       "      <td>asap</td>\n",
       "      <td>2010-11-28 01:04:00</td>\n",
       "      <td>-12,0979889</td>\n",
       "      <td>-77,0223812</td>\n",
       "      <td>2010-11-28 01:32:00</td>\n",
       "      <td>-12,1192177</td>\n",
       "      <td>-77,0413569</td>\n",
       "      <td>drop off</td>\n",
       "      <td>-12,08757569</td>\n",
       "      <td>-77,03611258</td>\n",
       "      <td>2010-11-28 01:15:00</td>\n",
       "      <td>web</td>\n",
       "      <td>NaN</td>\n",
       "      <td>4.0</td>\n",
       "    </tr>\n",
       "    <tr>\n",
       "      <th>4</th>\n",
       "      <td>d2cf43d9f47c6512b84e1ea7b8740874</td>\n",
       "      <td>2f1882c87731970df63e69d4bc254f96</td>\n",
       "      <td>3abce16ea601affbeae8f50584ce72ef</td>\n",
       "      <td>ab6ee368af1a9e1293acc0d14d1f9338</td>\n",
       "      <td>executive</td>\n",
       "      <td>reserved</td>\n",
       "      <td>2010-11-28 01:50:00</td>\n",
       "      <td>-12,0903136</td>\n",
       "      <td>-77,0424105</td>\n",
       "      <td>2010-11-28 02:18:00</td>\n",
       "      <td>43,5398067</td>\n",
       "      <td>-5,6575304</td>\n",
       "      <td>drop off</td>\n",
       "      <td>-12,11418993</td>\n",
       "      <td>-77,03732522</td>\n",
       "      <td>2010-11-28 01:43:00</td>\n",
       "      <td>Wap</td>\n",
       "      <td>NaN</td>\n",
       "      <td>5.0</td>\n",
       "    </tr>\n",
       "  </tbody>\n",
       "</table>\n",
       "</div>"
      ],
      "text/plain": [
       "                         journey_id                           user_id  \\\n",
       "0  b6206048fbda6d454ead4fa2b4b9beaf  d0de230345480ca6bcc86ce1eb89fbfa   \n",
       "1  d2cf43d9f47c6512b84e1ea7b8746a0c  8e37a68fab5f31a5e2c1b5f77c6bb9e5   \n",
       "2  7c01cd25b39f4f8b234bf56d48a5e9c9  8e37a68fab5f31a5e2c1b5f77c6bb9e5   \n",
       "3  ab90a1bf4289d96e78d4a47d7cc2286d  1e639fc120efea2675ac138ebeac4c2f   \n",
       "4  d2cf43d9f47c6512b84e1ea7b8740874  2f1882c87731970df63e69d4bc254f96   \n",
       "\n",
       "                          driver_id                           taxi_id  \\\n",
       "0  40187316352d2c03ddc19e9c8ad7c514  42aa958edf790ef3d45823386fb734ea   \n",
       "1  1d8ba0bdacccf2d0d70ee9925185d231  1d8ba0bdacccf2d0d70ee99251862c54   \n",
       "2  ecdcce0c956e266ed26c80fd9e5cbb8f  1d3c551d7fc3d0daf73f0a8c82781c2d   \n",
       "3  12c472dd8efc6ed622ae8669251b82f1  c26f22be31323781fd478dbcf8926d44   \n",
       "4  3abce16ea601affbeae8f50584ce72ef  ab6ee368af1a9e1293acc0d14d1f9338   \n",
       "\n",
       "        icon start_type             start_at     start_lat     start_lon  \\\n",
       "0  executive       asap  2010-11-30 03:38:00  -11,95227432  -76,81442261   \n",
       "1  executive   reserved  2010-11-28 22:30:00   -12,0495456   -77,1116799   \n",
       "2  executive   reserved  2010-11-28 22:30:00   -12,0511575   -77,1300437   \n",
       "3  executive       asap  2010-11-28 01:04:00   -12,0979889   -77,0223812   \n",
       "4  executive   reserved  2010-11-28 01:50:00   -12,0903136   -77,0424105   \n",
       "\n",
       "                end_at      end_lat      end_lon     end_state  \\\n",
       "0  2010-11-30 03:39:00   40,4052887  -3,72117424  rider cancel   \n",
       "1  2010-11-29 00:22:00    -12,11973   -76,998734      drop off   \n",
       "2  2010-11-28 23:04:00  -12,0794453  -77,0896372      drop off   \n",
       "3  2010-11-28 01:32:00  -12,1192177  -77,0413569      drop off   \n",
       "4  2010-11-28 02:18:00   43,5398067   -5,6575304      drop off   \n",
       "\n",
       "  driver_start_lat driver_start_lon           arrived_at  source  \\\n",
       "0     -12,08863069     -76,96650439                  NaN  iPhone   \n",
       "1     -12,04809647       -77,096405  2010-11-28 22:02:00     web   \n",
       "2                0                0  2010-11-28 22:34:00     web   \n",
       "3     -12,08757569     -77,03611258  2010-11-28 01:15:00     web   \n",
       "4     -12,11418993     -77,03732522  2010-11-28 01:43:00     Wap   \n",
       "\n",
       "   driver_score  rider_score  \n",
       "0           NaN          NaN  \n",
       "1           NaN          NaN  \n",
       "2           NaN          NaN  \n",
       "3           NaN          4.0  \n",
       "4           NaN          5.0  "
      ]
     },
     "execution_count": 28,
     "metadata": {},
     "output_type": "execute_result"
    }
   ],
   "source": [
    "taxi.head()"
   ]
  },
  {
   "cell_type": "code",
   "execution_count": 29,
   "metadata": {
    "id": "ddVcwrk9jObs"
   },
   "outputs": [],
   "source": [
    "df_new = pd.concat([df, taxi])"
   ]
  },
  {
   "cell_type": "code",
   "execution_count": 30,
   "metadata": {},
   "outputs": [
    {
     "data": {
      "text/html": [
       "<div>\n",
       "<style scoped>\n",
       "    .dataframe tbody tr th:only-of-type {\n",
       "        vertical-align: middle;\n",
       "    }\n",
       "\n",
       "    .dataframe tbody tr th {\n",
       "        vertical-align: top;\n",
       "    }\n",
       "\n",
       "    .dataframe thead th {\n",
       "        text-align: right;\n",
       "    }\n",
       "</style>\n",
       "<table border=\"1\" class=\"dataframe\">\n",
       "  <thead>\n",
       "    <tr style=\"text-align: right;\">\n",
       "      <th></th>\n",
       "      <th>journey_id</th>\n",
       "      <th>driver_id</th>\n",
       "      <th>taxi_id</th>\n",
       "      <th>icon</th>\n",
       "      <th>start_at</th>\n",
       "      <th>end_at</th>\n",
       "      <th>end_lat</th>\n",
       "      <th>end_lon</th>\n",
       "      <th>end_state</th>\n",
       "      <th>driver_start_lat</th>\n",
       "      <th>driver_start_lon</th>\n",
       "      <th>arrived_at</th>\n",
       "      <th>rider_score</th>\n",
       "      <th>user_id</th>\n",
       "      <th>start_type</th>\n",
       "      <th>start_lat</th>\n",
       "      <th>start_lon</th>\n",
       "      <th>source</th>\n",
       "      <th>driver_score</th>\n",
       "    </tr>\n",
       "  </thead>\n",
       "  <tbody>\n",
       "    <tr>\n",
       "      <th>0</th>\n",
       "      <td>23a1406fc6a11d866e3c82f22eed4d4c</td>\n",
       "      <td>583949a89a9ee17d19e3ca4f137b6b4c</td>\n",
       "      <td>b12f4f09c783e29fe0d0ea624530db56</td>\n",
       "      <td>executive</td>\n",
       "      <td>2010-11-16 16:44:00</td>\n",
       "      <td>2010-11-16 17:29:00</td>\n",
       "      <td>-12,05537033</td>\n",
       "      <td>-77,0413208</td>\n",
       "      <td>drop off</td>\n",
       "      <td>-12,10825481</td>\n",
       "      <td>-77,0272739</td>\n",
       "      <td>2010-11-16 17:02:00</td>\n",
       "      <td>5.0</td>\n",
       "      <td>0e9af5bbf1edfe591b54ecdfd7e91e26</td>\n",
       "      <td>asap</td>\n",
       "      <td>-12,13983536</td>\n",
       "      <td>-77,02355957</td>\n",
       "      <td>iPhone</td>\n",
       "      <td>5.0</td>\n",
       "    </tr>\n",
       "    <tr>\n",
       "      <th>1</th>\n",
       "      <td>dd2af4715d0dc16eded53afc0e243577</td>\n",
       "      <td>NaN</td>\n",
       "      <td>NaN</td>\n",
       "      <td>executive</td>\n",
       "      <td>2010-06-01 00:34:00</td>\n",
       "      <td>2010-06-01 00:37:00</td>\n",
       "      <td>-12,12465668</td>\n",
       "      <td>-77,02886963</td>\n",
       "      <td>not found</td>\n",
       "      <td>NaN</td>\n",
       "      <td>NaN</td>\n",
       "      <td>NaN</td>\n",
       "      <td>NaN</td>\n",
       "      <td>a553c46e3a22fb9c326aeb3d72b3334e</td>\n",
       "      <td>asap</td>\n",
       "      <td>-12,13874817</td>\n",
       "      <td>-76,99536133</td>\n",
       "      <td>iPhone</td>\n",
       "      <td>NaN</td>\n",
       "    </tr>\n",
       "    <tr>\n",
       "      <th>2</th>\n",
       "      <td>dd91e131888064bf7df3ce08f3d4b4ad</td>\n",
       "      <td>NaN</td>\n",
       "      <td>NaN</td>\n",
       "      <td>executive</td>\n",
       "      <td>2010-05-31 05:01:00</td>\n",
       "      <td>2010-05-31 05:04:00</td>\n",
       "      <td>-12,13883209</td>\n",
       "      <td>-76,99530029</td>\n",
       "      <td>not found</td>\n",
       "      <td>NaN</td>\n",
       "      <td>NaN</td>\n",
       "      <td>NaN</td>\n",
       "      <td>NaN</td>\n",
       "      <td>a553c46e3a22fb9c326aeb3d72b3334e</td>\n",
       "      <td>asap</td>\n",
       "      <td>-12,12453079</td>\n",
       "      <td>-77,02780151</td>\n",
       "      <td>iPhone</td>\n",
       "      <td>NaN</td>\n",
       "    </tr>\n",
       "    <tr>\n",
       "      <th>3</th>\n",
       "      <td>dd2af4715d0dc16eded53afc0e2466d0</td>\n",
       "      <td>NaN</td>\n",
       "      <td>NaN</td>\n",
       "      <td>executive</td>\n",
       "      <td>2010-06-01 00:29:00</td>\n",
       "      <td>2010-06-01 00:32:00</td>\n",
       "      <td>-12,12458801</td>\n",
       "      <td>-77,02896118</td>\n",
       "      <td>not found</td>\n",
       "      <td>NaN</td>\n",
       "      <td>NaN</td>\n",
       "      <td>NaN</td>\n",
       "      <td>NaN</td>\n",
       "      <td>a553c46e3a22fb9c326aeb3d72b3334e</td>\n",
       "      <td>asap</td>\n",
       "      <td>-12,13885117</td>\n",
       "      <td>-76,99530029</td>\n",
       "      <td>iPhone</td>\n",
       "      <td>NaN</td>\n",
       "    </tr>\n",
       "    <tr>\n",
       "      <th>4</th>\n",
       "      <td>85b7eabcf5d84e42dc7629b7d27781af</td>\n",
       "      <td>d665fb9f75ef5d9cd0fd89479380ba78</td>\n",
       "      <td>0accdd3aa5a322f4129fa20b53278c69</td>\n",
       "      <td>executive</td>\n",
       "      <td>2010-09-11 23:55:00</td>\n",
       "      <td>2010-09-12 01:07:00</td>\n",
       "      <td>-12,02223206</td>\n",
       "      <td>-77,10638428</td>\n",
       "      <td>drop off</td>\n",
       "      <td>-12,08311558</td>\n",
       "      <td>-76,9277072</td>\n",
       "      <td>2010-09-11 23:50:00</td>\n",
       "      <td>5.0</td>\n",
       "      <td>56772d544fdfa589a020a1ff894a86f7</td>\n",
       "      <td>reserved</td>\n",
       "      <td>-12,08995438</td>\n",
       "      <td>-76,92626953</td>\n",
       "      <td>iPhone</td>\n",
       "      <td>4.0</td>\n",
       "    </tr>\n",
       "  </tbody>\n",
       "</table>\n",
       "</div>"
      ],
      "text/plain": [
       "                         journey_id                         driver_id  \\\n",
       "0  23a1406fc6a11d866e3c82f22eed4d4c  583949a89a9ee17d19e3ca4f137b6b4c   \n",
       "1  dd2af4715d0dc16eded53afc0e243577                               NaN   \n",
       "2  dd91e131888064bf7df3ce08f3d4b4ad                               NaN   \n",
       "3  dd2af4715d0dc16eded53afc0e2466d0                               NaN   \n",
       "4  85b7eabcf5d84e42dc7629b7d27781af  d665fb9f75ef5d9cd0fd89479380ba78   \n",
       "\n",
       "                            taxi_id       icon             start_at  \\\n",
       "0  b12f4f09c783e29fe0d0ea624530db56  executive  2010-11-16 16:44:00   \n",
       "1                               NaN  executive  2010-06-01 00:34:00   \n",
       "2                               NaN  executive  2010-05-31 05:01:00   \n",
       "3                               NaN  executive  2010-06-01 00:29:00   \n",
       "4  0accdd3aa5a322f4129fa20b53278c69  executive  2010-09-11 23:55:00   \n",
       "\n",
       "                end_at       end_lat       end_lon  end_state  \\\n",
       "0  2010-11-16 17:29:00  -12,05537033   -77,0413208   drop off   \n",
       "1  2010-06-01 00:37:00  -12,12465668  -77,02886963  not found   \n",
       "2  2010-05-31 05:04:00  -12,13883209  -76,99530029  not found   \n",
       "3  2010-06-01 00:32:00  -12,12458801  -77,02896118  not found   \n",
       "4  2010-09-12 01:07:00  -12,02223206  -77,10638428   drop off   \n",
       "\n",
       "  driver_start_lat driver_start_lon           arrived_at  rider_score  \\\n",
       "0     -12,10825481      -77,0272739  2010-11-16 17:02:00          5.0   \n",
       "1              NaN              NaN                  NaN          NaN   \n",
       "2              NaN              NaN                  NaN          NaN   \n",
       "3              NaN              NaN                  NaN          NaN   \n",
       "4     -12,08311558      -76,9277072  2010-09-11 23:50:00          5.0   \n",
       "\n",
       "                            user_id start_type     start_lat     start_lon  \\\n",
       "0  0e9af5bbf1edfe591b54ecdfd7e91e26       asap  -12,13983536  -77,02355957   \n",
       "1  a553c46e3a22fb9c326aeb3d72b3334e       asap  -12,13874817  -76,99536133   \n",
       "2  a553c46e3a22fb9c326aeb3d72b3334e       asap  -12,12453079  -77,02780151   \n",
       "3  a553c46e3a22fb9c326aeb3d72b3334e       asap  -12,13885117  -76,99530029   \n",
       "4  56772d544fdfa589a020a1ff894a86f7   reserved  -12,08995438  -76,92626953   \n",
       "\n",
       "   source  driver_score  \n",
       "0  iPhone           5.0  \n",
       "1  iPhone           NaN  \n",
       "2  iPhone           NaN  \n",
       "3  iPhone           NaN  \n",
       "4  iPhone           4.0  "
      ]
     },
     "execution_count": 30,
     "metadata": {},
     "output_type": "execute_result"
    }
   ],
   "source": [
    "df_new.head()"
   ]
  },
  {
   "cell_type": "code",
   "execution_count": 31,
   "metadata": {
    "id": "k3MpEyjgjObs"
   },
   "outputs": [
    {
     "data": {
      "text/plain": [
       "(23111, 19)"
      ]
     },
     "execution_count": 31,
     "metadata": {},
     "output_type": "execute_result"
    }
   ],
   "source": [
    "df_new.shape\n",
    "\n"
   ]
  },
  {
   "cell_type": "markdown",
   "metadata": {
    "id": "XtimolQ3jObt"
   },
   "source": [
    "## Шаг 4"
   ]
  },
  {
   "cell_type": "markdown",
   "metadata": {
    "id": "9JaE_z38jObt"
   },
   "source": [
    "Теперь во всех заданиях будем работать с полным датафреймом, собранным из трех частей. Прежде чем перейдем к анализу этих данных, стоит узнать, есть ли в них пропущенные значения и как много. **Проверьте, в какой колонке датафрейма больше всего пропущенных значений.** Введите её название."
   ]
  },
  {
   "cell_type": "code",
   "execution_count": 33,
   "metadata": {
    "id": "PSI4ekEjjObu"
   },
   "outputs": [
    {
     "data": {
      "text/plain": [
       "journey_id              0\n",
       "driver_id            3385\n",
       "taxi_id              3385\n",
       "icon                    0\n",
       "start_at                0\n",
       "end_at                276\n",
       "end_lat                 0\n",
       "end_lon                 0\n",
       "end_state              12\n",
       "driver_start_lat     3490\n",
       "driver_start_lon     3490\n",
       "arrived_at           5395\n",
       "rider_score          7721\n",
       "user_id                 0\n",
       "start_type              0\n",
       "start_lat               0\n",
       "start_lon               0\n",
       "source                123\n",
       "driver_score        15461\n",
       "dtype: int64"
      ]
     },
     "execution_count": 33,
     "metadata": {},
     "output_type": "execute_result"
    }
   ],
   "source": [
    "df_new.isna().sum()"
   ]
  },
  {
   "cell_type": "markdown",
   "metadata": {
    "id": "qUVGJkpSjObu"
   },
   "source": [
    "## Шаг 5"
   ]
  },
  {
   "cell_type": "markdown",
   "metadata": {
    "id": "UHHQUN4rjObv"
   },
   "source": [
    "Теперь перейдем к анализу данных и начнем с платформ. Посмотрите, какие платформы есть в наших данных. **В ответе укажите число уникальных названий платформ**"
   ]
  },
  {
   "cell_type": "code",
   "execution_count": 38,
   "metadata": {
    "id": "ACuTLsDsjObv"
   },
   "outputs": [
    {
     "data": {
      "text/plain": [
       "array(['iPhone', 'Android', 'web', 'iPad', 'Wap'], dtype=object)"
      ]
     },
     "execution_count": 38,
     "metadata": {},
     "output_type": "execute_result"
    }
   ],
   "source": [
    "res = df_new.source.dropna().unique()\n",
    "res"
   ]
  },
  {
   "cell_type": "code",
   "execution_count": 39,
   "metadata": {
    "id": "UzttDv7ZjObv"
   },
   "outputs": [
    {
     "data": {
      "text/plain": [
       "5"
      ]
     },
     "execution_count": 39,
     "metadata": {},
     "output_type": "execute_result"
    }
   ],
   "source": [
    "len(res)\n"
   ]
  },
  {
   "cell_type": "markdown",
   "metadata": {
    "id": "Y7mrCgQIjObw"
   },
   "source": [
    "## Шаг 6"
   ]
  },
  {
   "cell_type": "markdown",
   "metadata": {
    "id": "4589vsiBjObw"
   },
   "source": [
    "Перейдем к анализу этих платформ. **Определите долю заказов, сделанных с той или иной платформы.** У какой платформы эта доля самая большая? **В ответе укажите значение наибольшей доли заказов в %, округлённое до целого.**"
   ]
  },
  {
   "cell_type": "code",
   "execution_count": 46,
   "metadata": {
    "id": "dV6CAOEnjObw"
   },
   "outputs": [
    {
     "data": {
      "text/plain": [
       "iPhone     42.374282\n",
       "web        33.195580\n",
       "Android    21.354620\n",
       "iPad        2.483905\n",
       "Wap         0.591613\n",
       "Name: source, dtype: float64"
      ]
     },
     "execution_count": 46,
     "metadata": {},
     "output_type": "execute_result"
    }
   ],
   "source": [
    "res = df_new.source.value_counts(normalize=True)*100\n",
    "res"
   ]
  },
  {
   "cell_type": "markdown",
   "metadata": {
    "id": "gWgA8CBKjObx"
   },
   "source": [
    "## Шаг 7"
   ]
  },
  {
   "cell_type": "markdown",
   "metadata": {
    "id": "IcChz-KEjOby"
   },
   "source": [
    "Чтобы различие в количестве заказов с той или иной платформы было нагляднее, построим график. **Агрегируйте данные и постройте барчарт, где по оси `x` будет расположено название платформы (`source`), а по оси `y` – количество заказов (абсолютные значения, не доля).**\n",
    "\n",
    "Выберите, какой график у вас получился?\n",
    "\n",
    "*Если на графике не видны значения на осях, используйте светлую тему в JupyterHub или посмотрите графики на LMS*"
   ]
  },
  {
   "cell_type": "markdown",
   "metadata": {},
   "source": [
    "![](https://storage.yandexcloud.net/klms-public/production/learning-content/65/801/6468/19025/78899/%D0%B7%D0%B0%D0%B4%D0%B0%D0%BD%D0%B8%D0%B5_3_10.png)"
   ]
  },
  {
   "cell_type": "code",
   "execution_count": 52,
   "metadata": {
    "id": "_r2Yfg_kjOby"
   },
   "outputs": [
    {
     "data": {
      "text/html": [
       "<div>\n",
       "<style scoped>\n",
       "    .dataframe tbody tr th:only-of-type {\n",
       "        vertical-align: middle;\n",
       "    }\n",
       "\n",
       "    .dataframe tbody tr th {\n",
       "        vertical-align: top;\n",
       "    }\n",
       "\n",
       "    .dataframe thead th {\n",
       "        text-align: right;\n",
       "    }\n",
       "</style>\n",
       "<table border=\"1\" class=\"dataframe\">\n",
       "  <thead>\n",
       "    <tr style=\"text-align: right;\">\n",
       "      <th></th>\n",
       "      <th>index</th>\n",
       "      <th>source</th>\n",
       "    </tr>\n",
       "  </thead>\n",
       "  <tbody>\n",
       "    <tr>\n",
       "      <th>0</th>\n",
       "      <td>iPhone</td>\n",
       "      <td>9741</td>\n",
       "    </tr>\n",
       "    <tr>\n",
       "      <th>1</th>\n",
       "      <td>web</td>\n",
       "      <td>7631</td>\n",
       "    </tr>\n",
       "    <tr>\n",
       "      <th>2</th>\n",
       "      <td>Android</td>\n",
       "      <td>4909</td>\n",
       "    </tr>\n",
       "    <tr>\n",
       "      <th>3</th>\n",
       "      <td>iPad</td>\n",
       "      <td>571</td>\n",
       "    </tr>\n",
       "    <tr>\n",
       "      <th>4</th>\n",
       "      <td>Wap</td>\n",
       "      <td>136</td>\n",
       "    </tr>\n",
       "  </tbody>\n",
       "</table>\n",
       "</div>"
      ],
      "text/plain": [
       "     index  source\n",
       "0   iPhone    9741\n",
       "1      web    7631\n",
       "2  Android    4909\n",
       "3     iPad     571\n",
       "4      Wap     136"
      ]
     },
     "execution_count": 52,
     "metadata": {},
     "output_type": "execute_result"
    }
   ],
   "source": [
    "res = df_new.source.value_counts().reset_index()\n",
    "res"
   ]
  },
  {
   "cell_type": "code",
   "execution_count": 54,
   "metadata": {
    "id": "N7YQTfWjjOby"
   },
   "outputs": [
    {
     "data": {
      "text/html": [
       "<div>\n",
       "<style scoped>\n",
       "    .dataframe tbody tr th:only-of-type {\n",
       "        vertical-align: middle;\n",
       "    }\n",
       "\n",
       "    .dataframe tbody tr th {\n",
       "        vertical-align: top;\n",
       "    }\n",
       "\n",
       "    .dataframe thead th {\n",
       "        text-align: right;\n",
       "    }\n",
       "</style>\n",
       "<table border=\"1\" class=\"dataframe\">\n",
       "  <thead>\n",
       "    <tr style=\"text-align: right;\">\n",
       "      <th></th>\n",
       "      <th>platform</th>\n",
       "      <th>count</th>\n",
       "    </tr>\n",
       "  </thead>\n",
       "  <tbody>\n",
       "    <tr>\n",
       "      <th>0</th>\n",
       "      <td>iPhone</td>\n",
       "      <td>9741</td>\n",
       "    </tr>\n",
       "    <tr>\n",
       "      <th>1</th>\n",
       "      <td>web</td>\n",
       "      <td>7631</td>\n",
       "    </tr>\n",
       "    <tr>\n",
       "      <th>2</th>\n",
       "      <td>Android</td>\n",
       "      <td>4909</td>\n",
       "    </tr>\n",
       "    <tr>\n",
       "      <th>3</th>\n",
       "      <td>iPad</td>\n",
       "      <td>571</td>\n",
       "    </tr>\n",
       "    <tr>\n",
       "      <th>4</th>\n",
       "      <td>Wap</td>\n",
       "      <td>136</td>\n",
       "    </tr>\n",
       "  </tbody>\n",
       "</table>\n",
       "</div>"
      ],
      "text/plain": [
       "  platform  count\n",
       "0   iPhone   9741\n",
       "1      web   7631\n",
       "2  Android   4909\n",
       "3     iPad    571\n",
       "4      Wap    136"
      ]
     },
     "execution_count": 54,
     "metadata": {},
     "output_type": "execute_result"
    }
   ],
   "source": [
    "res = res.rename(columns={'index':'platform', 'source':'count'})\n",
    "res"
   ]
  },
  {
   "cell_type": "code",
   "execution_count": 65,
   "metadata": {
    "id": "hzTVB_VCjObz"
   },
   "outputs": [],
   "source": [
    "import seaborn as sns\n",
    "import matplotlib.pyplot as plt"
   ]
  },
  {
   "cell_type": "code",
   "execution_count": 66,
   "metadata": {
    "id": "GgYr9BxBjObz"
   },
   "outputs": [
    {
     "data": {
      "image/png": "[encoded data removed]",
      "text/plain": [
       "<Figure size 640x480 with 1 Axes>"
      ]
     },
     "metadata": {},
     "output_type": "display_data"
    }
   ],
   "source": [
    "sns.barplot(data=res, x='platform', y='count')\n",
    "\n",
    "plt.xlabel('Platform')\n",
    "plt.ylabel('Count')\n",
    "sns.despine()"
   ]
  },
  {
   "cell_type": "markdown",
   "metadata": {
    "id": "70KHSJBGjOb1"
   },
   "source": [
    "## Шаг 8"
   ]
  },
  {
   "cell_type": "markdown",
   "metadata": {
    "id": "dka-TcOEjOb1"
   },
   "source": [
    "Более детально проанализируем распределение заказов по платформам. **С помощью функции `sns.countplot` и параметра `hue` визуализируйте распределение переменной `end_state` (итоговое состояние заказа) в разбивке по платформам (см.колонку `source`).**"
   ]
  },
  {
   "cell_type": "markdown",
   "metadata": {
    "id": "26Fd_2kYjOb1"
   },
   "source": [
    "**Выберите одно или несколько верных утверждений:**  \n",
    "- Больше всего заказов со статусом drop off совершено с платформы iPhone  \n",
    "- На Android количество отмененных поездок (rider cancel) меньше, чем на iPhone  \n",
    "- На web отмененных поездок (rider cancel) меньше, чем на Android  \n",
    "- Наибольшая разница между количеством drop off и rider cancel наблюдается для платформы iPhone  \n",
    "- Наибольшая разница между количеством drop off и rider cancel наблюдается для платформы Android"
   ]
  },
  {
   "cell_type": "code",
   "execution_count": 73,
   "metadata": {
    "id": "8HJAABEAjOb1"
   },
   "outputs": [
    {
     "data": {
      "text/plain": [
       "<AxesSubplot:xlabel='source', ylabel='count'>"
      ]
     },
     "execution_count": 73,
     "metadata": {},
     "output_type": "execute_result"
    },
    {
     "data": {
      "image/png": "[encoded data removed]",
      "text/plain": [
       "<Figure size 1600x900 with 1 Axes>"
      ]
     },
     "metadata": {},
     "output_type": "display_data"
    }
   ],
   "source": [
    "df_new\n",
    "plt.figure(figsize=(16,9))\n",
    "sns.countplot(data=df_new, hue='end_state', x='source')"
   ]
  },
  {
   "cell_type": "markdown",
   "metadata": {
    "id": "tjOEcuROjOb4"
   },
   "source": [
    "## Шаг 9"
   ]
  },
  {
   "cell_type": "markdown",
   "metadata": {
    "id": "BNH4PE85jOb4"
   },
   "source": [
    "С платформами разобрались. Теперь давайте перейдем к анализу оценок, которые ставят пассажиры водителям и водители пассажирам.\n",
    "\n",
    "**Проверьте, как распределены оценки водителей (см.колонку `driver_score`)**. Для подготовки данных выполните следующие шаги:\n",
    "\n",
    "1. Посчитайте *частоту* встречаемости каждой из оценок  \n",
    "2. Переведите в проценты\n",
    "3. Округлите до 2 знаков после точки  \n",
    "4. Сбросьте индекс  \n",
    "5. Переименуйте колонки в `driver_score` и `percentage`  \n",
    "6. Отсортируйте датафрейм по колонке `driver_score` в порядке возрастания    \n",
    "7. Запишите результат в переменную `driver_score_counts`\n",
    "\n",
    "Может пригодиться:  \n",
    "[mul()](https://pandas.pydata.org/pandas-docs/stable/reference/api/pandas.Series.mul.html) – умножение, более удобный вариант для использования в цепочке методов"
   ]
  },
  {
   "cell_type": "code",
   "execution_count": 88,
   "metadata": {},
   "outputs": [],
   "source": [
    "taxi = df_new"
   ]
  },
  {
   "cell_type": "code",
   "execution_count": 103,
   "metadata": {
    "id": "vZbKZ1v7jOb5"
   },
   "outputs": [
    {
     "data": {
      "text/html": [
       "<div>\n",
       "<style scoped>\n",
       "    .dataframe tbody tr th:only-of-type {\n",
       "        vertical-align: middle;\n",
       "    }\n",
       "\n",
       "    .dataframe tbody tr th {\n",
       "        vertical-align: top;\n",
       "    }\n",
       "\n",
       "    .dataframe thead th {\n",
       "        text-align: right;\n",
       "    }\n",
       "</style>\n",
       "<table border=\"1\" class=\"dataframe\">\n",
       "  <thead>\n",
       "    <tr style=\"text-align: right;\">\n",
       "      <th></th>\n",
       "      <th>driver_score</th>\n",
       "      <th>percentage</th>\n",
       "    </tr>\n",
       "  </thead>\n",
       "  <tbody>\n",
       "    <tr>\n",
       "      <th>2</th>\n",
       "      <td>0.0</td>\n",
       "      <td>14.30</td>\n",
       "    </tr>\n",
       "    <tr>\n",
       "      <th>4</th>\n",
       "      <td>1.0</td>\n",
       "      <td>1.23</td>\n",
       "    </tr>\n",
       "    <tr>\n",
       "      <th>5</th>\n",
       "      <td>2.0</td>\n",
       "      <td>0.81</td>\n",
       "    </tr>\n",
       "    <tr>\n",
       "      <th>3</th>\n",
       "      <td>3.0</td>\n",
       "      <td>2.97</td>\n",
       "    </tr>\n",
       "    <tr>\n",
       "      <th>1</th>\n",
       "      <td>4.0</td>\n",
       "      <td>21.88</td>\n",
       "    </tr>\n",
       "    <tr>\n",
       "      <th>0</th>\n",
       "      <td>5.0</td>\n",
       "      <td>58.81</td>\n",
       "    </tr>\n",
       "  </tbody>\n",
       "</table>\n",
       "</div>"
      ],
      "text/plain": [
       "   driver_score  percentage\n",
       "2           0.0       14.30\n",
       "4           1.0        1.23\n",
       "5           2.0        0.81\n",
       "3           3.0        2.97\n",
       "1           4.0       21.88\n",
       "0           5.0       58.81"
      ]
     },
     "execution_count": 103,
     "metadata": {},
     "output_type": "execute_result"
    }
   ],
   "source": [
    "driver_score_counts = (taxi.driver_score\\\n",
    "    .value_counts(normalize=True)*100)\\\n",
    "    .round(2)\\\n",
    "    .reset_index()\\\n",
    "    .sort_values('index')\\\n",
    "    .rename(columns={'index':'driver_score', 'driver_score':'percentage'})\n",
    "driver_score_counts"
   ]
  },
  {
   "cell_type": "markdown",
   "metadata": {
    "id": "qLQnTmMejOb7"
   },
   "source": [
    "## Шаг 10"
   ]
  },
  {
   "cell_type": "markdown",
   "metadata": {
    "id": "4CJbJNVwjOb7"
   },
   "source": [
    "**Используем получившийся на прошлом шаге датафрейм `driver_score_counts`, чтобы построить круговую диаграмму (pie chart, пайчарт) и посмотреть на долю каждой оценки.** Чтобы получился график, как на скрине ниже, сделайте следующее:\n",
    "\n",
    "1. Отсортируйте датафрейм по убыванию процентов каждой оценки,  \n",
    "2. Используйте [функцию `pie`](https://matplotlib.org/stable/api/_as_gen/matplotlib.pyplot.pie.html) из модуля `pyplot` библиотеки `matplotlib`  \n",
    "3. Задайте угол начала графика равным 90 (см.параметр `startangle`)\n",
    "4. Поверните подписи к секторам (см.параметр `rotatelabels`)\n",
    "5. Установите размер графика как (8,8)\n",
    "\n",
    "**Выберите наиболее похожий график на тот, что получился у вас.**\n",
    "\n",
    "*Если на графике не видны значения на осях, используйте светлую тему в JupyterHub или посмотрите графики на LMS*"
   ]
  },
  {
   "cell_type": "markdown",
   "metadata": {
    "id": "o5nn3EgpjOb7"
   },
   "source": [
    "A\n",
    "![A](https://storage.yandexcloud.net/klms-public/production/learning-content/457/4167/37258/103292/490869/A.png)"
   ]
  },
  {
   "cell_type": "markdown",
   "metadata": {
    "id": "wnrB0hijjOb7"
   },
   "source": [
    "B\n",
    "![B](https://storage.yandexcloud.net/klms-public/production/learning-content/457/4167/37258/103292/490869/B.png)"
   ]
  },
  {
   "cell_type": "markdown",
   "metadata": {
    "id": "rq9wZd-LjOb8"
   },
   "source": [
    "C\n",
    "![C](https://storage.yandexcloud.net/klms-public/production/learning-content/457/4167/37258/103292/490869/C.png)"
   ]
  },
  {
   "cell_type": "markdown",
   "metadata": {
    "id": "xGz78oOYjOb8"
   },
   "source": [
    "D\n",
    "![D](https://storage.yandexcloud.net/klms-public/production/learning-content/457/4167/37258/103292/490869/D.png)"
   ]
  },
  {
   "cell_type": "markdown",
   "metadata": {
    "id": "6ukzn-ctjOb8"
   },
   "source": [
    "*На будущее учтите, что круговая диаграмма может быть неудобна из-за того, что определить точные значения по ней сложно и нужно сравнивать между собой площади секторов. Подробнее об этом поговорим в модуле по визуализации*."
   ]
  },
  {
   "cell_type": "code",
   "execution_count": 115,
   "metadata": {
    "id": "s3zgGOzxjOb8"
   },
   "outputs": [
    {
     "data": {
      "text/html": [
       "<div>\n",
       "<style scoped>\n",
       "    .dataframe tbody tr th:only-of-type {\n",
       "        vertical-align: middle;\n",
       "    }\n",
       "\n",
       "    .dataframe tbody tr th {\n",
       "        vertical-align: top;\n",
       "    }\n",
       "\n",
       "    .dataframe thead th {\n",
       "        text-align: right;\n",
       "    }\n",
       "</style>\n",
       "<table border=\"1\" class=\"dataframe\">\n",
       "  <thead>\n",
       "    <tr style=\"text-align: right;\">\n",
       "      <th></th>\n",
       "      <th>driver_score</th>\n",
       "      <th>percentage</th>\n",
       "    </tr>\n",
       "  </thead>\n",
       "  <tbody>\n",
       "    <tr>\n",
       "      <th>0</th>\n",
       "      <td>5.0</td>\n",
       "      <td>58.81</td>\n",
       "    </tr>\n",
       "    <tr>\n",
       "      <th>1</th>\n",
       "      <td>4.0</td>\n",
       "      <td>21.88</td>\n",
       "    </tr>\n",
       "    <tr>\n",
       "      <th>2</th>\n",
       "      <td>0.0</td>\n",
       "      <td>14.30</td>\n",
       "    </tr>\n",
       "    <tr>\n",
       "      <th>3</th>\n",
       "      <td>3.0</td>\n",
       "      <td>2.97</td>\n",
       "    </tr>\n",
       "    <tr>\n",
       "      <th>4</th>\n",
       "      <td>1.0</td>\n",
       "      <td>1.23</td>\n",
       "    </tr>\n",
       "    <tr>\n",
       "      <th>5</th>\n",
       "      <td>2.0</td>\n",
       "      <td>0.81</td>\n",
       "    </tr>\n",
       "  </tbody>\n",
       "</table>\n",
       "</div>"
      ],
      "text/plain": [
       "   driver_score  percentage\n",
       "0           5.0       58.81\n",
       "1           4.0       21.88\n",
       "2           0.0       14.30\n",
       "3           3.0        2.97\n",
       "4           1.0        1.23\n",
       "5           2.0        0.81"
      ]
     },
     "execution_count": 115,
     "metadata": {},
     "output_type": "execute_result"
    }
   ],
   "source": [
    "driver_score_counts = driver_score_counts.sort_values('percentage', ascending=False)\n",
    "driver_score_counts"
   ]
  },
  {
   "cell_type": "code",
   "execution_count": 105,
   "metadata": {
    "id": "S4J3hJ4rjOb8"
   },
   "outputs": [
    {
     "data": {
      "text/plain": [
       "<function matplotlib.pyplot.show(close=None, block=None)>"
      ]
     },
     "execution_count": 105,
     "metadata": {},
     "output_type": "execute_result"
    },
    {
     "data": {
      "image/png": "[encoded data removed]",
      "text/plain": [
       "<Figure size 640x480 with 1 Axes>"
      ]
     },
     "metadata": {},
     "output_type": "display_data"
    },
    {
     "data": {
      "text/plain": [
       "<Figure size 800x800 with 0 Axes>"
      ]
     },
     "metadata": {},
     "output_type": "display_data"
    }
   ],
   "source": [
    "plt.pie(driver_score_counts.percentage, startangle=90, rotatelabels=True, labels=driver_score_counts.driver_score)\n",
    "plt.figure(figsize=(8,8))  \n",
    "plt.show"
   ]
  },
  {
   "cell_type": "markdown",
   "metadata": {
    "id": "3PmA1cUHjOb-"
   },
   "source": [
    "## Шаг 11"
   ]
  },
  {
   "cell_type": "markdown",
   "metadata": {
    "id": "vMR1naK9jOb-"
   },
   "source": [
    "Сейчас повторите процесс из шага 9 и проанализируйте оценки водителями пассажиров (см.колонку `rider_score`). **Сравните распределение этих оценок с распределением оценок водителей.**\n",
    "\n",
    "**Выберите одно или несколько верных утверждений:**  \n",
    "- Более 20% оценок составляют 4  \n",
    "- Более чем в 80% случаев водители поставили клиентам 5 звездочек  \n",
    "- Водители ставят меньше оценок 0, чем клиенты  \n",
    "- Водители ставят больше оценок 0, чем клиенты"
   ]
  },
  {
   "cell_type": "code",
   "execution_count": 107,
   "metadata": {
    "id": "HXi9JdGwjOb-"
   },
   "outputs": [
    {
     "data": {
      "text/html": [
       "<div>\n",
       "<style scoped>\n",
       "    .dataframe tbody tr th:only-of-type {\n",
       "        vertical-align: middle;\n",
       "    }\n",
       "\n",
       "    .dataframe tbody tr th {\n",
       "        vertical-align: top;\n",
       "    }\n",
       "\n",
       "    .dataframe thead th {\n",
       "        text-align: right;\n",
       "    }\n",
       "</style>\n",
       "<table border=\"1\" class=\"dataframe\">\n",
       "  <thead>\n",
       "    <tr style=\"text-align: right;\">\n",
       "      <th></th>\n",
       "      <th>rider_score</th>\n",
       "      <th>percentage</th>\n",
       "    </tr>\n",
       "  </thead>\n",
       "  <tbody>\n",
       "    <tr>\n",
       "      <th>2</th>\n",
       "      <td>0.0</td>\n",
       "      <td>2.29</td>\n",
       "    </tr>\n",
       "    <tr>\n",
       "      <th>4</th>\n",
       "      <td>1.0</td>\n",
       "      <td>0.21</td>\n",
       "    </tr>\n",
       "    <tr>\n",
       "      <th>5</th>\n",
       "      <td>2.0</td>\n",
       "      <td>0.19</td>\n",
       "    </tr>\n",
       "    <tr>\n",
       "      <th>3</th>\n",
       "      <td>3.0</td>\n",
       "      <td>1.38</td>\n",
       "    </tr>\n",
       "    <tr>\n",
       "      <th>1</th>\n",
       "      <td>4.0</td>\n",
       "      <td>8.83</td>\n",
       "    </tr>\n",
       "    <tr>\n",
       "      <th>0</th>\n",
       "      <td>5.0</td>\n",
       "      <td>87.10</td>\n",
       "    </tr>\n",
       "  </tbody>\n",
       "</table>\n",
       "</div>"
      ],
      "text/plain": [
       "   rider_score  percentage\n",
       "2          0.0        2.29\n",
       "4          1.0        0.21\n",
       "5          2.0        0.19\n",
       "3          3.0        1.38\n",
       "1          4.0        8.83\n",
       "0          5.0       87.10"
      ]
     },
     "execution_count": 107,
     "metadata": {},
     "output_type": "execute_result"
    }
   ],
   "source": [
    "rider_score_counts = (taxi.rider_score\\\n",
    "    .value_counts(normalize=True)*100)\\\n",
    "    .round(2)\\\n",
    "    .reset_index()\\\n",
    "    .sort_values('index')\\\n",
    "    .rename(columns={'index':'rider_score', 'rider_score':'percentage'})\n",
    "rider_score_counts\n"
   ]
  },
  {
   "cell_type": "code",
   "execution_count": 114,
   "metadata": {
    "id": "DTwdVS1WjOb_"
   },
   "outputs": [
    {
     "data": {
      "text/plain": [
       "<function matplotlib.pyplot.show(close=None, block=None)>"
      ]
     },
     "execution_count": 114,
     "metadata": {},
     "output_type": "execute_result"
    },
    {
     "data": {
      "image/png": "[encoded data removed]",
      "text/plain": [
       "<Figure size 800x800 with 1 Axes>"
      ]
     },
     "metadata": {},
     "output_type": "display_data"
    }
   ],
   "source": [
    "plt.figure(figsize=(8,8))  \n",
    "plt.pie(rider_score_counts.percentage, startangle=90, rotatelabels=True, labels=rider_score_counts.rider_score)\n",
    "plt.show"
   ]
  },
  {
   "cell_type": "markdown",
   "metadata": {
    "id": "LXhrWnpvjOcA"
   },
   "source": [
    "## Шаг 12"
   ]
  },
  {
   "cell_type": "markdown",
   "metadata": {
    "id": "DNSVH2SqjOcA"
   },
   "source": [
    "Теперь перейдем к анализу временнЫх данных. Но перед этим приведите столбцы `start_at`, `end_at`, `arrived_at` к формату даты и времени, используя [pd.to_datetime](https://pandas.pydata.org/pandas-docs/stable/reference/api/pandas.to_datetime.html). Отфильтруйте данные и оставьте наблюдения со статусами заказа \"asap\" и \"reserved\" (см.колонку `start_type`). Результат сохраните в тот же датафрейм `taxi`  \n",
    "\n",
    "**На LMS датафрейм сохранен в переменную `taxi`. Загрузите в LMS Ваш код, в котором приводите столбцы к формату datetime и оставляете в датафрейме `taxi` только наблюдения со статусами заказа «asap» и «reserved»**"
   ]
  },
  {
   "cell_type": "code",
   "execution_count": 121,
   "metadata": {
    "id": "CZNEKrQmjOcA"
   },
   "outputs": [
    {
     "data": {
      "text/html": [
       "<div>\n",
       "<style scoped>\n",
       "    .dataframe tbody tr th:only-of-type {\n",
       "        vertical-align: middle;\n",
       "    }\n",
       "\n",
       "    .dataframe tbody tr th {\n",
       "        vertical-align: top;\n",
       "    }\n",
       "\n",
       "    .dataframe thead th {\n",
       "        text-align: right;\n",
       "    }\n",
       "</style>\n",
       "<table border=\"1\" class=\"dataframe\">\n",
       "  <thead>\n",
       "    <tr style=\"text-align: right;\">\n",
       "      <th></th>\n",
       "      <th>journey_id</th>\n",
       "      <th>driver_id</th>\n",
       "      <th>taxi_id</th>\n",
       "      <th>icon</th>\n",
       "      <th>start_at</th>\n",
       "      <th>end_at</th>\n",
       "      <th>end_lat</th>\n",
       "      <th>end_lon</th>\n",
       "      <th>end_state</th>\n",
       "      <th>driver_start_lat</th>\n",
       "      <th>driver_start_lon</th>\n",
       "      <th>arrived_at</th>\n",
       "      <th>rider_score</th>\n",
       "      <th>user_id</th>\n",
       "      <th>start_type</th>\n",
       "      <th>start_lat</th>\n",
       "      <th>start_lon</th>\n",
       "      <th>source</th>\n",
       "      <th>driver_score</th>\n",
       "    </tr>\n",
       "  </thead>\n",
       "  <tbody>\n",
       "    <tr>\n",
       "      <th>0</th>\n",
       "      <td>23a1406fc6a11d866e3c82f22eed4d4c</td>\n",
       "      <td>583949a89a9ee17d19e3ca4f137b6b4c</td>\n",
       "      <td>b12f4f09c783e29fe0d0ea624530db56</td>\n",
       "      <td>executive</td>\n",
       "      <td>2010-11-16 16:44:00</td>\n",
       "      <td>2010-11-16 17:29:00</td>\n",
       "      <td>-12,05537033</td>\n",
       "      <td>-77,0413208</td>\n",
       "      <td>drop off</td>\n",
       "      <td>-12,10825481</td>\n",
       "      <td>-77,0272739</td>\n",
       "      <td>2010-11-16 17:02:00</td>\n",
       "      <td>5.0</td>\n",
       "      <td>0e9af5bbf1edfe591b54ecdfd7e91e26</td>\n",
       "      <td>asap</td>\n",
       "      <td>-12,13983536</td>\n",
       "      <td>-77,02355957</td>\n",
       "      <td>iPhone</td>\n",
       "      <td>5.0</td>\n",
       "    </tr>\n",
       "    <tr>\n",
       "      <th>1</th>\n",
       "      <td>dd2af4715d0dc16eded53afc0e243577</td>\n",
       "      <td>NaN</td>\n",
       "      <td>NaN</td>\n",
       "      <td>executive</td>\n",
       "      <td>2010-06-01 00:34:00</td>\n",
       "      <td>2010-06-01 00:37:00</td>\n",
       "      <td>-12,12465668</td>\n",
       "      <td>-77,02886963</td>\n",
       "      <td>not found</td>\n",
       "      <td>NaN</td>\n",
       "      <td>NaN</td>\n",
       "      <td>NaN</td>\n",
       "      <td>NaN</td>\n",
       "      <td>a553c46e3a22fb9c326aeb3d72b3334e</td>\n",
       "      <td>asap</td>\n",
       "      <td>-12,13874817</td>\n",
       "      <td>-76,99536133</td>\n",
       "      <td>iPhone</td>\n",
       "      <td>NaN</td>\n",
       "    </tr>\n",
       "    <tr>\n",
       "      <th>2</th>\n",
       "      <td>dd91e131888064bf7df3ce08f3d4b4ad</td>\n",
       "      <td>NaN</td>\n",
       "      <td>NaN</td>\n",
       "      <td>executive</td>\n",
       "      <td>2010-05-31 05:01:00</td>\n",
       "      <td>2010-05-31 05:04:00</td>\n",
       "      <td>-12,13883209</td>\n",
       "      <td>-76,99530029</td>\n",
       "      <td>not found</td>\n",
       "      <td>NaN</td>\n",
       "      <td>NaN</td>\n",
       "      <td>NaN</td>\n",
       "      <td>NaN</td>\n",
       "      <td>a553c46e3a22fb9c326aeb3d72b3334e</td>\n",
       "      <td>asap</td>\n",
       "      <td>-12,12453079</td>\n",
       "      <td>-77,02780151</td>\n",
       "      <td>iPhone</td>\n",
       "      <td>NaN</td>\n",
       "    </tr>\n",
       "    <tr>\n",
       "      <th>3</th>\n",
       "      <td>dd2af4715d0dc16eded53afc0e2466d0</td>\n",
       "      <td>NaN</td>\n",
       "      <td>NaN</td>\n",
       "      <td>executive</td>\n",
       "      <td>2010-06-01 00:29:00</td>\n",
       "      <td>2010-06-01 00:32:00</td>\n",
       "      <td>-12,12458801</td>\n",
       "      <td>-77,02896118</td>\n",
       "      <td>not found</td>\n",
       "      <td>NaN</td>\n",
       "      <td>NaN</td>\n",
       "      <td>NaN</td>\n",
       "      <td>NaN</td>\n",
       "      <td>a553c46e3a22fb9c326aeb3d72b3334e</td>\n",
       "      <td>asap</td>\n",
       "      <td>-12,13885117</td>\n",
       "      <td>-76,99530029</td>\n",
       "      <td>iPhone</td>\n",
       "      <td>NaN</td>\n",
       "    </tr>\n",
       "    <tr>\n",
       "      <th>4</th>\n",
       "      <td>85b7eabcf5d84e42dc7629b7d27781af</td>\n",
       "      <td>d665fb9f75ef5d9cd0fd89479380ba78</td>\n",
       "      <td>0accdd3aa5a322f4129fa20b53278c69</td>\n",
       "      <td>executive</td>\n",
       "      <td>2010-09-11 23:55:00</td>\n",
       "      <td>2010-09-12 01:07:00</td>\n",
       "      <td>-12,02223206</td>\n",
       "      <td>-77,10638428</td>\n",
       "      <td>drop off</td>\n",
       "      <td>-12,08311558</td>\n",
       "      <td>-76,9277072</td>\n",
       "      <td>2010-09-11 23:50:00</td>\n",
       "      <td>5.0</td>\n",
       "      <td>56772d544fdfa589a020a1ff894a86f7</td>\n",
       "      <td>reserved</td>\n",
       "      <td>-12,08995438</td>\n",
       "      <td>-76,92626953</td>\n",
       "      <td>iPhone</td>\n",
       "      <td>4.0</td>\n",
       "    </tr>\n",
       "  </tbody>\n",
       "</table>\n",
       "</div>"
      ],
      "text/plain": [
       "                         journey_id                         driver_id  \\\n",
       "0  23a1406fc6a11d866e3c82f22eed4d4c  583949a89a9ee17d19e3ca4f137b6b4c   \n",
       "1  dd2af4715d0dc16eded53afc0e243577                               NaN   \n",
       "2  dd91e131888064bf7df3ce08f3d4b4ad                               NaN   \n",
       "3  dd2af4715d0dc16eded53afc0e2466d0                               NaN   \n",
       "4  85b7eabcf5d84e42dc7629b7d27781af  d665fb9f75ef5d9cd0fd89479380ba78   \n",
       "\n",
       "                            taxi_id       icon             start_at  \\\n",
       "0  b12f4f09c783e29fe0d0ea624530db56  executive  2010-11-16 16:44:00   \n",
       "1                               NaN  executive  2010-06-01 00:34:00   \n",
       "2                               NaN  executive  2010-05-31 05:01:00   \n",
       "3                               NaN  executive  2010-06-01 00:29:00   \n",
       "4  0accdd3aa5a322f4129fa20b53278c69  executive  2010-09-11 23:55:00   \n",
       "\n",
       "                end_at       end_lat       end_lon  end_state  \\\n",
       "0  2010-11-16 17:29:00  -12,05537033   -77,0413208   drop off   \n",
       "1  2010-06-01 00:37:00  -12,12465668  -77,02886963  not found   \n",
       "2  2010-05-31 05:04:00  -12,13883209  -76,99530029  not found   \n",
       "3  2010-06-01 00:32:00  -12,12458801  -77,02896118  not found   \n",
       "4  2010-09-12 01:07:00  -12,02223206  -77,10638428   drop off   \n",
       "\n",
       "  driver_start_lat driver_start_lon           arrived_at  rider_score  \\\n",
       "0     -12,10825481      -77,0272739  2010-11-16 17:02:00          5.0   \n",
       "1              NaN              NaN                  NaN          NaN   \n",
       "2              NaN              NaN                  NaN          NaN   \n",
       "3              NaN              NaN                  NaN          NaN   \n",
       "4     -12,08311558      -76,9277072  2010-09-11 23:50:00          5.0   \n",
       "\n",
       "                            user_id start_type     start_lat     start_lon  \\\n",
       "0  0e9af5bbf1edfe591b54ecdfd7e91e26       asap  -12,13983536  -77,02355957   \n",
       "1  a553c46e3a22fb9c326aeb3d72b3334e       asap  -12,13874817  -76,99536133   \n",
       "2  a553c46e3a22fb9c326aeb3d72b3334e       asap  -12,12453079  -77,02780151   \n",
       "3  a553c46e3a22fb9c326aeb3d72b3334e       asap  -12,13885117  -76,99530029   \n",
       "4  56772d544fdfa589a020a1ff894a86f7   reserved  -12,08995438  -76,92626953   \n",
       "\n",
       "   source  driver_score  \n",
       "0  iPhone           5.0  \n",
       "1  iPhone           NaN  \n",
       "2  iPhone           NaN  \n",
       "3  iPhone           NaN  \n",
       "4  iPhone           4.0  "
      ]
     },
     "execution_count": 121,
     "metadata": {},
     "output_type": "execute_result"
    }
   ],
   "source": [
    "taxi.head()\n"
   ]
  },
  {
   "cell_type": "code",
   "execution_count": 134,
   "metadata": {
    "id": "WugShYUAjOcA"
   },
   "outputs": [],
   "source": [
    "taxi[['start_at', 'end_at', 'arrived_at']] = taxi[['start_at', 'end_at', 'arrived_at']].apply(pd.to_datetime)"
   ]
  },
  {
   "cell_type": "code",
   "execution_count": 136,
   "metadata": {
    "id": "3fkyC11DjOcB"
   },
   "outputs": [
    {
     "data": {
      "text/plain": [
       "journey_id                  object\n",
       "driver_id                   object\n",
       "taxi_id                     object\n",
       "icon                        object\n",
       "start_at            datetime64[ns]\n",
       "end_at              datetime64[ns]\n",
       "end_lat                     object\n",
       "end_lon                     object\n",
       "end_state                   object\n",
       "driver_start_lat            object\n",
       "driver_start_lon            object\n",
       "arrived_at          datetime64[ns]\n",
       "rider_score                float64\n",
       "user_id                     object\n",
       "start_type                  object\n",
       "start_lat                   object\n",
       "start_lon                   object\n",
       "source                      object\n",
       "driver_score               float64\n",
       "dtype: object"
      ]
     },
     "execution_count": 136,
     "metadata": {},
     "output_type": "execute_result"
    }
   ],
   "source": [
    "taxi.dtypes\n"
   ]
  },
  {
   "cell_type": "code",
   "execution_count": 139,
   "metadata": {
    "id": "XPClQDsQjOcB"
   },
   "outputs": [
    {
     "data": {
      "text/html": [
       "<div>\n",
       "<style scoped>\n",
       "    .dataframe tbody tr th:only-of-type {\n",
       "        vertical-align: middle;\n",
       "    }\n",
       "\n",
       "    .dataframe tbody tr th {\n",
       "        vertical-align: top;\n",
       "    }\n",
       "\n",
       "    .dataframe thead th {\n",
       "        text-align: right;\n",
       "    }\n",
       "</style>\n",
       "<table border=\"1\" class=\"dataframe\">\n",
       "  <thead>\n",
       "    <tr style=\"text-align: right;\">\n",
       "      <th></th>\n",
       "      <th>journey_id</th>\n",
       "      <th>driver_id</th>\n",
       "      <th>taxi_id</th>\n",
       "      <th>icon</th>\n",
       "      <th>start_at</th>\n",
       "      <th>end_at</th>\n",
       "      <th>end_lat</th>\n",
       "      <th>end_lon</th>\n",
       "      <th>end_state</th>\n",
       "      <th>driver_start_lat</th>\n",
       "      <th>driver_start_lon</th>\n",
       "      <th>arrived_at</th>\n",
       "      <th>rider_score</th>\n",
       "      <th>user_id</th>\n",
       "      <th>start_type</th>\n",
       "      <th>start_lat</th>\n",
       "      <th>start_lon</th>\n",
       "      <th>source</th>\n",
       "      <th>driver_score</th>\n",
       "    </tr>\n",
       "  </thead>\n",
       "  <tbody>\n",
       "    <tr>\n",
       "      <th>0</th>\n",
       "      <td>23a1406fc6a11d866e3c82f22eed4d4c</td>\n",
       "      <td>583949a89a9ee17d19e3ca4f137b6b4c</td>\n",
       "      <td>b12f4f09c783e29fe0d0ea624530db56</td>\n",
       "      <td>executive</td>\n",
       "      <td>2010-11-16 16:44:00</td>\n",
       "      <td>2010-11-16 17:29:00</td>\n",
       "      <td>-12,05537033</td>\n",
       "      <td>-77,0413208</td>\n",
       "      <td>drop off</td>\n",
       "      <td>-12,10825481</td>\n",
       "      <td>-77,0272739</td>\n",
       "      <td>2010-11-16 17:02:00</td>\n",
       "      <td>5.0</td>\n",
       "      <td>0e9af5bbf1edfe591b54ecdfd7e91e26</td>\n",
       "      <td>asap</td>\n",
       "      <td>-12,13983536</td>\n",
       "      <td>-77,02355957</td>\n",
       "      <td>iPhone</td>\n",
       "      <td>5.0</td>\n",
       "    </tr>\n",
       "    <tr>\n",
       "      <th>1</th>\n",
       "      <td>dd2af4715d0dc16eded53afc0e243577</td>\n",
       "      <td>NaN</td>\n",
       "      <td>NaN</td>\n",
       "      <td>executive</td>\n",
       "      <td>2010-06-01 00:34:00</td>\n",
       "      <td>2010-06-01 00:37:00</td>\n",
       "      <td>-12,12465668</td>\n",
       "      <td>-77,02886963</td>\n",
       "      <td>not found</td>\n",
       "      <td>NaN</td>\n",
       "      <td>NaN</td>\n",
       "      <td>NaT</td>\n",
       "      <td>NaN</td>\n",
       "      <td>a553c46e3a22fb9c326aeb3d72b3334e</td>\n",
       "      <td>asap</td>\n",
       "      <td>-12,13874817</td>\n",
       "      <td>-76,99536133</td>\n",
       "      <td>iPhone</td>\n",
       "      <td>NaN</td>\n",
       "    </tr>\n",
       "    <tr>\n",
       "      <th>2</th>\n",
       "      <td>dd91e131888064bf7df3ce08f3d4b4ad</td>\n",
       "      <td>NaN</td>\n",
       "      <td>NaN</td>\n",
       "      <td>executive</td>\n",
       "      <td>2010-05-31 05:01:00</td>\n",
       "      <td>2010-05-31 05:04:00</td>\n",
       "      <td>-12,13883209</td>\n",
       "      <td>-76,99530029</td>\n",
       "      <td>not found</td>\n",
       "      <td>NaN</td>\n",
       "      <td>NaN</td>\n",
       "      <td>NaT</td>\n",
       "      <td>NaN</td>\n",
       "      <td>a553c46e3a22fb9c326aeb3d72b3334e</td>\n",
       "      <td>asap</td>\n",
       "      <td>-12,12453079</td>\n",
       "      <td>-77,02780151</td>\n",
       "      <td>iPhone</td>\n",
       "      <td>NaN</td>\n",
       "    </tr>\n",
       "    <tr>\n",
       "      <th>3</th>\n",
       "      <td>dd2af4715d0dc16eded53afc0e2466d0</td>\n",
       "      <td>NaN</td>\n",
       "      <td>NaN</td>\n",
       "      <td>executive</td>\n",
       "      <td>2010-06-01 00:29:00</td>\n",
       "      <td>2010-06-01 00:32:00</td>\n",
       "      <td>-12,12458801</td>\n",
       "      <td>-77,02896118</td>\n",
       "      <td>not found</td>\n",
       "      <td>NaN</td>\n",
       "      <td>NaN</td>\n",
       "      <td>NaT</td>\n",
       "      <td>NaN</td>\n",
       "      <td>a553c46e3a22fb9c326aeb3d72b3334e</td>\n",
       "      <td>asap</td>\n",
       "      <td>-12,13885117</td>\n",
       "      <td>-76,99530029</td>\n",
       "      <td>iPhone</td>\n",
       "      <td>NaN</td>\n",
       "    </tr>\n",
       "    <tr>\n",
       "      <th>4</th>\n",
       "      <td>85b7eabcf5d84e42dc7629b7d27781af</td>\n",
       "      <td>d665fb9f75ef5d9cd0fd89479380ba78</td>\n",
       "      <td>0accdd3aa5a322f4129fa20b53278c69</td>\n",
       "      <td>executive</td>\n",
       "      <td>2010-09-11 23:55:00</td>\n",
       "      <td>2010-09-12 01:07:00</td>\n",
       "      <td>-12,02223206</td>\n",
       "      <td>-77,10638428</td>\n",
       "      <td>drop off</td>\n",
       "      <td>-12,08311558</td>\n",
       "      <td>-76,9277072</td>\n",
       "      <td>2010-09-11 23:50:00</td>\n",
       "      <td>5.0</td>\n",
       "      <td>56772d544fdfa589a020a1ff894a86f7</td>\n",
       "      <td>reserved</td>\n",
       "      <td>-12,08995438</td>\n",
       "      <td>-76,92626953</td>\n",
       "      <td>iPhone</td>\n",
       "      <td>4.0</td>\n",
       "    </tr>\n",
       "  </tbody>\n",
       "</table>\n",
       "</div>"
      ],
      "text/plain": [
       "                         journey_id                         driver_id  \\\n",
       "0  23a1406fc6a11d866e3c82f22eed4d4c  583949a89a9ee17d19e3ca4f137b6b4c   \n",
       "1  dd2af4715d0dc16eded53afc0e243577                               NaN   \n",
       "2  dd91e131888064bf7df3ce08f3d4b4ad                               NaN   \n",
       "3  dd2af4715d0dc16eded53afc0e2466d0                               NaN   \n",
       "4  85b7eabcf5d84e42dc7629b7d27781af  d665fb9f75ef5d9cd0fd89479380ba78   \n",
       "\n",
       "                            taxi_id       icon            start_at  \\\n",
       "0  b12f4f09c783e29fe0d0ea624530db56  executive 2010-11-16 16:44:00   \n",
       "1                               NaN  executive 2010-06-01 00:34:00   \n",
       "2                               NaN  executive 2010-05-31 05:01:00   \n",
       "3                               NaN  executive 2010-06-01 00:29:00   \n",
       "4  0accdd3aa5a322f4129fa20b53278c69  executive 2010-09-11 23:55:00   \n",
       "\n",
       "               end_at       end_lat       end_lon  end_state driver_start_lat  \\\n",
       "0 2010-11-16 17:29:00  -12,05537033   -77,0413208   drop off     -12,10825481   \n",
       "1 2010-06-01 00:37:00  -12,12465668  -77,02886963  not found              NaN   \n",
       "2 2010-05-31 05:04:00  -12,13883209  -76,99530029  not found              NaN   \n",
       "3 2010-06-01 00:32:00  -12,12458801  -77,02896118  not found              NaN   \n",
       "4 2010-09-12 01:07:00  -12,02223206  -77,10638428   drop off     -12,08311558   \n",
       "\n",
       "  driver_start_lon          arrived_at  rider_score  \\\n",
       "0      -77,0272739 2010-11-16 17:02:00          5.0   \n",
       "1              NaN                 NaT          NaN   \n",
       "2              NaN                 NaT          NaN   \n",
       "3              NaN                 NaT          NaN   \n",
       "4      -76,9277072 2010-09-11 23:50:00          5.0   \n",
       "\n",
       "                            user_id start_type     start_lat     start_lon  \\\n",
       "0  0e9af5bbf1edfe591b54ecdfd7e91e26       asap  -12,13983536  -77,02355957   \n",
       "1  a553c46e3a22fb9c326aeb3d72b3334e       asap  -12,13874817  -76,99536133   \n",
       "2  a553c46e3a22fb9c326aeb3d72b3334e       asap  -12,12453079  -77,02780151   \n",
       "3  a553c46e3a22fb9c326aeb3d72b3334e       asap  -12,13885117  -76,99530029   \n",
       "4  56772d544fdfa589a020a1ff894a86f7   reserved  -12,08995438  -76,92626953   \n",
       "\n",
       "   source  driver_score  \n",
       "0  iPhone           5.0  \n",
       "1  iPhone           NaN  \n",
       "2  iPhone           NaN  \n",
       "3  iPhone           NaN  \n",
       "4  iPhone           4.0  "
      ]
     },
     "execution_count": 139,
     "metadata": {},
     "output_type": "execute_result"
    }
   ],
   "source": [
    "taxi = taxi.query('start_type == \"asap\" or start_type == \"reserved\"')\n",
    "taxi.head()"
   ]
  },
  {
   "cell_type": "markdown",
   "metadata": {
    "id": "Kb79l1xdjOcC"
   },
   "source": [
    "## Шаг 13"
   ]
  },
  {
   "cell_type": "markdown",
   "metadata": {
    "id": "EW06EX8tjOcC"
   },
   "source": [
    "Начнем анализировать время подачи машины — долго ли пассажирам приходится ждать такси. Для этого создайте новую колонку `wait_time`, в которой будет храниться разница между временем подачи машины (см.колонку `arrived_at`) и временем заказа (см.колонку `start_at`). **Определите медианное время подачи машины, в минутах. Ответ дайте в формате целого числа**"
   ]
  },
  {
   "cell_type": "code",
   "execution_count": 146,
   "metadata": {
    "id": "4IngMq5QjOcC"
   },
   "outputs": [
    {
     "data": {
      "text/plain": [
       "Timedelta('0 days 00:05:00')"
      ]
     },
     "execution_count": 146,
     "metadata": {},
     "output_type": "execute_result"
    }
   ],
   "source": [
    "taxi['wait_time'] = taxi.arrived_at  - taxi.start_at \n",
    "taxi.wait_time.median()"
   ]
  },
  {
   "cell_type": "markdown",
   "metadata": {
    "id": "FaV8MVErjOcD"
   },
   "source": [
    "## Шаг 14"
   ]
  },
  {
   "cell_type": "markdown",
   "metadata": {
    "id": "IqNPM7VfjOcD"
   },
   "source": [
    "Если клиент сделал заказ к определенному времени (`start_type` == 'reserved'), но ему пришлось ждать машину (`wait_time` > 0), значит, водитель опоздал. **Определите id водителя, который чаще всего опаздывал на заказы, заранее сделанные клиентами**\n",
    "\n",
    "Обратите внимание, данные в колонке `wait_time` имеют тип `timedelta` — разница во времени. Чтобы корректно отобрать записи об опозданиях, вам понадобится не целое число 0, а разница во времени, равная 0. Такую переменную можно создать с помощью функции [pd.to_timedelta](https://pandas.pydata.org/docs/reference/api/pandas.to_timedelta.html), которая конвертирует подаваемый в неё аргумент в значение с типом `timedelta`"
   ]
  },
  {
   "cell_type": "code",
   "execution_count": 165,
   "metadata": {
    "id": "Zedw6CnEjOcE"
   },
   "outputs": [
    {
     "data": {
      "text/plain": [
       "Timedelta('0 days 00:00:00')"
      ]
     },
     "execution_count": 165,
     "metadata": {},
     "output_type": "execute_result"
    }
   ],
   "source": [
    "new_variable = pd.to_timedelta(0)\n",
    "new_variable"
   ]
  },
  {
   "cell_type": "code",
   "execution_count": 172,
   "metadata": {
    "id": "aWt4_q8EjOcE"
   },
   "outputs": [
    {
     "data": {
      "text/html": [
       "<div>\n",
       "<style scoped>\n",
       "    .dataframe tbody tr th:only-of-type {\n",
       "        vertical-align: middle;\n",
       "    }\n",
       "\n",
       "    .dataframe tbody tr th {\n",
       "        vertical-align: top;\n",
       "    }\n",
       "\n",
       "    .dataframe thead th {\n",
       "        text-align: right;\n",
       "    }\n",
       "</style>\n",
       "<table border=\"1\" class=\"dataframe\">\n",
       "  <thead>\n",
       "    <tr style=\"text-align: right;\">\n",
       "      <th></th>\n",
       "      <th>journey_id</th>\n",
       "      <th>driver_id</th>\n",
       "      <th>taxi_id</th>\n",
       "      <th>icon</th>\n",
       "      <th>start_at</th>\n",
       "      <th>end_at</th>\n",
       "      <th>end_lat</th>\n",
       "      <th>end_lon</th>\n",
       "      <th>end_state</th>\n",
       "      <th>driver_start_lat</th>\n",
       "      <th>driver_start_lon</th>\n",
       "      <th>arrived_at</th>\n",
       "      <th>rider_score</th>\n",
       "      <th>user_id</th>\n",
       "      <th>start_type</th>\n",
       "      <th>start_lat</th>\n",
       "      <th>start_lon</th>\n",
       "      <th>source</th>\n",
       "      <th>driver_score</th>\n",
       "      <th>wait_time</th>\n",
       "    </tr>\n",
       "  </thead>\n",
       "  <tbody>\n",
       "    <tr>\n",
       "      <th>11</th>\n",
       "      <td>af7a0d5b65562d9e4f7749317efb1a3a</td>\n",
       "      <td>d04f1a596fe4a582f48e6eb2f9e8f617</td>\n",
       "      <td>d04f1a596fe4a582f48e6eb2f9e8cceb</td>\n",
       "      <td>executive</td>\n",
       "      <td>2010-11-28 03:15:00</td>\n",
       "      <td>2010-11-28 03:37:00</td>\n",
       "      <td>-12,10112256</td>\n",
       "      <td>-77,00418301</td>\n",
       "      <td>drop off</td>\n",
       "      <td>-12,1011259</td>\n",
       "      <td>-77,0041831</td>\n",
       "      <td>2010-11-28 03:22:00</td>\n",
       "      <td>4.0</td>\n",
       "      <td>7abecd4f47c2c1d5390d86eb22181c90</td>\n",
       "      <td>reserved</td>\n",
       "      <td>-12,10128779</td>\n",
       "      <td>-77,00463697</td>\n",
       "      <td>Android</td>\n",
       "      <td>NaN</td>\n",
       "      <td>0 days 00:07:00</td>\n",
       "    </tr>\n",
       "    <tr>\n",
       "      <th>51</th>\n",
       "      <td>e1b5a14977e84b1900b5b69e040c3de1</td>\n",
       "      <td>ae06c34243f741e203e97c48ebcbd9da</td>\n",
       "      <td>f622a9397b85b5c9c0ef938c5d592020</td>\n",
       "      <td>executive</td>\n",
       "      <td>2010-10-12 19:45:00</td>\n",
       "      <td>2010-10-12 20:49:00</td>\n",
       "      <td>-12,02226257</td>\n",
       "      <td>-77,109375</td>\n",
       "      <td>drop off</td>\n",
       "      <td>-12,02907305</td>\n",
       "      <td>-77,08317745</td>\n",
       "      <td>2010-10-12 19:56:00</td>\n",
       "      <td>5.0</td>\n",
       "      <td>1e44c0fd0a266c3719ff30410baa07cd</td>\n",
       "      <td>reserved</td>\n",
       "      <td>-12,11184692</td>\n",
       "      <td>-77,03222656</td>\n",
       "      <td>iPhone</td>\n",
       "      <td>NaN</td>\n",
       "      <td>0 days 00:11:00</td>\n",
       "    </tr>\n",
       "    <tr>\n",
       "      <th>67</th>\n",
       "      <td>eb06449983dd990ff162c0ad990909ba</td>\n",
       "      <td>406921adcca37705ef527b4246c0cfea</td>\n",
       "      <td>406921adcca37705ef527b4246c10d2c</td>\n",
       "      <td>executive</td>\n",
       "      <td>2010-06-01 22:00:00</td>\n",
       "      <td>2010-06-01 22:42:00</td>\n",
       "      <td>-12,07870483</td>\n",
       "      <td>-77,06329346</td>\n",
       "      <td>drop off</td>\n",
       "      <td>-12,11143646</td>\n",
       "      <td>-76,99240794</td>\n",
       "      <td>2010-06-01 22:01:00</td>\n",
       "      <td>5.0</td>\n",
       "      <td>933a5cf7834b12121755b8586b53a083</td>\n",
       "      <td>reserved</td>\n",
       "      <td>-12,12078476</td>\n",
       "      <td>-76,97079468</td>\n",
       "      <td>iPhone</td>\n",
       "      <td>4.0</td>\n",
       "      <td>0 days 00:01:00</td>\n",
       "    </tr>\n",
       "    <tr>\n",
       "      <th>83</th>\n",
       "      <td>cd6a65a00f3ac91060d336a9f037f7f6</td>\n",
       "      <td>baacf396f773709519bbde35a5eab861</td>\n",
       "      <td>baacf396f773709519bbde35a585d91b</td>\n",
       "      <td>executive</td>\n",
       "      <td>2010-08-16 22:30:00</td>\n",
       "      <td>2010-08-16 22:57:00</td>\n",
       "      <td>-12,08880914</td>\n",
       "      <td>-76,99084405</td>\n",
       "      <td>drop off</td>\n",
       "      <td>-12,06300311</td>\n",
       "      <td>-76,94575123</td>\n",
       "      <td>2010-08-16 22:33:00</td>\n",
       "      <td>4.0</td>\n",
       "      <td>cb6ea169cefc7a0a5f1f8bd8ebbe3223</td>\n",
       "      <td>reserved</td>\n",
       "      <td>-12,10181985</td>\n",
       "      <td>-76,97150599</td>\n",
       "      <td>Android</td>\n",
       "      <td>0.0</td>\n",
       "      <td>0 days 00:03:00</td>\n",
       "    </tr>\n",
       "    <tr>\n",
       "      <th>157</th>\n",
       "      <td>e1332f68e81526e498e4d845233a17ee</td>\n",
       "      <td>65b6f3b7075270499ddd0f1dc1130459</td>\n",
       "      <td>f78d50ea4f0c83a4a302d9fa82264b02</td>\n",
       "      <td>executive</td>\n",
       "      <td>2010-03-27 23:30:00</td>\n",
       "      <td>2010-03-28 00:25:00</td>\n",
       "      <td>-12,1249782</td>\n",
       "      <td>-77,0048048</td>\n",
       "      <td>drop off</td>\n",
       "      <td>-12,08623295</td>\n",
       "      <td>-77,03547408</td>\n",
       "      <td>2010-03-27 23:31:00</td>\n",
       "      <td>5.0</td>\n",
       "      <td>be2d7041cb5bae52cf3edaaf03798426</td>\n",
       "      <td>reserved</td>\n",
       "      <td>-12,0966369</td>\n",
       "      <td>-77,0295319</td>\n",
       "      <td>web</td>\n",
       "      <td>NaN</td>\n",
       "      <td>0 days 00:01:00</td>\n",
       "    </tr>\n",
       "    <tr>\n",
       "      <th>...</th>\n",
       "      <td>...</td>\n",
       "      <td>...</td>\n",
       "      <td>...</td>\n",
       "      <td>...</td>\n",
       "      <td>...</td>\n",
       "      <td>...</td>\n",
       "      <td>...</td>\n",
       "      <td>...</td>\n",
       "      <td>...</td>\n",
       "      <td>...</td>\n",
       "      <td>...</td>\n",
       "      <td>...</td>\n",
       "      <td>...</td>\n",
       "      <td>...</td>\n",
       "      <td>...</td>\n",
       "      <td>...</td>\n",
       "      <td>...</td>\n",
       "      <td>...</td>\n",
       "      <td>...</td>\n",
       "      <td>...</td>\n",
       "    </tr>\n",
       "    <tr>\n",
       "      <th>11489</th>\n",
       "      <td>883360491194dd3b866c897b2586a1d7</td>\n",
       "      <td>27c157e605c56c7df70c605963e1d386</td>\n",
       "      <td>27c157e605c56c7df70c605963e1c9b7</td>\n",
       "      <td>executive</td>\n",
       "      <td>2010-02-14 13:45:00</td>\n",
       "      <td>2010-02-14 14:19:00</td>\n",
       "      <td>-12,1593476</td>\n",
       "      <td>-77,0232917</td>\n",
       "      <td>drop off</td>\n",
       "      <td>-12,0735807</td>\n",
       "      <td>-77,04195549</td>\n",
       "      <td>2010-02-14 13:49:00</td>\n",
       "      <td>NaN</td>\n",
       "      <td>406921adcca37705ef527b4246c1370e</td>\n",
       "      <td>reserved</td>\n",
       "      <td>-12,0918521</td>\n",
       "      <td>-77,0519091</td>\n",
       "      <td>web</td>\n",
       "      <td>NaN</td>\n",
       "      <td>0 days 00:04:00</td>\n",
       "    </tr>\n",
       "    <tr>\n",
       "      <th>11492</th>\n",
       "      <td>88a0d8a123b3c1b2f39bec89da7b30ae</td>\n",
       "      <td>406921adcca37705ef527b4246c19db3</td>\n",
       "      <td>406921adcca37705ef527b4246c1a5c6</td>\n",
       "      <td>executive</td>\n",
       "      <td>2010-05-07 13:20:00</td>\n",
       "      <td>2010-05-07 14:13:00</td>\n",
       "      <td>-12,0914361</td>\n",
       "      <td>-77,0857564</td>\n",
       "      <td>drop off</td>\n",
       "      <td>-12,03970949</td>\n",
       "      <td>-77,05231815</td>\n",
       "      <td>2010-05-07 13:21:00</td>\n",
       "      <td>5.0</td>\n",
       "      <td>406921adcca37705ef527b4246c12e83</td>\n",
       "      <td>reserved</td>\n",
       "      <td>-12,0918423</td>\n",
       "      <td>-77,0421839</td>\n",
       "      <td>web</td>\n",
       "      <td>NaN</td>\n",
       "      <td>0 days 00:01:00</td>\n",
       "    </tr>\n",
       "    <tr>\n",
       "      <th>11498</th>\n",
       "      <td>8b9ae8141b48ed1643e02dbc76aa2290</td>\n",
       "      <td>406921adcca37705ef527b4246c19db3</td>\n",
       "      <td>406921adcca37705ef527b4246c1a5c6</td>\n",
       "      <td>executive</td>\n",
       "      <td>2010-05-09 01:30:00</td>\n",
       "      <td>2010-05-09 02:50:00</td>\n",
       "      <td>-12,019468</td>\n",
       "      <td>-77,107768</td>\n",
       "      <td>drop off</td>\n",
       "      <td>-12,05495955</td>\n",
       "      <td>-77,05101171</td>\n",
       "      <td>2010-05-09 01:40:00</td>\n",
       "      <td>NaN</td>\n",
       "      <td>0f0ffd9676b4aa664f8b88b76ca90cf4</td>\n",
       "      <td>reserved</td>\n",
       "      <td>-12,0780836</td>\n",
       "      <td>-77,0906339</td>\n",
       "      <td>web</td>\n",
       "      <td>NaN</td>\n",
       "      <td>0 days 00:10:00</td>\n",
       "    </tr>\n",
       "    <tr>\n",
       "      <th>11508</th>\n",
       "      <td>4a645cbfd25b64d34f738808637353ca</td>\n",
       "      <td>eeb07ac5409c082354b923689341b9ec</td>\n",
       "      <td>aba044a086704ad7e9dc66b8c926408d</td>\n",
       "      <td>executive</td>\n",
       "      <td>2010-04-16 15:15:00</td>\n",
       "      <td>2010-04-16 15:40:00</td>\n",
       "      <td>-12,1088702</td>\n",
       "      <td>-76,9886223</td>\n",
       "      <td>drop off</td>\n",
       "      <td>-12,04602095</td>\n",
       "      <td>-77,02585903</td>\n",
       "      <td>2010-04-16 15:18:00</td>\n",
       "      <td>NaN</td>\n",
       "      <td>4a645cbfd25b64d34f738808634b36bf</td>\n",
       "      <td>reserved</td>\n",
       "      <td>-12,0770342</td>\n",
       "      <td>-76,9885396</td>\n",
       "      <td>web</td>\n",
       "      <td>NaN</td>\n",
       "      <td>0 days 00:03:00</td>\n",
       "    </tr>\n",
       "    <tr>\n",
       "      <th>11549</th>\n",
       "      <td>c21605b791b47423867a99d06f47a972</td>\n",
       "      <td>56f59b58bcbbd1cdabc3652e713134c2</td>\n",
       "      <td>924d4f0e7554566623e8ebb3904a7b0c</td>\n",
       "      <td>executive</td>\n",
       "      <td>2010-04-04 17:00:00</td>\n",
       "      <td>2010-04-04 17:37:00</td>\n",
       "      <td>-12,0793063</td>\n",
       "      <td>-77,0874744</td>\n",
       "      <td>drop off</td>\n",
       "      <td>-12,1115584</td>\n",
       "      <td>-77,0123847</td>\n",
       "      <td>2010-04-04 17:06:00</td>\n",
       "      <td>NaN</td>\n",
       "      <td>35e7f74c2fbd27db816811036af892e5</td>\n",
       "      <td>reserved</td>\n",
       "      <td>-12,1119515</td>\n",
       "      <td>-77,0507767</td>\n",
       "      <td>web</td>\n",
       "      <td>NaN</td>\n",
       "      <td>0 days 00:06:00</td>\n",
       "    </tr>\n",
       "  </tbody>\n",
       "</table>\n",
       "<p>1058 rows × 20 columns</p>\n",
       "</div>"
      ],
      "text/plain": [
       "                             journey_id                         driver_id  \\\n",
       "11     af7a0d5b65562d9e4f7749317efb1a3a  d04f1a596fe4a582f48e6eb2f9e8f617   \n",
       "51     e1b5a14977e84b1900b5b69e040c3de1  ae06c34243f741e203e97c48ebcbd9da   \n",
       "67     eb06449983dd990ff162c0ad990909ba  406921adcca37705ef527b4246c0cfea   \n",
       "83     cd6a65a00f3ac91060d336a9f037f7f6  baacf396f773709519bbde35a5eab861   \n",
       "157    e1332f68e81526e498e4d845233a17ee  65b6f3b7075270499ddd0f1dc1130459   \n",
       "...                                 ...                               ...   \n",
       "11489  883360491194dd3b866c897b2586a1d7  27c157e605c56c7df70c605963e1d386   \n",
       "11492  88a0d8a123b3c1b2f39bec89da7b30ae  406921adcca37705ef527b4246c19db3   \n",
       "11498  8b9ae8141b48ed1643e02dbc76aa2290  406921adcca37705ef527b4246c19db3   \n",
       "11508  4a645cbfd25b64d34f738808637353ca  eeb07ac5409c082354b923689341b9ec   \n",
       "11549  c21605b791b47423867a99d06f47a972  56f59b58bcbbd1cdabc3652e713134c2   \n",
       "\n",
       "                                taxi_id       icon            start_at  \\\n",
       "11     d04f1a596fe4a582f48e6eb2f9e8cceb  executive 2010-11-28 03:15:00   \n",
       "51     f622a9397b85b5c9c0ef938c5d592020  executive 2010-10-12 19:45:00   \n",
       "67     406921adcca37705ef527b4246c10d2c  executive 2010-06-01 22:00:00   \n",
       "83     baacf396f773709519bbde35a585d91b  executive 2010-08-16 22:30:00   \n",
       "157    f78d50ea4f0c83a4a302d9fa82264b02  executive 2010-03-27 23:30:00   \n",
       "...                                 ...        ...                 ...   \n",
       "11489  27c157e605c56c7df70c605963e1c9b7  executive 2010-02-14 13:45:00   \n",
       "11492  406921adcca37705ef527b4246c1a5c6  executive 2010-05-07 13:20:00   \n",
       "11498  406921adcca37705ef527b4246c1a5c6  executive 2010-05-09 01:30:00   \n",
       "11508  aba044a086704ad7e9dc66b8c926408d  executive 2010-04-16 15:15:00   \n",
       "11549  924d4f0e7554566623e8ebb3904a7b0c  executive 2010-04-04 17:00:00   \n",
       "\n",
       "                   end_at       end_lat       end_lon end_state  \\\n",
       "11    2010-11-28 03:37:00  -12,10112256  -77,00418301  drop off   \n",
       "51    2010-10-12 20:49:00  -12,02226257    -77,109375  drop off   \n",
       "67    2010-06-01 22:42:00  -12,07870483  -77,06329346  drop off   \n",
       "83    2010-08-16 22:57:00  -12,08880914  -76,99084405  drop off   \n",
       "157   2010-03-28 00:25:00   -12,1249782   -77,0048048  drop off   \n",
       "...                   ...           ...           ...       ...   \n",
       "11489 2010-02-14 14:19:00   -12,1593476   -77,0232917  drop off   \n",
       "11492 2010-05-07 14:13:00   -12,0914361   -77,0857564  drop off   \n",
       "11498 2010-05-09 02:50:00    -12,019468    -77,107768  drop off   \n",
       "11508 2010-04-16 15:40:00   -12,1088702   -76,9886223  drop off   \n",
       "11549 2010-04-04 17:37:00   -12,0793063   -77,0874744  drop off   \n",
       "\n",
       "      driver_start_lat driver_start_lon          arrived_at  rider_score  \\\n",
       "11         -12,1011259      -77,0041831 2010-11-28 03:22:00          4.0   \n",
       "51        -12,02907305     -77,08317745 2010-10-12 19:56:00          5.0   \n",
       "67        -12,11143646     -76,99240794 2010-06-01 22:01:00          5.0   \n",
       "83        -12,06300311     -76,94575123 2010-08-16 22:33:00          4.0   \n",
       "157       -12,08623295     -77,03547408 2010-03-27 23:31:00          5.0   \n",
       "...                ...              ...                 ...          ...   \n",
       "11489      -12,0735807     -77,04195549 2010-02-14 13:49:00          NaN   \n",
       "11492     -12,03970949     -77,05231815 2010-05-07 13:21:00          5.0   \n",
       "11498     -12,05495955     -77,05101171 2010-05-09 01:40:00          NaN   \n",
       "11508     -12,04602095     -77,02585903 2010-04-16 15:18:00          NaN   \n",
       "11549      -12,1115584      -77,0123847 2010-04-04 17:06:00          NaN   \n",
       "\n",
       "                                user_id start_type     start_lat  \\\n",
       "11     7abecd4f47c2c1d5390d86eb22181c90   reserved  -12,10128779   \n",
       "51     1e44c0fd0a266c3719ff30410baa07cd   reserved  -12,11184692   \n",
       "67     933a5cf7834b12121755b8586b53a083   reserved  -12,12078476   \n",
       "83     cb6ea169cefc7a0a5f1f8bd8ebbe3223   reserved  -12,10181985   \n",
       "157    be2d7041cb5bae52cf3edaaf03798426   reserved   -12,0966369   \n",
       "...                                 ...        ...           ...   \n",
       "11489  406921adcca37705ef527b4246c1370e   reserved   -12,0918521   \n",
       "11492  406921adcca37705ef527b4246c12e83   reserved   -12,0918423   \n",
       "11498  0f0ffd9676b4aa664f8b88b76ca90cf4   reserved   -12,0780836   \n",
       "11508  4a645cbfd25b64d34f738808634b36bf   reserved   -12,0770342   \n",
       "11549  35e7f74c2fbd27db816811036af892e5   reserved   -12,1119515   \n",
       "\n",
       "          start_lon   source  driver_score       wait_time  \n",
       "11     -77,00463697  Android           NaN 0 days 00:07:00  \n",
       "51     -77,03222656   iPhone           NaN 0 days 00:11:00  \n",
       "67     -76,97079468   iPhone           4.0 0 days 00:01:00  \n",
       "83     -76,97150599  Android           0.0 0 days 00:03:00  \n",
       "157     -77,0295319      web           NaN 0 days 00:01:00  \n",
       "...             ...      ...           ...             ...  \n",
       "11489   -77,0519091      web           NaN 0 days 00:04:00  \n",
       "11492   -77,0421839      web           NaN 0 days 00:01:00  \n",
       "11498   -77,0906339      web           NaN 0 days 00:10:00  \n",
       "11508   -76,9885396      web           NaN 0 days 00:03:00  \n",
       "11549   -77,0507767      web           NaN 0 days 00:06:00  \n",
       "\n",
       "[1058 rows x 20 columns]"
      ]
     },
     "execution_count": 172,
     "metadata": {},
     "output_type": "execute_result"
    }
   ],
   "source": [
    "res = taxi.query(f'start_type == \"reserved\" and wait_time>\"{new_variable}\"')\n",
    "res"
   ]
  },
  {
   "cell_type": "code",
   "execution_count": 176,
   "metadata": {
    "id": "eJoSTrj1jOcF"
   },
   "outputs": [
    {
     "data": {
      "text/plain": [
       "406921adcca37705ef527b4246c0cfea    67\n",
       "d665fb9f75ef5d9cd0fd89479380ba78    59\n",
       "ec84a73745199ff840ecafcb924383ad    57\n",
       "56f59b58bcbbd1cdabc3652e713134c2    51\n",
       "c814db2127582cf95dea1f74f43127c2    45\n",
       "                                    ..\n",
       "b5821eaaa5d49fb2936ff5b0ffa34a35     1\n",
       "2ca81f8112b8c60af222ee2ed746de12     1\n",
       "cd6fba80de11849ce566009f41dd27a0     1\n",
       "bc5c1ae63a528f0371154594b3477211     1\n",
       "9db6243faff23197787d1efc5f93904d     1\n",
       "Name: driver_id, Length: 105, dtype: int64"
      ]
     },
     "execution_count": 176,
     "metadata": {},
     "output_type": "execute_result"
    }
   ],
   "source": [
    "res.driver_id.value_counts()\n",
    "\n"
   ]
  },
  {
   "cell_type": "markdown",
   "metadata": {
    "id": "NVd_aJqFjOcF"
   },
   "source": [
    "## Шаг 15"
   ]
  },
  {
   "cell_type": "markdown",
   "metadata": {
    "id": "0zOY1BTHjOcG"
   },
   "source": [
    "**Подумайте, что может влиять на число опозданий водителя из прошлого задания.** Проанализируйте имеющиеся у вас данные и выберите один или несколько вариантов:  \n",
    "- Число взятых заказов  \n",
    "- Оценки, поставленные этим водителем его пассажирам  \n",
    "- Непунктуальность водителя (доля опозданий от всех его поездок у этого водителя больше, чем соответствующие доли у всех остальных водителей)\n",
    "- Цвет его машины"
   ]
  },
  {
   "cell_type": "code",
   "execution_count": 186,
   "metadata": {
    "id": "Gc_0jWOujOcG"
   },
   "outputs": [
    {
     "data": {
      "text/html": [
       "<div>\n",
       "<style scoped>\n",
       "    .dataframe tbody tr th:only-of-type {\n",
       "        vertical-align: middle;\n",
       "    }\n",
       "\n",
       "    .dataframe tbody tr th {\n",
       "        vertical-align: top;\n",
       "    }\n",
       "\n",
       "    .dataframe thead th {\n",
       "        text-align: right;\n",
       "    }\n",
       "</style>\n",
       "<table border=\"1\" class=\"dataframe\">\n",
       "  <thead>\n",
       "    <tr style=\"text-align: right;\">\n",
       "      <th></th>\n",
       "      <th>driver_id</th>\n",
       "      <th>journey_num</th>\n",
       "    </tr>\n",
       "  </thead>\n",
       "  <tbody>\n",
       "    <tr>\n",
       "      <th>129</th>\n",
       "      <td>c814db2127582cf95dea1f74f43127c2</td>\n",
       "      <td>1523</td>\n",
       "    </tr>\n",
       "    <tr>\n",
       "      <th>139</th>\n",
       "      <td>d665fb9f75ef5d9cd0fd89479380ba78</td>\n",
       "      <td>1225</td>\n",
       "    </tr>\n",
       "    <tr>\n",
       "      <th>167</th>\n",
       "      <td>ff5c924e0b630fd7c019a4234059fdf4</td>\n",
       "      <td>1111</td>\n",
       "    </tr>\n",
       "    <tr>\n",
       "      <th>38</th>\n",
       "      <td>406921adcca37705ef527b4246c0cfea</td>\n",
       "      <td>1075</td>\n",
       "    </tr>\n",
       "    <tr>\n",
       "      <th>148</th>\n",
       "      <td>ec84a73745199ff840ecafcb924383ad</td>\n",
       "      <td>974</td>\n",
       "    </tr>\n",
       "  </tbody>\n",
       "</table>\n",
       "</div>"
      ],
      "text/plain": [
       "                            driver_id  journey_num\n",
       "129  c814db2127582cf95dea1f74f43127c2         1523\n",
       "139  d665fb9f75ef5d9cd0fd89479380ba78         1225\n",
       "167  ff5c924e0b630fd7c019a4234059fdf4         1111\n",
       "38   406921adcca37705ef527b4246c0cfea         1075\n",
       "148  ec84a73745199ff840ecafcb924383ad          974"
      ]
     },
     "execution_count": 186,
     "metadata": {},
     "output_type": "execute_result"
    }
   ],
   "source": [
    "journeys = taxi.groupby('driver_id', as_index = False)\\\n",
    "    .agg({'journey_id':'nunique'})\\\n",
    "    .sort_values('journey_id', ascending = False)\\\n",
    "    .rename(columns = {'journey_id':'journey_num'})\n",
    "\n",
    "journeys.head()"
   ]
  },
  {
   "cell_type": "code",
   "execution_count": 190,
   "metadata": {
    "id": "kcv0LkbcjOcG"
   },
   "outputs": [
    {
     "data": {
      "text/html": [
       "<div>\n",
       "<style scoped>\n",
       "    .dataframe tbody tr th:only-of-type {\n",
       "        vertical-align: middle;\n",
       "    }\n",
       "\n",
       "    .dataframe tbody tr th {\n",
       "        vertical-align: top;\n",
       "    }\n",
       "\n",
       "    .dataframe thead th {\n",
       "        text-align: right;\n",
       "    }\n",
       "</style>\n",
       "<table border=\"1\" class=\"dataframe\">\n",
       "  <thead>\n",
       "    <tr style=\"text-align: right;\">\n",
       "      <th></th>\n",
       "      <th>driver_id</th>\n",
       "      <th>delay_num</th>\n",
       "    </tr>\n",
       "  </thead>\n",
       "  <tbody>\n",
       "    <tr>\n",
       "      <th>24</th>\n",
       "      <td>406921adcca37705ef527b4246c0cfea</td>\n",
       "      <td>67</td>\n",
       "    </tr>\n",
       "    <tr>\n",
       "      <th>86</th>\n",
       "      <td>d665fb9f75ef5d9cd0fd89479380ba78</td>\n",
       "      <td>59</td>\n",
       "    </tr>\n",
       "    <tr>\n",
       "      <th>93</th>\n",
       "      <td>ec84a73745199ff840ecafcb924383ad</td>\n",
       "      <td>57</td>\n",
       "    </tr>\n",
       "    <tr>\n",
       "      <th>29</th>\n",
       "      <td>56f59b58bcbbd1cdabc3652e713134c2</td>\n",
       "      <td>51</td>\n",
       "    </tr>\n",
       "    <tr>\n",
       "      <th>77</th>\n",
       "      <td>c814db2127582cf95dea1f74f43127c2</td>\n",
       "      <td>45</td>\n",
       "    </tr>\n",
       "  </tbody>\n",
       "</table>\n",
       "</div>"
      ],
      "text/plain": [
       "                           driver_id  delay_num\n",
       "24  406921adcca37705ef527b4246c0cfea         67\n",
       "86  d665fb9f75ef5d9cd0fd89479380ba78         59\n",
       "93  ec84a73745199ff840ecafcb924383ad         57\n",
       "29  56f59b58bcbbd1cdabc3652e713134c2         51\n",
       "77  c814db2127582cf95dea1f74f43127c2         45"
      ]
     },
     "execution_count": 190,
     "metadata": {},
     "output_type": "execute_result"
    }
   ],
   "source": [
    "delays = taxi.query('start_type == \"reserved\" and wait_time > @new_variable')\\\n",
    "    .groupby('driver_id', as_index = False)\\\n",
    "    .agg({'journey_id':'nunique'})\\\n",
    "    .sort_values('journey_id', ascending = False)\\\n",
    "    .rename(columns = {'journey_id':'delay_num'})\n",
    "\n",
    "delays.head()\n"
   ]
  },
  {
   "cell_type": "code",
   "execution_count": 191,
   "metadata": {
    "id": "sg30B06CjOcG"
   },
   "outputs": [
    {
     "data": {
      "text/html": [
       "<div>\n",
       "<style scoped>\n",
       "    .dataframe tbody tr th:only-of-type {\n",
       "        vertical-align: middle;\n",
       "    }\n",
       "\n",
       "    .dataframe tbody tr th {\n",
       "        vertical-align: top;\n",
       "    }\n",
       "\n",
       "    .dataframe thead th {\n",
       "        text-align: right;\n",
       "    }\n",
       "</style>\n",
       "<table border=\"1\" class=\"dataframe\">\n",
       "  <thead>\n",
       "    <tr style=\"text-align: right;\">\n",
       "      <th></th>\n",
       "      <th>driver_id</th>\n",
       "      <th>journey_num</th>\n",
       "      <th>delay_num</th>\n",
       "      <th>late_score</th>\n",
       "    </tr>\n",
       "  </thead>\n",
       "  <tbody>\n",
       "    <tr>\n",
       "      <th>3</th>\n",
       "      <td>406921adcca37705ef527b4246c0cfea</td>\n",
       "      <td>1075</td>\n",
       "      <td>67</td>\n",
       "      <td>6.0</td>\n",
       "    </tr>\n",
       "    <tr>\n",
       "      <th>1</th>\n",
       "      <td>d665fb9f75ef5d9cd0fd89479380ba78</td>\n",
       "      <td>1225</td>\n",
       "      <td>59</td>\n",
       "      <td>5.0</td>\n",
       "    </tr>\n",
       "    <tr>\n",
       "      <th>4</th>\n",
       "      <td>ec84a73745199ff840ecafcb924383ad</td>\n",
       "      <td>974</td>\n",
       "      <td>57</td>\n",
       "      <td>6.0</td>\n",
       "    </tr>\n",
       "    <tr>\n",
       "      <th>13</th>\n",
       "      <td>56f59b58bcbbd1cdabc3652e713134c2</td>\n",
       "      <td>481</td>\n",
       "      <td>51</td>\n",
       "      <td>11.0</td>\n",
       "    </tr>\n",
       "    <tr>\n",
       "      <th>0</th>\n",
       "      <td>c814db2127582cf95dea1f74f43127c2</td>\n",
       "      <td>1523</td>\n",
       "      <td>45</td>\n",
       "      <td>3.0</td>\n",
       "    </tr>\n",
       "  </tbody>\n",
       "</table>\n",
       "</div>"
      ],
      "text/plain": [
       "                           driver_id  journey_num  delay_num  late_score\n",
       "3   406921adcca37705ef527b4246c0cfea         1075         67         6.0\n",
       "1   d665fb9f75ef5d9cd0fd89479380ba78         1225         59         5.0\n",
       "4   ec84a73745199ff840ecafcb924383ad          974         57         6.0\n",
       "13  56f59b58bcbbd1cdabc3652e713134c2          481         51        11.0\n",
       "0   c814db2127582cf95dea1f74f43127c2         1523         45         3.0"
      ]
     },
     "execution_count": 191,
     "metadata": {},
     "output_type": "execute_result"
    }
   ],
   "source": [
    "journeys_delays = journeys.merge(delays, on = 'driver_id')\n",
    "journeys_delays['late_score'] = round(100 * journeys_delays.delay_num / journeys_delays.journey_num)\n",
    "journeys_delays.sort_values('delay_num', ascending = False).head()\n",
    "\n"
   ]
  },
  {
   "cell_type": "code",
   "execution_count": 192,
   "metadata": {
    "id": "gHWscoGSjOcH"
   },
   "outputs": [
    {
     "data": {
      "text/plain": [
       "count    105.000000\n",
       "mean      10.133333\n",
       "std       10.441289\n",
       "min        1.000000\n",
       "25%        4.000000\n",
       "50%        7.000000\n",
       "75%       12.000000\n",
       "max       67.000000\n",
       "Name: late_score, dtype: float64"
      ]
     },
     "execution_count": 192,
     "metadata": {},
     "output_type": "execute_result"
    }
   ],
   "source": [
    "journeys_delays.late_score.describe()\n"
   ]
  },
  {
   "cell_type": "markdown",
   "metadata": {
    "id": "5KaNcfFljOcI"
   },
   "source": [
    "## Шаг 16"
   ]
  },
  {
   "cell_type": "markdown",
   "metadata": {
    "id": "g8QQh9MNjOcI"
   },
   "source": [
    "С опозданиями разобрались. Теперь расширим наши данные новыми признаками: **добавьте столбец `month`, где будет храниться номер месяца, в котором был сделан заказ (см.колонку `start_at`),  и столбец `weekday` – название дня недели.**"
   ]
  },
  {
   "cell_type": "code",
   "execution_count": 197,
   "metadata": {
    "id": "mj9yDby3jOcI"
   },
   "outputs": [
    {
     "data": {
      "text/html": [
       "<div>\n",
       "<style scoped>\n",
       "    .dataframe tbody tr th:only-of-type {\n",
       "        vertical-align: middle;\n",
       "    }\n",
       "\n",
       "    .dataframe tbody tr th {\n",
       "        vertical-align: top;\n",
       "    }\n",
       "\n",
       "    .dataframe thead th {\n",
       "        text-align: right;\n",
       "    }\n",
       "</style>\n",
       "<table border=\"1\" class=\"dataframe\">\n",
       "  <thead>\n",
       "    <tr style=\"text-align: right;\">\n",
       "      <th></th>\n",
       "      <th>journey_id</th>\n",
       "      <th>driver_id</th>\n",
       "      <th>taxi_id</th>\n",
       "      <th>icon</th>\n",
       "      <th>start_at</th>\n",
       "      <th>end_at</th>\n",
       "      <th>end_lat</th>\n",
       "      <th>end_lon</th>\n",
       "      <th>end_state</th>\n",
       "      <th>driver_start_lat</th>\n",
       "      <th>...</th>\n",
       "      <th>rider_score</th>\n",
       "      <th>user_id</th>\n",
       "      <th>start_type</th>\n",
       "      <th>start_lat</th>\n",
       "      <th>start_lon</th>\n",
       "      <th>source</th>\n",
       "      <th>driver_score</th>\n",
       "      <th>wait_time</th>\n",
       "      <th>month</th>\n",
       "      <th>weekday</th>\n",
       "    </tr>\n",
       "  </thead>\n",
       "  <tbody>\n",
       "    <tr>\n",
       "      <th>0</th>\n",
       "      <td>23a1406fc6a11d866e3c82f22eed4d4c</td>\n",
       "      <td>583949a89a9ee17d19e3ca4f137b6b4c</td>\n",
       "      <td>b12f4f09c783e29fe0d0ea624530db56</td>\n",
       "      <td>executive</td>\n",
       "      <td>2010-11-16 16:44:00</td>\n",
       "      <td>2010-11-16 17:29:00</td>\n",
       "      <td>-12,05537033</td>\n",
       "      <td>-77,0413208</td>\n",
       "      <td>drop off</td>\n",
       "      <td>-12,10825481</td>\n",
       "      <td>...</td>\n",
       "      <td>5.0</td>\n",
       "      <td>0e9af5bbf1edfe591b54ecdfd7e91e26</td>\n",
       "      <td>asap</td>\n",
       "      <td>-12,13983536</td>\n",
       "      <td>-77,02355957</td>\n",
       "      <td>iPhone</td>\n",
       "      <td>5.0</td>\n",
       "      <td>0 days 00:18:00</td>\n",
       "      <td>11</td>\n",
       "      <td>16</td>\n",
       "    </tr>\n",
       "    <tr>\n",
       "      <th>1</th>\n",
       "      <td>dd2af4715d0dc16eded53afc0e243577</td>\n",
       "      <td>NaN</td>\n",
       "      <td>NaN</td>\n",
       "      <td>executive</td>\n",
       "      <td>2010-06-01 00:34:00</td>\n",
       "      <td>2010-06-01 00:37:00</td>\n",
       "      <td>-12,12465668</td>\n",
       "      <td>-77,02886963</td>\n",
       "      <td>not found</td>\n",
       "      <td>NaN</td>\n",
       "      <td>...</td>\n",
       "      <td>NaN</td>\n",
       "      <td>a553c46e3a22fb9c326aeb3d72b3334e</td>\n",
       "      <td>asap</td>\n",
       "      <td>-12,13874817</td>\n",
       "      <td>-76,99536133</td>\n",
       "      <td>iPhone</td>\n",
       "      <td>NaN</td>\n",
       "      <td>NaT</td>\n",
       "      <td>6</td>\n",
       "      <td>1</td>\n",
       "    </tr>\n",
       "    <tr>\n",
       "      <th>2</th>\n",
       "      <td>dd91e131888064bf7df3ce08f3d4b4ad</td>\n",
       "      <td>NaN</td>\n",
       "      <td>NaN</td>\n",
       "      <td>executive</td>\n",
       "      <td>2010-05-31 05:01:00</td>\n",
       "      <td>2010-05-31 05:04:00</td>\n",
       "      <td>-12,13883209</td>\n",
       "      <td>-76,99530029</td>\n",
       "      <td>not found</td>\n",
       "      <td>NaN</td>\n",
       "      <td>...</td>\n",
       "      <td>NaN</td>\n",
       "      <td>a553c46e3a22fb9c326aeb3d72b3334e</td>\n",
       "      <td>asap</td>\n",
       "      <td>-12,12453079</td>\n",
       "      <td>-77,02780151</td>\n",
       "      <td>iPhone</td>\n",
       "      <td>NaN</td>\n",
       "      <td>NaT</td>\n",
       "      <td>5</td>\n",
       "      <td>31</td>\n",
       "    </tr>\n",
       "    <tr>\n",
       "      <th>3</th>\n",
       "      <td>dd2af4715d0dc16eded53afc0e2466d0</td>\n",
       "      <td>NaN</td>\n",
       "      <td>NaN</td>\n",
       "      <td>executive</td>\n",
       "      <td>2010-06-01 00:29:00</td>\n",
       "      <td>2010-06-01 00:32:00</td>\n",
       "      <td>-12,12458801</td>\n",
       "      <td>-77,02896118</td>\n",
       "      <td>not found</td>\n",
       "      <td>NaN</td>\n",
       "      <td>...</td>\n",
       "      <td>NaN</td>\n",
       "      <td>a553c46e3a22fb9c326aeb3d72b3334e</td>\n",
       "      <td>asap</td>\n",
       "      <td>-12,13885117</td>\n",
       "      <td>-76,99530029</td>\n",
       "      <td>iPhone</td>\n",
       "      <td>NaN</td>\n",
       "      <td>NaT</td>\n",
       "      <td>6</td>\n",
       "      <td>1</td>\n",
       "    </tr>\n",
       "    <tr>\n",
       "      <th>4</th>\n",
       "      <td>85b7eabcf5d84e42dc7629b7d27781af</td>\n",
       "      <td>d665fb9f75ef5d9cd0fd89479380ba78</td>\n",
       "      <td>0accdd3aa5a322f4129fa20b53278c69</td>\n",
       "      <td>executive</td>\n",
       "      <td>2010-09-11 23:55:00</td>\n",
       "      <td>2010-09-12 01:07:00</td>\n",
       "      <td>-12,02223206</td>\n",
       "      <td>-77,10638428</td>\n",
       "      <td>drop off</td>\n",
       "      <td>-12,08311558</td>\n",
       "      <td>...</td>\n",
       "      <td>5.0</td>\n",
       "      <td>56772d544fdfa589a020a1ff894a86f7</td>\n",
       "      <td>reserved</td>\n",
       "      <td>-12,08995438</td>\n",
       "      <td>-76,92626953</td>\n",
       "      <td>iPhone</td>\n",
       "      <td>4.0</td>\n",
       "      <td>-1 days +23:55:00</td>\n",
       "      <td>9</td>\n",
       "      <td>11</td>\n",
       "    </tr>\n",
       "    <tr>\n",
       "      <th>...</th>\n",
       "      <td>...</td>\n",
       "      <td>...</td>\n",
       "      <td>...</td>\n",
       "      <td>...</td>\n",
       "      <td>...</td>\n",
       "      <td>...</td>\n",
       "      <td>...</td>\n",
       "      <td>...</td>\n",
       "      <td>...</td>\n",
       "      <td>...</td>\n",
       "      <td>...</td>\n",
       "      <td>...</td>\n",
       "      <td>...</td>\n",
       "      <td>...</td>\n",
       "      <td>...</td>\n",
       "      <td>...</td>\n",
       "      <td>...</td>\n",
       "      <td>...</td>\n",
       "      <td>...</td>\n",
       "      <td>...</td>\n",
       "      <td>...</td>\n",
       "    </tr>\n",
       "    <tr>\n",
       "      <th>11551</th>\n",
       "      <td>4a18ea5737ce0ffecaf20b305a0e2c86</td>\n",
       "      <td>d665fb9f75ef5d9cd0fd89479380ba78</td>\n",
       "      <td>16cbe35db7fff70fbc8251b4cda9fdc9</td>\n",
       "      <td>executive</td>\n",
       "      <td>2010-07-31 13:15:00</td>\n",
       "      <td>2010-07-31 13:27:00</td>\n",
       "      <td>-12,08352661</td>\n",
       "      <td>-77,05044556</td>\n",
       "      <td>drop off</td>\n",
       "      <td>-12,08973527</td>\n",
       "      <td>...</td>\n",
       "      <td>5.0</td>\n",
       "      <td>8998bb370b5f0cec43a373adebba0c72</td>\n",
       "      <td>reserved</td>\n",
       "      <td>-12,08974075</td>\n",
       "      <td>-77,04699707</td>\n",
       "      <td>iPhone</td>\n",
       "      <td>5.0</td>\n",
       "      <td>0 days 00:00:00</td>\n",
       "      <td>7</td>\n",
       "      <td>31</td>\n",
       "    </tr>\n",
       "    <tr>\n",
       "      <th>11552</th>\n",
       "      <td>f1e4317f2c17991dd90d1cd17ae0d399</td>\n",
       "      <td>17c21284245ff240c7212732991c2373</td>\n",
       "      <td>716a697375634f32a06d692b0448f13d</td>\n",
       "      <td>executive</td>\n",
       "      <td>2010-10-02 05:26:00</td>\n",
       "      <td>2010-10-02 05:56:00</td>\n",
       "      <td>-12,07776001</td>\n",
       "      <td>-77,05623798</td>\n",
       "      <td>drop off</td>\n",
       "      <td>-12,10639693</td>\n",
       "      <td>...</td>\n",
       "      <td>5.0</td>\n",
       "      <td>5f8a6ffef0ea5df78a8ee890267b60ec</td>\n",
       "      <td>asap</td>\n",
       "      <td>-12,09253011</td>\n",
       "      <td>-77,02875271</td>\n",
       "      <td>Android</td>\n",
       "      <td>NaN</td>\n",
       "      <td>0 days 00:13:00</td>\n",
       "      <td>10</td>\n",
       "      <td>2</td>\n",
       "    </tr>\n",
       "    <tr>\n",
       "      <th>11553</th>\n",
       "      <td>1e44c0fd0a266c3719ff30410b257bce</td>\n",
       "      <td>4851ee4c867c9b49b909c1adb76c31e9</td>\n",
       "      <td>4851ee4c867c9b49b909c1adb76c538e</td>\n",
       "      <td>executive</td>\n",
       "      <td>2010-09-21 09:56:00</td>\n",
       "      <td>2010-09-21 10:18:00</td>\n",
       "      <td>-12,10529838</td>\n",
       "      <td>-77,04735249</td>\n",
       "      <td>drop off</td>\n",
       "      <td>-12,12605017</td>\n",
       "      <td>...</td>\n",
       "      <td>0.0</td>\n",
       "      <td>c0ffb6f6cd801004dd8609c12277c2d1</td>\n",
       "      <td>asap</td>\n",
       "      <td>-12,1275637</td>\n",
       "      <td>-77,02642288</td>\n",
       "      <td>Android</td>\n",
       "      <td>0.0</td>\n",
       "      <td>0 days 00:09:00</td>\n",
       "      <td>9</td>\n",
       "      <td>21</td>\n",
       "    </tr>\n",
       "    <tr>\n",
       "      <th>11554</th>\n",
       "      <td>7073883383b89ad289e864022150cdd7</td>\n",
       "      <td>56f59b58bcbbd1cdabc3652e713134c2</td>\n",
       "      <td>924d4f0e7554566623e8ebb3904a7b0c</td>\n",
       "      <td>executive</td>\n",
       "      <td>2010-04-29 04:30:00</td>\n",
       "      <td>2010-04-29 05:11:00</td>\n",
       "      <td>-12,09909987</td>\n",
       "      <td>-77,03475013</td>\n",
       "      <td>drop off</td>\n",
       "      <td>-12,0710933</td>\n",
       "      <td>...</td>\n",
       "      <td>5.0</td>\n",
       "      <td>c0ffb6f6cd801004dd8609c12277c2d1</td>\n",
       "      <td>reserved</td>\n",
       "      <td>-12,019468</td>\n",
       "      <td>-77,1077669</td>\n",
       "      <td>Android</td>\n",
       "      <td>NaN</td>\n",
       "      <td>-1 days +23:53:00</td>\n",
       "      <td>4</td>\n",
       "      <td>29</td>\n",
       "    </tr>\n",
       "    <tr>\n",
       "      <th>11555</th>\n",
       "      <td>b7dea45c3cc92b9efd5a4905e69ff9bf</td>\n",
       "      <td>924d4f0e7554566623e8ebb390491d08</td>\n",
       "      <td>924d4f0e7554566623e8ebb390491492</td>\n",
       "      <td>executive</td>\n",
       "      <td>2010-03-16 19:58:00</td>\n",
       "      <td>2010-03-16 20:02:00</td>\n",
       "      <td>-12,029174</td>\n",
       "      <td>-76,93977</td>\n",
       "      <td>rider cancel</td>\n",
       "      <td>-12,09586711</td>\n",
       "      <td>...</td>\n",
       "      <td>NaN</td>\n",
       "      <td>c0ffb6f6cd801004dd8609c12277c2d1</td>\n",
       "      <td>asap</td>\n",
       "      <td>-12,1334974</td>\n",
       "      <td>-77,0272581</td>\n",
       "      <td>web</td>\n",
       "      <td>NaN</td>\n",
       "      <td>NaT</td>\n",
       "      <td>3</td>\n",
       "      <td>16</td>\n",
       "    </tr>\n",
       "  </tbody>\n",
       "</table>\n",
       "<p>23091 rows × 22 columns</p>\n",
       "</div>"
      ],
      "text/plain": [
       "                             journey_id                         driver_id  \\\n",
       "0      23a1406fc6a11d866e3c82f22eed4d4c  583949a89a9ee17d19e3ca4f137b6b4c   \n",
       "1      dd2af4715d0dc16eded53afc0e243577                               NaN   \n",
       "2      dd91e131888064bf7df3ce08f3d4b4ad                               NaN   \n",
       "3      dd2af4715d0dc16eded53afc0e2466d0                               NaN   \n",
       "4      85b7eabcf5d84e42dc7629b7d27781af  d665fb9f75ef5d9cd0fd89479380ba78   \n",
       "...                                 ...                               ...   \n",
       "11551  4a18ea5737ce0ffecaf20b305a0e2c86  d665fb9f75ef5d9cd0fd89479380ba78   \n",
       "11552  f1e4317f2c17991dd90d1cd17ae0d399  17c21284245ff240c7212732991c2373   \n",
       "11553  1e44c0fd0a266c3719ff30410b257bce  4851ee4c867c9b49b909c1adb76c31e9   \n",
       "11554  7073883383b89ad289e864022150cdd7  56f59b58bcbbd1cdabc3652e713134c2   \n",
       "11555  b7dea45c3cc92b9efd5a4905e69ff9bf  924d4f0e7554566623e8ebb390491d08   \n",
       "\n",
       "                                taxi_id       icon            start_at  \\\n",
       "0      b12f4f09c783e29fe0d0ea624530db56  executive 2010-11-16 16:44:00   \n",
       "1                                   NaN  executive 2010-06-01 00:34:00   \n",
       "2                                   NaN  executive 2010-05-31 05:01:00   \n",
       "3                                   NaN  executive 2010-06-01 00:29:00   \n",
       "4      0accdd3aa5a322f4129fa20b53278c69  executive 2010-09-11 23:55:00   \n",
       "...                                 ...        ...                 ...   \n",
       "11551  16cbe35db7fff70fbc8251b4cda9fdc9  executive 2010-07-31 13:15:00   \n",
       "11552  716a697375634f32a06d692b0448f13d  executive 2010-10-02 05:26:00   \n",
       "11553  4851ee4c867c9b49b909c1adb76c538e  executive 2010-09-21 09:56:00   \n",
       "11554  924d4f0e7554566623e8ebb3904a7b0c  executive 2010-04-29 04:30:00   \n",
       "11555  924d4f0e7554566623e8ebb390491492  executive 2010-03-16 19:58:00   \n",
       "\n",
       "                   end_at       end_lat       end_lon     end_state  \\\n",
       "0     2010-11-16 17:29:00  -12,05537033   -77,0413208      drop off   \n",
       "1     2010-06-01 00:37:00  -12,12465668  -77,02886963     not found   \n",
       "2     2010-05-31 05:04:00  -12,13883209  -76,99530029     not found   \n",
       "3     2010-06-01 00:32:00  -12,12458801  -77,02896118     not found   \n",
       "4     2010-09-12 01:07:00  -12,02223206  -77,10638428      drop off   \n",
       "...                   ...           ...           ...           ...   \n",
       "11551 2010-07-31 13:27:00  -12,08352661  -77,05044556      drop off   \n",
       "11552 2010-10-02 05:56:00  -12,07776001  -77,05623798      drop off   \n",
       "11553 2010-09-21 10:18:00  -12,10529838  -77,04735249      drop off   \n",
       "11554 2010-04-29 05:11:00  -12,09909987  -77,03475013      drop off   \n",
       "11555 2010-03-16 20:02:00    -12,029174     -76,93977  rider cancel   \n",
       "\n",
       "      driver_start_lat  ... rider_score                           user_id  \\\n",
       "0         -12,10825481  ...         5.0  0e9af5bbf1edfe591b54ecdfd7e91e26   \n",
       "1                  NaN  ...         NaN  a553c46e3a22fb9c326aeb3d72b3334e   \n",
       "2                  NaN  ...         NaN  a553c46e3a22fb9c326aeb3d72b3334e   \n",
       "3                  NaN  ...         NaN  a553c46e3a22fb9c326aeb3d72b3334e   \n",
       "4         -12,08311558  ...         5.0  56772d544fdfa589a020a1ff894a86f7   \n",
       "...                ...  ...         ...                               ...   \n",
       "11551     -12,08973527  ...         5.0  8998bb370b5f0cec43a373adebba0c72   \n",
       "11552     -12,10639693  ...         5.0  5f8a6ffef0ea5df78a8ee890267b60ec   \n",
       "11553     -12,12605017  ...         0.0  c0ffb6f6cd801004dd8609c12277c2d1   \n",
       "11554      -12,0710933  ...         5.0  c0ffb6f6cd801004dd8609c12277c2d1   \n",
       "11555     -12,09586711  ...         NaN  c0ffb6f6cd801004dd8609c12277c2d1   \n",
       "\n",
       "       start_type     start_lat     start_lon   source driver_score  \\\n",
       "0            asap  -12,13983536  -77,02355957   iPhone          5.0   \n",
       "1            asap  -12,13874817  -76,99536133   iPhone          NaN   \n",
       "2            asap  -12,12453079  -77,02780151   iPhone          NaN   \n",
       "3            asap  -12,13885117  -76,99530029   iPhone          NaN   \n",
       "4        reserved  -12,08995438  -76,92626953   iPhone          4.0   \n",
       "...           ...           ...           ...      ...          ...   \n",
       "11551    reserved  -12,08974075  -77,04699707   iPhone          5.0   \n",
       "11552        asap  -12,09253011  -77,02875271  Android          NaN   \n",
       "11553        asap   -12,1275637  -77,02642288  Android          0.0   \n",
       "11554    reserved    -12,019468   -77,1077669  Android          NaN   \n",
       "11555        asap   -12,1334974   -77,0272581      web          NaN   \n",
       "\n",
       "              wait_time  month weekday  \n",
       "0       0 days 00:18:00     11      16  \n",
       "1                   NaT      6       1  \n",
       "2                   NaT      5      31  \n",
       "3                   NaT      6       1  \n",
       "4     -1 days +23:55:00      9      11  \n",
       "...                 ...    ...     ...  \n",
       "11551   0 days 00:00:00      7      31  \n",
       "11552   0 days 00:13:00     10       2  \n",
       "11553   0 days 00:09:00      9      21  \n",
       "11554 -1 days +23:53:00      4      29  \n",
       "11555               NaT      3      16  \n",
       "\n",
       "[23091 rows x 22 columns]"
      ]
     },
     "execution_count": 197,
     "metadata": {},
     "output_type": "execute_result"
    }
   ],
   "source": [
    "taxi['month'] = taxi.start_at.dt.month\n",
    "taxi\n",
    "\n"
   ]
  },
  {
   "cell_type": "code",
   "execution_count": 204,
   "metadata": {
    "id": "Oe2gBczBjOcJ"
   },
   "outputs": [
    {
     "data": {
      "text/html": [
       "<div>\n",
       "<style scoped>\n",
       "    .dataframe tbody tr th:only-of-type {\n",
       "        vertical-align: middle;\n",
       "    }\n",
       "\n",
       "    .dataframe tbody tr th {\n",
       "        vertical-align: top;\n",
       "    }\n",
       "\n",
       "    .dataframe thead th {\n",
       "        text-align: right;\n",
       "    }\n",
       "</style>\n",
       "<table border=\"1\" class=\"dataframe\">\n",
       "  <thead>\n",
       "    <tr style=\"text-align: right;\">\n",
       "      <th></th>\n",
       "      <th>journey_id</th>\n",
       "      <th>driver_id</th>\n",
       "      <th>taxi_id</th>\n",
       "      <th>icon</th>\n",
       "      <th>start_at</th>\n",
       "      <th>end_at</th>\n",
       "      <th>end_lat</th>\n",
       "      <th>end_lon</th>\n",
       "      <th>end_state</th>\n",
       "      <th>driver_start_lat</th>\n",
       "      <th>...</th>\n",
       "      <th>rider_score</th>\n",
       "      <th>user_id</th>\n",
       "      <th>start_type</th>\n",
       "      <th>start_lat</th>\n",
       "      <th>start_lon</th>\n",
       "      <th>source</th>\n",
       "      <th>driver_score</th>\n",
       "      <th>wait_time</th>\n",
       "      <th>month</th>\n",
       "      <th>weekday</th>\n",
       "    </tr>\n",
       "  </thead>\n",
       "  <tbody>\n",
       "    <tr>\n",
       "      <th>0</th>\n",
       "      <td>23a1406fc6a11d866e3c82f22eed4d4c</td>\n",
       "      <td>583949a89a9ee17d19e3ca4f137b6b4c</td>\n",
       "      <td>b12f4f09c783e29fe0d0ea624530db56</td>\n",
       "      <td>executive</td>\n",
       "      <td>2010-11-16 16:44:00</td>\n",
       "      <td>2010-11-16 17:29:00</td>\n",
       "      <td>-12,05537033</td>\n",
       "      <td>-77,0413208</td>\n",
       "      <td>drop off</td>\n",
       "      <td>-12,10825481</td>\n",
       "      <td>...</td>\n",
       "      <td>5.0</td>\n",
       "      <td>0e9af5bbf1edfe591b54ecdfd7e91e26</td>\n",
       "      <td>asap</td>\n",
       "      <td>-12,13983536</td>\n",
       "      <td>-77,02355957</td>\n",
       "      <td>iPhone</td>\n",
       "      <td>5.0</td>\n",
       "      <td>0 days 00:18:00</td>\n",
       "      <td>11</td>\n",
       "      <td>Tuesday</td>\n",
       "    </tr>\n",
       "    <tr>\n",
       "      <th>1</th>\n",
       "      <td>dd2af4715d0dc16eded53afc0e243577</td>\n",
       "      <td>NaN</td>\n",
       "      <td>NaN</td>\n",
       "      <td>executive</td>\n",
       "      <td>2010-06-01 00:34:00</td>\n",
       "      <td>2010-06-01 00:37:00</td>\n",
       "      <td>-12,12465668</td>\n",
       "      <td>-77,02886963</td>\n",
       "      <td>not found</td>\n",
       "      <td>NaN</td>\n",
       "      <td>...</td>\n",
       "      <td>NaN</td>\n",
       "      <td>a553c46e3a22fb9c326aeb3d72b3334e</td>\n",
       "      <td>asap</td>\n",
       "      <td>-12,13874817</td>\n",
       "      <td>-76,99536133</td>\n",
       "      <td>iPhone</td>\n",
       "      <td>NaN</td>\n",
       "      <td>NaT</td>\n",
       "      <td>6</td>\n",
       "      <td>Tuesday</td>\n",
       "    </tr>\n",
       "    <tr>\n",
       "      <th>2</th>\n",
       "      <td>dd91e131888064bf7df3ce08f3d4b4ad</td>\n",
       "      <td>NaN</td>\n",
       "      <td>NaN</td>\n",
       "      <td>executive</td>\n",
       "      <td>2010-05-31 05:01:00</td>\n",
       "      <td>2010-05-31 05:04:00</td>\n",
       "      <td>-12,13883209</td>\n",
       "      <td>-76,99530029</td>\n",
       "      <td>not found</td>\n",
       "      <td>NaN</td>\n",
       "      <td>...</td>\n",
       "      <td>NaN</td>\n",
       "      <td>a553c46e3a22fb9c326aeb3d72b3334e</td>\n",
       "      <td>asap</td>\n",
       "      <td>-12,12453079</td>\n",
       "      <td>-77,02780151</td>\n",
       "      <td>iPhone</td>\n",
       "      <td>NaN</td>\n",
       "      <td>NaT</td>\n",
       "      <td>5</td>\n",
       "      <td>Monday</td>\n",
       "    </tr>\n",
       "    <tr>\n",
       "      <th>3</th>\n",
       "      <td>dd2af4715d0dc16eded53afc0e2466d0</td>\n",
       "      <td>NaN</td>\n",
       "      <td>NaN</td>\n",
       "      <td>executive</td>\n",
       "      <td>2010-06-01 00:29:00</td>\n",
       "      <td>2010-06-01 00:32:00</td>\n",
       "      <td>-12,12458801</td>\n",
       "      <td>-77,02896118</td>\n",
       "      <td>not found</td>\n",
       "      <td>NaN</td>\n",
       "      <td>...</td>\n",
       "      <td>NaN</td>\n",
       "      <td>a553c46e3a22fb9c326aeb3d72b3334e</td>\n",
       "      <td>asap</td>\n",
       "      <td>-12,13885117</td>\n",
       "      <td>-76,99530029</td>\n",
       "      <td>iPhone</td>\n",
       "      <td>NaN</td>\n",
       "      <td>NaT</td>\n",
       "      <td>6</td>\n",
       "      <td>Tuesday</td>\n",
       "    </tr>\n",
       "    <tr>\n",
       "      <th>4</th>\n",
       "      <td>85b7eabcf5d84e42dc7629b7d27781af</td>\n",
       "      <td>d665fb9f75ef5d9cd0fd89479380ba78</td>\n",
       "      <td>0accdd3aa5a322f4129fa20b53278c69</td>\n",
       "      <td>executive</td>\n",
       "      <td>2010-09-11 23:55:00</td>\n",
       "      <td>2010-09-12 01:07:00</td>\n",
       "      <td>-12,02223206</td>\n",
       "      <td>-77,10638428</td>\n",
       "      <td>drop off</td>\n",
       "      <td>-12,08311558</td>\n",
       "      <td>...</td>\n",
       "      <td>5.0</td>\n",
       "      <td>56772d544fdfa589a020a1ff894a86f7</td>\n",
       "      <td>reserved</td>\n",
       "      <td>-12,08995438</td>\n",
       "      <td>-76,92626953</td>\n",
       "      <td>iPhone</td>\n",
       "      <td>4.0</td>\n",
       "      <td>-1 days +23:55:00</td>\n",
       "      <td>9</td>\n",
       "      <td>Saturday</td>\n",
       "    </tr>\n",
       "    <tr>\n",
       "      <th>...</th>\n",
       "      <td>...</td>\n",
       "      <td>...</td>\n",
       "      <td>...</td>\n",
       "      <td>...</td>\n",
       "      <td>...</td>\n",
       "      <td>...</td>\n",
       "      <td>...</td>\n",
       "      <td>...</td>\n",
       "      <td>...</td>\n",
       "      <td>...</td>\n",
       "      <td>...</td>\n",
       "      <td>...</td>\n",
       "      <td>...</td>\n",
       "      <td>...</td>\n",
       "      <td>...</td>\n",
       "      <td>...</td>\n",
       "      <td>...</td>\n",
       "      <td>...</td>\n",
       "      <td>...</td>\n",
       "      <td>...</td>\n",
       "      <td>...</td>\n",
       "    </tr>\n",
       "    <tr>\n",
       "      <th>11551</th>\n",
       "      <td>4a18ea5737ce0ffecaf20b305a0e2c86</td>\n",
       "      <td>d665fb9f75ef5d9cd0fd89479380ba78</td>\n",
       "      <td>16cbe35db7fff70fbc8251b4cda9fdc9</td>\n",
       "      <td>executive</td>\n",
       "      <td>2010-07-31 13:15:00</td>\n",
       "      <td>2010-07-31 13:27:00</td>\n",
       "      <td>-12,08352661</td>\n",
       "      <td>-77,05044556</td>\n",
       "      <td>drop off</td>\n",
       "      <td>-12,08973527</td>\n",
       "      <td>...</td>\n",
       "      <td>5.0</td>\n",
       "      <td>8998bb370b5f0cec43a373adebba0c72</td>\n",
       "      <td>reserved</td>\n",
       "      <td>-12,08974075</td>\n",
       "      <td>-77,04699707</td>\n",
       "      <td>iPhone</td>\n",
       "      <td>5.0</td>\n",
       "      <td>0 days 00:00:00</td>\n",
       "      <td>7</td>\n",
       "      <td>Saturday</td>\n",
       "    </tr>\n",
       "    <tr>\n",
       "      <th>11552</th>\n",
       "      <td>f1e4317f2c17991dd90d1cd17ae0d399</td>\n",
       "      <td>17c21284245ff240c7212732991c2373</td>\n",
       "      <td>716a697375634f32a06d692b0448f13d</td>\n",
       "      <td>executive</td>\n",
       "      <td>2010-10-02 05:26:00</td>\n",
       "      <td>2010-10-02 05:56:00</td>\n",
       "      <td>-12,07776001</td>\n",
       "      <td>-77,05623798</td>\n",
       "      <td>drop off</td>\n",
       "      <td>-12,10639693</td>\n",
       "      <td>...</td>\n",
       "      <td>5.0</td>\n",
       "      <td>5f8a6ffef0ea5df78a8ee890267b60ec</td>\n",
       "      <td>asap</td>\n",
       "      <td>-12,09253011</td>\n",
       "      <td>-77,02875271</td>\n",
       "      <td>Android</td>\n",
       "      <td>NaN</td>\n",
       "      <td>0 days 00:13:00</td>\n",
       "      <td>10</td>\n",
       "      <td>Saturday</td>\n",
       "    </tr>\n",
       "    <tr>\n",
       "      <th>11553</th>\n",
       "      <td>1e44c0fd0a266c3719ff30410b257bce</td>\n",
       "      <td>4851ee4c867c9b49b909c1adb76c31e9</td>\n",
       "      <td>4851ee4c867c9b49b909c1adb76c538e</td>\n",
       "      <td>executive</td>\n",
       "      <td>2010-09-21 09:56:00</td>\n",
       "      <td>2010-09-21 10:18:00</td>\n",
       "      <td>-12,10529838</td>\n",
       "      <td>-77,04735249</td>\n",
       "      <td>drop off</td>\n",
       "      <td>-12,12605017</td>\n",
       "      <td>...</td>\n",
       "      <td>0.0</td>\n",
       "      <td>c0ffb6f6cd801004dd8609c12277c2d1</td>\n",
       "      <td>asap</td>\n",
       "      <td>-12,1275637</td>\n",
       "      <td>-77,02642288</td>\n",
       "      <td>Android</td>\n",
       "      <td>0.0</td>\n",
       "      <td>0 days 00:09:00</td>\n",
       "      <td>9</td>\n",
       "      <td>Tuesday</td>\n",
       "    </tr>\n",
       "    <tr>\n",
       "      <th>11554</th>\n",
       "      <td>7073883383b89ad289e864022150cdd7</td>\n",
       "      <td>56f59b58bcbbd1cdabc3652e713134c2</td>\n",
       "      <td>924d4f0e7554566623e8ebb3904a7b0c</td>\n",
       "      <td>executive</td>\n",
       "      <td>2010-04-29 04:30:00</td>\n",
       "      <td>2010-04-29 05:11:00</td>\n",
       "      <td>-12,09909987</td>\n",
       "      <td>-77,03475013</td>\n",
       "      <td>drop off</td>\n",
       "      <td>-12,0710933</td>\n",
       "      <td>...</td>\n",
       "      <td>5.0</td>\n",
       "      <td>c0ffb6f6cd801004dd8609c12277c2d1</td>\n",
       "      <td>reserved</td>\n",
       "      <td>-12,019468</td>\n",
       "      <td>-77,1077669</td>\n",
       "      <td>Android</td>\n",
       "      <td>NaN</td>\n",
       "      <td>-1 days +23:53:00</td>\n",
       "      <td>4</td>\n",
       "      <td>Thursday</td>\n",
       "    </tr>\n",
       "    <tr>\n",
       "      <th>11555</th>\n",
       "      <td>b7dea45c3cc92b9efd5a4905e69ff9bf</td>\n",
       "      <td>924d4f0e7554566623e8ebb390491d08</td>\n",
       "      <td>924d4f0e7554566623e8ebb390491492</td>\n",
       "      <td>executive</td>\n",
       "      <td>2010-03-16 19:58:00</td>\n",
       "      <td>2010-03-16 20:02:00</td>\n",
       "      <td>-12,029174</td>\n",
       "      <td>-76,93977</td>\n",
       "      <td>rider cancel</td>\n",
       "      <td>-12,09586711</td>\n",
       "      <td>...</td>\n",
       "      <td>NaN</td>\n",
       "      <td>c0ffb6f6cd801004dd8609c12277c2d1</td>\n",
       "      <td>asap</td>\n",
       "      <td>-12,1334974</td>\n",
       "      <td>-77,0272581</td>\n",
       "      <td>web</td>\n",
       "      <td>NaN</td>\n",
       "      <td>NaT</td>\n",
       "      <td>3</td>\n",
       "      <td>Tuesday</td>\n",
       "    </tr>\n",
       "  </tbody>\n",
       "</table>\n",
       "<p>23091 rows × 22 columns</p>\n",
       "</div>"
      ],
      "text/plain": [
       "                             journey_id                         driver_id  \\\n",
       "0      23a1406fc6a11d866e3c82f22eed4d4c  583949a89a9ee17d19e3ca4f137b6b4c   \n",
       "1      dd2af4715d0dc16eded53afc0e243577                               NaN   \n",
       "2      dd91e131888064bf7df3ce08f3d4b4ad                               NaN   \n",
       "3      dd2af4715d0dc16eded53afc0e2466d0                               NaN   \n",
       "4      85b7eabcf5d84e42dc7629b7d27781af  d665fb9f75ef5d9cd0fd89479380ba78   \n",
       "...                                 ...                               ...   \n",
       "11551  4a18ea5737ce0ffecaf20b305a0e2c86  d665fb9f75ef5d9cd0fd89479380ba78   \n",
       "11552  f1e4317f2c17991dd90d1cd17ae0d399  17c21284245ff240c7212732991c2373   \n",
       "11553  1e44c0fd0a266c3719ff30410b257bce  4851ee4c867c9b49b909c1adb76c31e9   \n",
       "11554  7073883383b89ad289e864022150cdd7  56f59b58bcbbd1cdabc3652e713134c2   \n",
       "11555  b7dea45c3cc92b9efd5a4905e69ff9bf  924d4f0e7554566623e8ebb390491d08   \n",
       "\n",
       "                                taxi_id       icon            start_at  \\\n",
       "0      b12f4f09c783e29fe0d0ea624530db56  executive 2010-11-16 16:44:00   \n",
       "1                                   NaN  executive 2010-06-01 00:34:00   \n",
       "2                                   NaN  executive 2010-05-31 05:01:00   \n",
       "3                                   NaN  executive 2010-06-01 00:29:00   \n",
       "4      0accdd3aa5a322f4129fa20b53278c69  executive 2010-09-11 23:55:00   \n",
       "...                                 ...        ...                 ...   \n",
       "11551  16cbe35db7fff70fbc8251b4cda9fdc9  executive 2010-07-31 13:15:00   \n",
       "11552  716a697375634f32a06d692b0448f13d  executive 2010-10-02 05:26:00   \n",
       "11553  4851ee4c867c9b49b909c1adb76c538e  executive 2010-09-21 09:56:00   \n",
       "11554  924d4f0e7554566623e8ebb3904a7b0c  executive 2010-04-29 04:30:00   \n",
       "11555  924d4f0e7554566623e8ebb390491492  executive 2010-03-16 19:58:00   \n",
       "\n",
       "                   end_at       end_lat       end_lon     end_state  \\\n",
       "0     2010-11-16 17:29:00  -12,05537033   -77,0413208      drop off   \n",
       "1     2010-06-01 00:37:00  -12,12465668  -77,02886963     not found   \n",
       "2     2010-05-31 05:04:00  -12,13883209  -76,99530029     not found   \n",
       "3     2010-06-01 00:32:00  -12,12458801  -77,02896118     not found   \n",
       "4     2010-09-12 01:07:00  -12,02223206  -77,10638428      drop off   \n",
       "...                   ...           ...           ...           ...   \n",
       "11551 2010-07-31 13:27:00  -12,08352661  -77,05044556      drop off   \n",
       "11552 2010-10-02 05:56:00  -12,07776001  -77,05623798      drop off   \n",
       "11553 2010-09-21 10:18:00  -12,10529838  -77,04735249      drop off   \n",
       "11554 2010-04-29 05:11:00  -12,09909987  -77,03475013      drop off   \n",
       "11555 2010-03-16 20:02:00    -12,029174     -76,93977  rider cancel   \n",
       "\n",
       "      driver_start_lat  ... rider_score                           user_id  \\\n",
       "0         -12,10825481  ...         5.0  0e9af5bbf1edfe591b54ecdfd7e91e26   \n",
       "1                  NaN  ...         NaN  a553c46e3a22fb9c326aeb3d72b3334e   \n",
       "2                  NaN  ...         NaN  a553c46e3a22fb9c326aeb3d72b3334e   \n",
       "3                  NaN  ...         NaN  a553c46e3a22fb9c326aeb3d72b3334e   \n",
       "4         -12,08311558  ...         5.0  56772d544fdfa589a020a1ff894a86f7   \n",
       "...                ...  ...         ...                               ...   \n",
       "11551     -12,08973527  ...         5.0  8998bb370b5f0cec43a373adebba0c72   \n",
       "11552     -12,10639693  ...         5.0  5f8a6ffef0ea5df78a8ee890267b60ec   \n",
       "11553     -12,12605017  ...         0.0  c0ffb6f6cd801004dd8609c12277c2d1   \n",
       "11554      -12,0710933  ...         5.0  c0ffb6f6cd801004dd8609c12277c2d1   \n",
       "11555     -12,09586711  ...         NaN  c0ffb6f6cd801004dd8609c12277c2d1   \n",
       "\n",
       "       start_type     start_lat     start_lon   source driver_score  \\\n",
       "0            asap  -12,13983536  -77,02355957   iPhone          5.0   \n",
       "1            asap  -12,13874817  -76,99536133   iPhone          NaN   \n",
       "2            asap  -12,12453079  -77,02780151   iPhone          NaN   \n",
       "3            asap  -12,13885117  -76,99530029   iPhone          NaN   \n",
       "4        reserved  -12,08995438  -76,92626953   iPhone          4.0   \n",
       "...           ...           ...           ...      ...          ...   \n",
       "11551    reserved  -12,08974075  -77,04699707   iPhone          5.0   \n",
       "11552        asap  -12,09253011  -77,02875271  Android          NaN   \n",
       "11553        asap   -12,1275637  -77,02642288  Android          0.0   \n",
       "11554    reserved    -12,019468   -77,1077669  Android          NaN   \n",
       "11555        asap   -12,1334974   -77,0272581      web          NaN   \n",
       "\n",
       "              wait_time  month   weekday  \n",
       "0       0 days 00:18:00     11   Tuesday  \n",
       "1                   NaT      6   Tuesday  \n",
       "2                   NaT      5    Monday  \n",
       "3                   NaT      6   Tuesday  \n",
       "4     -1 days +23:55:00      9  Saturday  \n",
       "...                 ...    ...       ...  \n",
       "11551   0 days 00:00:00      7  Saturday  \n",
       "11552   0 days 00:13:00     10  Saturday  \n",
       "11553   0 days 00:09:00      9   Tuesday  \n",
       "11554 -1 days +23:53:00      4  Thursday  \n",
       "11555               NaT      3   Tuesday  \n",
       "\n",
       "[23091 rows x 22 columns]"
      ]
     },
     "execution_count": 204,
     "metadata": {},
     "output_type": "execute_result"
    }
   ],
   "source": [
    "taxi['weekday'] = taxi.start_at.dt.day_name()\n",
    "taxi\n"
   ]
  },
  {
   "cell_type": "markdown",
   "metadata": {
    "id": "1lO2JrH5jOcK"
   },
   "source": [
    "## Шаг 17"
   ]
  },
  {
   "cell_type": "markdown",
   "metadata": {
    "id": "aLYH2r8cjOcK"
   },
   "source": [
    "Изучим, есть ли сезонные колебания в заказах такси. **Постройте график количества заказов по месяцам и определите месяц с наименьшим количеством заказов летом.**"
   ]
  },
  {
   "cell_type": "code",
   "execution_count": 206,
   "metadata": {
    "id": "l1x1dCMDjOcK"
   },
   "outputs": [
    {
     "data": {
      "text/plain": [
       "<AxesSubplot:xlabel='month', ylabel='count'>"
      ]
     },
     "execution_count": 206,
     "metadata": {},
     "output_type": "execute_result"
    },
    {
     "data": {
      "image/png": "[encoded data removed]",
      "text/plain": [
       "<Figure size 640x480 with 1 Axes>"
      ]
     },
     "metadata": {},
     "output_type": "display_data"
    }
   ],
   "source": [
    "sns.countplot(data=taxi, x='month')"
   ]
  },
  {
   "cell_type": "markdown",
   "metadata": {
    "id": "8o-KzgABjOcL"
   },
   "source": [
    "## Шаг 18"
   ]
  },
  {
   "cell_type": "markdown",
   "metadata": {
    "id": "XDom2cJhjOcL"
   },
   "source": [
    "Сезонность бывает не только внутри года, но и внутри недели. **Определите, в какой день недели поступает меньше всего заказов.** Укажите то название, которое написано в самом датафрейме.\n",
    "\n",
    "Для этого постройте аналогичный график по дням недели (см. колонку `weekday`). Задать порядок столбиков на графике можно с помощью параметра `order`, которому нужно передать список названий в нужном порядке."
   ]
  },
  {
   "cell_type": "code",
   "execution_count": 207,
   "metadata": {
    "id": "Wh6Hnhw6jOcL"
   },
   "outputs": [
    {
     "data": {
      "text/plain": [
       "<AxesSubplot:xlabel='weekday', ylabel='count'>"
      ]
     },
     "execution_count": 207,
     "metadata": {},
     "output_type": "execute_result"
    },
    {
     "data": {
      "image/png": "[encoded data removed]",
      "text/plain": [
       "<Figure size 1600x900 with 1 Axes>"
      ]
     },
     "metadata": {},
     "output_type": "display_data"
    }
   ],
   "source": [
    "plt.figure(figsize=(16,9))\n",
    "sns.countplot(data=taxi, x='weekday')\n",
    "\n"
   ]
  },
  {
   "cell_type": "markdown",
   "metadata": {
    "id": "3T-X-Ym9jOcM"
   },
   "source": [
    "## Шаг 19"
   ]
  },
  {
   "cell_type": "markdown",
   "metadata": {
    "id": "NHYzpH3PjOcM"
   },
   "source": [
    "Познакомимся с часто используемыми метриками, показывающими число активных пользователей за определённый период:\n",
    "\n",
    "DAU (daily active users) – число уникальных активных пользователей за день  \n",
    "WAU (weekly active users) – число уникальных активных пользователей за неделю  \n",
    "MAU (monthly active users) – число уникальных активных пользователей за месяц\n",
    "\n",
    "Активные пользователи – те, кто воспользовался приложением и сделал хотя бы один заказ за выбранный промежуток времени.\n",
    "\n",
    "**Посчитайте метрику MAU, постройте её график и выберите одно или несколько верных утверждений:**  \n",
    "- Число уникальных юзеров в течение года как увеличивалось, так и уменьшалось  \n",
    "- MAU за апрель примерно в 2.5 раза больше, чем за январь  \n",
    "- В течение всего года число уникальных пользователей увеличивалось  \n",
    "- Летом наблюдался спад числа уникальных пользователей в месяц"
   ]
  },
  {
   "cell_type": "code",
   "execution_count": 210,
   "metadata": {
    "id": "_lCg_kvMjOcM"
   },
   "outputs": [
    {
     "data": {
      "text/html": [
       "<div>\n",
       "<style scoped>\n",
       "    .dataframe tbody tr th:only-of-type {\n",
       "        vertical-align: middle;\n",
       "    }\n",
       "\n",
       "    .dataframe tbody tr th {\n",
       "        vertical-align: top;\n",
       "    }\n",
       "\n",
       "    .dataframe thead th {\n",
       "        text-align: right;\n",
       "    }\n",
       "</style>\n",
       "<table border=\"1\" class=\"dataframe\">\n",
       "  <thead>\n",
       "    <tr style=\"text-align: right;\">\n",
       "      <th></th>\n",
       "      <th>month</th>\n",
       "      <th>user_id</th>\n",
       "    </tr>\n",
       "  </thead>\n",
       "  <tbody>\n",
       "    <tr>\n",
       "      <th>0</th>\n",
       "      <td>1</td>\n",
       "      <td>102</td>\n",
       "    </tr>\n",
       "    <tr>\n",
       "      <th>1</th>\n",
       "      <td>2</td>\n",
       "      <td>110</td>\n",
       "    </tr>\n",
       "    <tr>\n",
       "      <th>2</th>\n",
       "      <td>3</td>\n",
       "      <td>162</td>\n",
       "    </tr>\n",
       "    <tr>\n",
       "      <th>3</th>\n",
       "      <td>4</td>\n",
       "      <td>253</td>\n",
       "    </tr>\n",
       "    <tr>\n",
       "      <th>4</th>\n",
       "      <td>5</td>\n",
       "      <td>275</td>\n",
       "    </tr>\n",
       "    <tr>\n",
       "      <th>5</th>\n",
       "      <td>6</td>\n",
       "      <td>309</td>\n",
       "    </tr>\n",
       "    <tr>\n",
       "      <th>6</th>\n",
       "      <td>7</td>\n",
       "      <td>318</td>\n",
       "    </tr>\n",
       "    <tr>\n",
       "      <th>7</th>\n",
       "      <td>8</td>\n",
       "      <td>377</td>\n",
       "    </tr>\n",
       "    <tr>\n",
       "      <th>8</th>\n",
       "      <td>9</td>\n",
       "      <td>416</td>\n",
       "    </tr>\n",
       "    <tr>\n",
       "      <th>9</th>\n",
       "      <td>10</td>\n",
       "      <td>437</td>\n",
       "    </tr>\n",
       "    <tr>\n",
       "      <th>10</th>\n",
       "      <td>11</td>\n",
       "      <td>504</td>\n",
       "    </tr>\n",
       "    <tr>\n",
       "      <th>11</th>\n",
       "      <td>12</td>\n",
       "      <td>569</td>\n",
       "    </tr>\n",
       "  </tbody>\n",
       "</table>\n",
       "</div>"
      ],
      "text/plain": [
       "    month  user_id\n",
       "0       1      102\n",
       "1       2      110\n",
       "2       3      162\n",
       "3       4      253\n",
       "4       5      275\n",
       "5       6      309\n",
       "6       7      318\n",
       "7       8      377\n",
       "8       9      416\n",
       "9      10      437\n",
       "10     11      504\n",
       "11     12      569"
      ]
     },
     "execution_count": 210,
     "metadata": {},
     "output_type": "execute_result"
    }
   ],
   "source": [
    "res = taxi.groupby('month').user_id.nunique().reset_index()\n",
    "res"
   ]
  },
  {
   "cell_type": "code",
   "execution_count": 211,
   "metadata": {
    "id": "TLLQHTaKjOcM"
   },
   "outputs": [
    {
     "data": {
      "text/plain": [
       "<AxesSubplot:xlabel='month', ylabel='user_id'>"
      ]
     },
     "execution_count": 211,
     "metadata": {},
     "output_type": "execute_result"
    },
    {
     "data": {
      "image/png": "[encoded data removed]",
      "text/plain": [
       "<Figure size 640x480 with 1 Axes>"
      ]
     },
     "metadata": {},
     "output_type": "display_data"
    }
   ],
   "source": [
    "sns.barplot(data=res, x='month', y='user_id')\n",
    "\n"
   ]
  },
  {
   "cell_type": "markdown",
   "metadata": {
    "id": "-u5RQQBijOcN"
   },
   "source": [
    "## Итоги"
   ]
  },
  {
   "cell_type": "markdown",
   "metadata": {
    "id": "hsaIHVaijOcN"
   },
   "source": [
    "В этом проекте вы собрали воедино и проанализировали данные о поездках на такси в Перу в разрезе по платформам, построили графики и сравнили оценки водителей и пассажиров, определили самого опаздывающего водителя и причины его опозданий, посмотрели на годовую и недельную сезонность заказов, проанализировали метрику MAU. В процессе вы закрепили навыки работы с временнЫми данными и библиотеками pandas, seaborn и matplotlib."
   ]
  }
 ],
 "metadata": {
  "colab": {
   "provenance": []
  },
  "kernelspec": {
   "display_name": "Python 3 (ipykernel)",
   "language": "python",
   "name": "python3"
  },
  "language_info": {
   "codemirror_mode": {
    "name": "ipython",
    "version": 3
   },
   "file_extension": ".py",
   "mimetype": "text/x-python",
   "name": "python",
   "nbconvert_exporter": "python",
   "pygments_lexer": "ipython3",
   "version": "3.7.0"
  }
 },
 "nbformat": 4,
 "nbformat_minor": 1
}

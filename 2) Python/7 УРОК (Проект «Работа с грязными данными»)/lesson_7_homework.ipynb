{
 "cells": [
  {
   "cell_type": "markdown",
   "metadata": {},
   "source": [
    "# Проект урока 7. Работа с грязными данными"
   ]
  },
  {
   "cell_type": "markdown",
   "metadata": {},
   "source": [
    "Для выполнения этого проекта скачайте Jupyter-ноутбук с описанием заданий отсюда. Загрузите его в JupyterHub. Откройте ноутбук и выполняйте задания в нём. Код вы будете писать в ноутбуке, а сдавать решения на проверку — в LMS."
   ]
  },
  {
   "cell_type": "markdown",
   "metadata": {},
   "source": [
    "## Часть 1. Объединение данных о покупках из папок"
   ]
  },
  {
   "cell_type": "markdown",
   "metadata": {},
   "source": [
    "## Шаг 1"
   ]
  },
  {
   "cell_type": "markdown",
   "metadata": {},
   "source": [
    "**Описание**\n",
    "\n",
    "На этот раз данные имеют следующую структуру:\n",
    "\n",
    "* данные записываются для каждого пользователя, совершившего покупки, каждый день\n",
    "* для каждой даты есть своя папка, внутри неё — папки для каждого пользователя\n",
    "* внутри каждой папки пользователя есть файл `data.csv`, где и хранятся данные\n",
    "\n",
    "Схематично это выглядит так:\n",
    "\n",
    "```\n",
    "└── data\n",
    "   ├── 2020-12-30\n",
    "   │  ├── FirstName_LastName1\n",
    "   │  │   └── data.csv\n",
    "   │  ├── FirstName_LastName2\n",
    "   │  │   └── data.csv\n",
    "   │  └── FirstName_LastName3\n",
    "   │      └── data.csv\n",
    "   └── 2020-12-31\n",
    "      ├── FirstName_LastName1\n",
    "      │   └── data.csv\n",
    "      └── FirstName_LastName5\n",
    "          └── data.csv\n",
    "```\n",
    "\n",
    "Например, 30 декабря 2020 года три покупателя сделали покупки, 31 — два (папки 2020-12-30 и 2020-12-31 соответственно). \n",
    "\n",
    "Поскольку клиент `FirstName_LastName1` купил товары в оба дня, для него имеется папка в папке для каждой из дат. Для других клиентов — по одной.\n",
    "\n",
    "**Примечание**: данные в задании покрывают другой временной период, имена тоже другие. Подробности, примеры и возможные подсказки можно найти в текстах следующих шагов."
   ]
  },
  {
   "cell_type": "markdown",
   "metadata": {},
   "source": [
    "**Задачи**\n",
    "1. Соберите все данные из папки `data` в один датафрэйм, имеющий следующие столбцы: колонки из самих файлов (`product_id`, `quantity`), а также имя пользователя (`name`), и дата этих покупок (`date`), соответствующие названию папок, где лежит файл.\n",
    "2. Выясните, какой пользователь купил больше всего товаров. Если их несколько, то перечислите имена через запятую с пробелом и в алфавитном порядке.\n",
    "3. Найдите топ-10 товаров по числу проданных единиц за всё время и постройте барплот. Сколько было продано единиц товара с `product_id==56`?\n",
    "4. Визуализируйте продажи по дням.\n",
    "5. Сколько пользователей приобрели какой-либо товар повторно (более 1 раза)? Повтором будем считать покупку товара с одинаковым `product_id`, совершенную в разные дни. \n",
    "\n",
    "Найти данные можно либо на JupyterHub, либо скачать архив [отсюда](https://yadi.sk/d/fkzS9UYSr59EQQ).\n",
    "\n",
    "\n",
    "Вы можете решать задания тем способом, который считаете наиболее удобным или оптимальным. А для того, чтобы лучше понять задание, следуйте по шагам выполнения. Бывает, что их можно выполнить в одну строчку, применяя методы друг за другом. А если выполняете шаги отдельно, не забудьте сохранить результат в переменную, чтобы в следующем шаге работать именно с ней.\n",
    "\n",
    "В ноутбуке место для вашего решения обозначено комментарием `# Ваш код здесь`, но вы можете писать код там, где вам удобно, добавлять или удалять ячейки с кодом или текстом по вашему усмотрению.\n",
    "\n",
    "Кроме того можно посмотреть подсказки, кликнув на строчку `► Нажмите сюда, чтобы увидеть подсказку`. Также не забывайте о наличии конспектов и возможности задать вопрос в `Discord`, ссылка на нужный тред есть на странице каждого шага в LMS."
   ]
  },
  {
   "cell_type": "markdown",
   "metadata": {},
   "source": [
    "### Шаг 2"
   ]
  },
  {
   "cell_type": "markdown",
   "metadata": {},
   "source": [
    "Соберите все данные из папки `data` в один датафрэйм, имеющий следующие столбцы: колонки из самих файлов (`product_id`, `quantity`), а также имя пользователя (`name`), дата этих покупок (`date`), соответствующие названию папок, где лежит файл.\n",
    "\n",
    "Пример итоговой таблицы:\n",
    "\n",
    "|#|product_id|quantity|name|date|                                                                                     \n",
    "|:-|:----|:-----|:--|:-----|                                              \n",
    "|0|56|2|Anatoly_Karpov|2020-12-30|\n",
    "|1|7|2|Anatoly_Karpov|2020-12-30|\n",
    "|2|9|3|Anatoly_Karpov|2020-12-30|\n",
    "\n",
    "Для объединения датафреймов, читаемых из файлов, можно использовать метод `pd.concat()`. Например:\n",
    "\n",
    "1. Имеются следующие данные:\n",
    "\n",
    "```python\n",
    "> df_1\n",
    "```\n",
    "\n",
    "|#|product_id|quantity|name|date|                                                                                     \n",
    "|:-|:----|:-----|:--|:-----|                                              \n",
    "|0|56|2|Anatoly_Karpov|2020-12-30|\n",
    "|1|7|2|Anatoly_Karpov|2020-12-30|\n",
    "|2|9|3|Anatoly_Karpov|2020-12-30|\n",
    "\n",
    "```python\n",
    "> df_2\n",
    "```\n",
    "\n",
    "|#|product_id|quantity|name|date|                                                                                     \n",
    "|:-|:----|:-----|:--|:-----|                                              \n",
    "|0|4|2|Кatya_Skriptsova|2020-12-30|\n",
    "|1|71|1|Кatya_Skriptsova|2020-12-31|\n",
    "\n",
    "2. Соединяем, передав `pd.concat` на вход список датафреймов, которые нужно объединить. Обратите внимание: индексы повторяются, поэтому после соединения всех данных нужно их сбросить.\n",
    "\n",
    "```python\n",
    "> df = pd.concat([df_1, df_2])\n",
    "> df\n",
    "```\n",
    "|#|product_id|quantity|name|date|                                                                                     \n",
    "|:-|:----|:-----|:--|:-----|                                              \n",
    "|0|56|2|Anatoly_Karpov|2020-12-30|\n",
    "|1|7|2|Anatoly_Karpov|2020-12-30|\n",
    "|2|9|3|Anatoly_Karpov|2020-12-30|\n",
    "|0|4|2|Кatya_Skriptsova|2020-12-30|\n",
    "|1|71|1|Кatya_Skriptsova|2020-12-31|\n",
    "\n",
    "\n",
    "\n",
    "**Рекомендуем решать данное задание через `os.walk()`.**\n",
    "\n",
    "**В качестве ответа укажите сумму по колонке `quantity`.**"
   ]
  },
  {
   "cell_type": "code",
   "execution_count": 2,
   "metadata": {},
   "outputs": [],
   "source": [
    "import os\n",
    "way = 'data'\n"
   ]
  },
  {
   "cell_type": "code",
   "execution_count": 3,
   "metadata": {},
   "outputs": [
    {
     "name": "stdout",
     "output_type": "stream",
     "text": [
      "('data', ['2020-12-03', '2020-12-04', '2020-12-05', '2020-12-06', '2020-12-07', '2020-12-08', '2020-12-09'], [])\n",
      "('data\\\\2020-12-03', ['Alexey_Smirnov', 'Anton_Petrov', 'Kirill_Petrov', 'Petr_Fedorov', 'Vasiliy_Ivanov', 'Vasiliy_Petrov'], [])\n",
      "('data\\\\2020-12-03\\\\Alexey_Smirnov', [], ['data.csv'])\n",
      "('data\\\\2020-12-03\\\\Anton_Petrov', [], ['data.csv'])\n",
      "('data\\\\2020-12-03\\\\Kirill_Petrov', [], ['data.csv'])\n",
      "('data\\\\2020-12-03\\\\Petr_Fedorov', [], ['data.csv'])\n",
      "('data\\\\2020-12-03\\\\Vasiliy_Ivanov', [], ['data.csv'])\n",
      "('data\\\\2020-12-03\\\\Vasiliy_Petrov', [], ['data.csv'])\n",
      "('data\\\\2020-12-04', ['Alexey_Smirnov', 'Kirill_Fedorov', 'Petr_Fedorov', 'Petr_Ivanov', 'Petr_Smirnov', 'Rostislav_Fedorov', 'Rostislav_Ivanov', 'Rostislav_Smirnov', 'Vasiliy_Ivanov'], [])\n",
      "('data\\\\2020-12-04\\\\Alexey_Smirnov', [], ['data.csv'])\n",
      "('data\\\\2020-12-04\\\\Kirill_Fedorov', [], ['data.csv'])\n",
      "('data\\\\2020-12-04\\\\Petr_Fedorov', [], ['data.csv'])\n",
      "('data\\\\2020-12-04\\\\Petr_Ivanov', [], ['data.csv'])\n",
      "('data\\\\2020-12-04\\\\Petr_Smirnov', [], ['data.csv'])\n",
      "('data\\\\2020-12-04\\\\Rostislav_Fedorov', [], ['data.csv'])\n",
      "('data\\\\2020-12-04\\\\Rostislav_Ivanov', [], ['data.csv'])\n",
      "('data\\\\2020-12-04\\\\Rostislav_Smirnov', [], ['data.csv'])\n",
      "('data\\\\2020-12-04\\\\Vasiliy_Ivanov', [], ['data.csv'])\n",
      "('data\\\\2020-12-05', ['Alexey_Fedorov', 'Alexey_Petrov', 'Kirill_Smirnov', 'Petr_Ivanov', 'Petr_Smirnov', 'Rostislav_Smirnov'], [])\n",
      "('data\\\\2020-12-05\\\\Alexey_Fedorov', [], ['data.csv'])\n",
      "('data\\\\2020-12-05\\\\Alexey_Petrov', [], ['data.csv'])\n",
      "('data\\\\2020-12-05\\\\Kirill_Smirnov', [], ['data.csv'])\n",
      "('data\\\\2020-12-05\\\\Petr_Ivanov', [], ['data.csv'])\n",
      "('data\\\\2020-12-05\\\\Petr_Smirnov', [], ['data.csv'])\n",
      "('data\\\\2020-12-05\\\\Rostislav_Smirnov', [], ['data.csv'])\n",
      "('data\\\\2020-12-06', ['Vasiliy_Fedorov'], [])\n",
      "('data\\\\2020-12-06\\\\Vasiliy_Fedorov', [], ['data.csv'])\n",
      "('data\\\\2020-12-07', ['Alexey_Fedorov', 'Alexey_Ivanov', 'Alexey_Smirnov', 'Anton_Ivanov', 'Anton_Smirnov', 'Kirill_Fedorov', 'Petr_Fedorov', 'Petr_Smirnov', 'Rostislav_Fedorov', 'Vasiliy_Ivanov'], [])\n",
      "('data\\\\2020-12-07\\\\Alexey_Fedorov', [], ['data.csv'])\n",
      "('data\\\\2020-12-07\\\\Alexey_Ivanov', [], ['data.csv'])\n",
      "('data\\\\2020-12-07\\\\Alexey_Smirnov', [], ['data.csv'])\n",
      "('data\\\\2020-12-07\\\\Anton_Ivanov', [], ['data.csv'])\n",
      "('data\\\\2020-12-07\\\\Anton_Smirnov', [], ['data.csv'])\n",
      "('data\\\\2020-12-07\\\\Kirill_Fedorov', [], ['data.csv'])\n",
      "('data\\\\2020-12-07\\\\Petr_Fedorov', [], ['data.csv'])\n",
      "('data\\\\2020-12-07\\\\Petr_Smirnov', [], ['data.csv'])\n",
      "('data\\\\2020-12-07\\\\Rostislav_Fedorov', [], ['data.csv'])\n",
      "('data\\\\2020-12-07\\\\Vasiliy_Ivanov', [], ['data.csv'])\n",
      "('data\\\\2020-12-08', ['Alexey_Fedorov', 'Anton_Smirnov', 'Kirill_Smirnov', 'Petr_Petrov', 'Rostislav_Petrov'], [])\n",
      "('data\\\\2020-12-08\\\\Alexey_Fedorov', [], ['data.csv'])\n",
      "('data\\\\2020-12-08\\\\Anton_Smirnov', [], ['data.csv'])\n",
      "('data\\\\2020-12-08\\\\Kirill_Smirnov', [], ['data.csv'])\n",
      "('data\\\\2020-12-08\\\\Petr_Petrov', [], ['data.csv'])\n",
      "('data\\\\2020-12-08\\\\Rostislav_Petrov', [], ['data.csv'])\n",
      "('data\\\\2020-12-09', ['Alexey_Smirnov', 'Anton_Ivanov', 'Anton_Petrov', 'Anton_Smirnov', 'Petr_Fedorov', 'Rostislav_Petrov', 'Vasiliy_Ivanov'], [])\n",
      "('data\\\\2020-12-09\\\\Alexey_Smirnov', [], ['data.csv'])\n",
      "('data\\\\2020-12-09\\\\Anton_Ivanov', [], ['data.csv'])\n",
      "('data\\\\2020-12-09\\\\Anton_Petrov', [], ['data.csv'])\n",
      "('data\\\\2020-12-09\\\\Anton_Smirnov', [], ['data.csv'])\n",
      "('data\\\\2020-12-09\\\\Petr_Fedorov', [], ['data.csv'])\n",
      "('data\\\\2020-12-09\\\\Rostislav_Petrov', [], ['data.csv'])\n",
      "('data\\\\2020-12-09\\\\Vasiliy_Ivanov', [], ['data.csv'])\n"
     ]
    }
   ],
   "source": [
    "for el in os.walk(way):\n",
    "    print(el)"
   ]
  },
  {
   "cell_type": "code",
   "execution_count": 4,
   "metadata": {},
   "outputs": [
    {
     "data": {
      "text/html": [
       "<div>\n",
       "<style scoped>\n",
       "    .dataframe tbody tr th:only-of-type {\n",
       "        vertical-align: middle;\n",
       "    }\n",
       "\n",
       "    .dataframe tbody tr th {\n",
       "        vertical-align: top;\n",
       "    }\n",
       "\n",
       "    .dataframe thead th {\n",
       "        text-align: right;\n",
       "    }\n",
       "</style>\n",
       "<table border=\"1\" class=\"dataframe\">\n",
       "  <thead>\n",
       "    <tr style=\"text-align: right;\">\n",
       "      <th></th>\n",
       "      <th>product_id</th>\n",
       "      <th>quantity</th>\n",
       "      <th>name</th>\n",
       "      <th>date</th>\n",
       "    </tr>\n",
       "  </thead>\n",
       "  <tbody>\n",
       "    <tr>\n",
       "      <th>0</th>\n",
       "      <td>47</td>\n",
       "      <td>1</td>\n",
       "      <td>Alexey_Smirnov</td>\n",
       "      <td>2020-12-03</td>\n",
       "    </tr>\n",
       "    <tr>\n",
       "      <th>1</th>\n",
       "      <td>57</td>\n",
       "      <td>1</td>\n",
       "      <td>Alexey_Smirnov</td>\n",
       "      <td>2020-12-03</td>\n",
       "    </tr>\n",
       "    <tr>\n",
       "      <th>2</th>\n",
       "      <td>14</td>\n",
       "      <td>2</td>\n",
       "      <td>Alexey_Smirnov</td>\n",
       "      <td>2020-12-03</td>\n",
       "    </tr>\n",
       "    <tr>\n",
       "      <th>3</th>\n",
       "      <td>52</td>\n",
       "      <td>1</td>\n",
       "      <td>Alexey_Smirnov</td>\n",
       "      <td>2020-12-03</td>\n",
       "    </tr>\n",
       "    <tr>\n",
       "      <th>4</th>\n",
       "      <td>1</td>\n",
       "      <td>4</td>\n",
       "      <td>Alexey_Smirnov</td>\n",
       "      <td>2020-12-03</td>\n",
       "    </tr>\n",
       "    <tr>\n",
       "      <th>...</th>\n",
       "      <td>...</td>\n",
       "      <td>...</td>\n",
       "      <td>...</td>\n",
       "      <td>...</td>\n",
       "    </tr>\n",
       "    <tr>\n",
       "      <th>1</th>\n",
       "      <td>66</td>\n",
       "      <td>4</td>\n",
       "      <td>Rostislav_Petrov</td>\n",
       "      <td>2020-12-09</td>\n",
       "    </tr>\n",
       "    <tr>\n",
       "      <th>2</th>\n",
       "      <td>39</td>\n",
       "      <td>2</td>\n",
       "      <td>Rostislav_Petrov</td>\n",
       "      <td>2020-12-09</td>\n",
       "    </tr>\n",
       "    <tr>\n",
       "      <th>0</th>\n",
       "      <td>82</td>\n",
       "      <td>4</td>\n",
       "      <td>Vasiliy_Ivanov</td>\n",
       "      <td>2020-12-09</td>\n",
       "    </tr>\n",
       "    <tr>\n",
       "      <th>1</th>\n",
       "      <td>74</td>\n",
       "      <td>2</td>\n",
       "      <td>Vasiliy_Ivanov</td>\n",
       "      <td>2020-12-09</td>\n",
       "    </tr>\n",
       "    <tr>\n",
       "      <th>2</th>\n",
       "      <td>54</td>\n",
       "      <td>3</td>\n",
       "      <td>Vasiliy_Ivanov</td>\n",
       "      <td>2020-12-09</td>\n",
       "    </tr>\n",
       "  </tbody>\n",
       "</table>\n",
       "<p>161 rows × 4 columns</p>\n",
       "</div>"
      ],
      "text/plain": [
       "    product_id  quantity              name        date\n",
       "0           47         1    Alexey_Smirnov  2020-12-03\n",
       "1           57         1    Alexey_Smirnov  2020-12-03\n",
       "2           14         2    Alexey_Smirnov  2020-12-03\n",
       "3           52         1    Alexey_Smirnov  2020-12-03\n",
       "4            1         4    Alexey_Smirnov  2020-12-03\n",
       "..         ...       ...               ...         ...\n",
       "1           66         4  Rostislav_Petrov  2020-12-09\n",
       "2           39         2  Rostislav_Petrov  2020-12-09\n",
       "0           82         4    Vasiliy_Ivanov  2020-12-09\n",
       "1           74         2    Vasiliy_Ivanov  2020-12-09\n",
       "2           54         3    Vasiliy_Ivanov  2020-12-09\n",
       "\n",
       "[161 rows x 4 columns]"
      ]
     },
     "execution_count": 4,
     "metadata": {},
     "output_type": "execute_result"
    }
   ],
   "source": [
    "import pandas as pd\n",
    "\n",
    "df = pd.DataFrame()\n",
    "\n",
    "for path in os.walk(way):\n",
    "    if ['data.csv'] in path:\n",
    "        full_path = path[0]+'\\\\'+'data.csv'\n",
    "        name = full_path[4:].split('\\\\')[2]\n",
    "        date = full_path[4:].split('\\\\')[1]\n",
    "    \n",
    "        df_p = pd.read_csv(full_path)\n",
    "        df_p['name'] = name\n",
    "        df_p['date'] = date\n",
    "        \n",
    "        df = pd.concat([df, df_p])\n",
    "df = df[['product_id', 'quantity', 'name', 'date']]\n",
    "df"
   ]
  },
  {
   "cell_type": "code",
   "execution_count": 5,
   "metadata": {},
   "outputs": [
    {
     "data": {
      "text/plain": [
       "480"
      ]
     },
     "execution_count": 5,
     "metadata": {},
     "output_type": "execute_result"
    }
   ],
   "source": [
    "df.quantity.sum()\n",
    "\n"
   ]
  },
  {
   "cell_type": "markdown",
   "metadata": {},
   "source": [
    "### Шаг 3"
   ]
  },
  {
   "cell_type": "markdown",
   "metadata": {},
   "source": [
    "Выясните, какой пользователь купил больше всего товаров. Если их несколько, то перечислите имена через запятую с пробелом и в алфавитном порядке. Например:\n",
    "\n",
    "```python\n",
    "Anatoly_Karpov, Nekto_Ktotovich, Lena_Uhanova, Ignat, Sasha_Tokarev\n",
    "```"
   ]
  },
  {
   "cell_type": "code",
   "execution_count": 6,
   "metadata": {},
   "outputs": [
    {
     "data": {
      "text/html": [
       "<div>\n",
       "<style scoped>\n",
       "    .dataframe tbody tr th:only-of-type {\n",
       "        vertical-align: middle;\n",
       "    }\n",
       "\n",
       "    .dataframe tbody tr th {\n",
       "        vertical-align: top;\n",
       "    }\n",
       "\n",
       "    .dataframe thead th {\n",
       "        text-align: right;\n",
       "    }\n",
       "</style>\n",
       "<table border=\"1\" class=\"dataframe\">\n",
       "  <thead>\n",
       "    <tr style=\"text-align: right;\">\n",
       "      <th></th>\n",
       "      <th>name</th>\n",
       "      <th>quantity</th>\n",
       "    </tr>\n",
       "  </thead>\n",
       "  <tbody>\n",
       "    <tr>\n",
       "      <th>3</th>\n",
       "      <td>Alexey_Smirnov</td>\n",
       "      <td>52</td>\n",
       "    </tr>\n",
       "    <tr>\n",
       "      <th>13</th>\n",
       "      <td>Petr_Smirnov</td>\n",
       "      <td>52</td>\n",
       "    </tr>\n",
       "    <tr>\n",
       "      <th>6</th>\n",
       "      <td>Anton_Smirnov</td>\n",
       "      <td>45</td>\n",
       "    </tr>\n",
       "    <tr>\n",
       "      <th>10</th>\n",
       "      <td>Petr_Fedorov</td>\n",
       "      <td>34</td>\n",
       "    </tr>\n",
       "    <tr>\n",
       "      <th>7</th>\n",
       "      <td>Kirill_Fedorov</td>\n",
       "      <td>28</td>\n",
       "    </tr>\n",
       "    <tr>\n",
       "      <th>16</th>\n",
       "      <td>Rostislav_Petrov</td>\n",
       "      <td>28</td>\n",
       "    </tr>\n",
       "    <tr>\n",
       "      <th>19</th>\n",
       "      <td>Vasiliy_Ivanov</td>\n",
       "      <td>27</td>\n",
       "    </tr>\n",
       "    <tr>\n",
       "      <th>0</th>\n",
       "      <td>Alexey_Fedorov</td>\n",
       "      <td>24</td>\n",
       "    </tr>\n",
       "    <tr>\n",
       "      <th>4</th>\n",
       "      <td>Anton_Ivanov</td>\n",
       "      <td>23</td>\n",
       "    </tr>\n",
       "    <tr>\n",
       "      <th>11</th>\n",
       "      <td>Petr_Ivanov</td>\n",
       "      <td>21</td>\n",
       "    </tr>\n",
       "    <tr>\n",
       "      <th>5</th>\n",
       "      <td>Anton_Petrov</td>\n",
       "      <td>18</td>\n",
       "    </tr>\n",
       "    <tr>\n",
       "      <th>9</th>\n",
       "      <td>Kirill_Smirnov</td>\n",
       "      <td>17</td>\n",
       "    </tr>\n",
       "    <tr>\n",
       "      <th>1</th>\n",
       "      <td>Alexey_Ivanov</td>\n",
       "      <td>17</td>\n",
       "    </tr>\n",
       "    <tr>\n",
       "      <th>17</th>\n",
       "      <td>Rostislav_Smirnov</td>\n",
       "      <td>17</td>\n",
       "    </tr>\n",
       "    <tr>\n",
       "      <th>14</th>\n",
       "      <td>Rostislav_Fedorov</td>\n",
       "      <td>16</td>\n",
       "    </tr>\n",
       "    <tr>\n",
       "      <th>18</th>\n",
       "      <td>Vasiliy_Fedorov</td>\n",
       "      <td>15</td>\n",
       "    </tr>\n",
       "    <tr>\n",
       "      <th>12</th>\n",
       "      <td>Petr_Petrov</td>\n",
       "      <td>14</td>\n",
       "    </tr>\n",
       "    <tr>\n",
       "      <th>8</th>\n",
       "      <td>Kirill_Petrov</td>\n",
       "      <td>9</td>\n",
       "    </tr>\n",
       "    <tr>\n",
       "      <th>15</th>\n",
       "      <td>Rostislav_Ivanov</td>\n",
       "      <td>9</td>\n",
       "    </tr>\n",
       "    <tr>\n",
       "      <th>2</th>\n",
       "      <td>Alexey_Petrov</td>\n",
       "      <td>7</td>\n",
       "    </tr>\n",
       "    <tr>\n",
       "      <th>20</th>\n",
       "      <td>Vasiliy_Petrov</td>\n",
       "      <td>7</td>\n",
       "    </tr>\n",
       "  </tbody>\n",
       "</table>\n",
       "</div>"
      ],
      "text/plain": [
       "                 name  quantity\n",
       "3      Alexey_Smirnov        52\n",
       "13       Petr_Smirnov        52\n",
       "6       Anton_Smirnov        45\n",
       "10       Petr_Fedorov        34\n",
       "7      Kirill_Fedorov        28\n",
       "16   Rostislav_Petrov        28\n",
       "19     Vasiliy_Ivanov        27\n",
       "0      Alexey_Fedorov        24\n",
       "4        Anton_Ivanov        23\n",
       "11        Petr_Ivanov        21\n",
       "5        Anton_Petrov        18\n",
       "9      Kirill_Smirnov        17\n",
       "1       Alexey_Ivanov        17\n",
       "17  Rostislav_Smirnov        17\n",
       "14  Rostislav_Fedorov        16\n",
       "18    Vasiliy_Fedorov        15\n",
       "12        Petr_Petrov        14\n",
       "8       Kirill_Petrov         9\n",
       "15   Rostislav_Ivanov         9\n",
       "2       Alexey_Petrov         7\n",
       "20     Vasiliy_Petrov         7"
      ]
     },
     "execution_count": 6,
     "metadata": {},
     "output_type": "execute_result"
    }
   ],
   "source": [
    "df\\\n",
    "    .groupby('name', as_index=False)\\\n",
    "    .agg({'quantity':'sum'})\\\n",
    "    .sort_values('quantity', ascending=False)"
   ]
  },
  {
   "cell_type": "markdown",
   "metadata": {},
   "source": [
    "### Шаг 4"
   ]
  },
  {
   "cell_type": "markdown",
   "metadata": {},
   "source": [
    "Найдите топ-10 товаров по числу проданных единиц за всё время и постройте барплот (столбчатую диаграмму, `sns.barplot`), где:\n",
    "\n",
    "* по оси x — идентификаторы товаров (`product_id`) \n",
    "* по оси y — суммарное число их покупок (сколько товаров с таким `product_id` было продано)\n",
    "\n",
    "Для практики попробуйте изменить параметры графика, например: цвет (`color`), сортировку значений по оси х (`order`). \n",
    "\n",
    "В качестве ответа укажите, сколько было продано единиц товара с `product_id` равным `56`."
   ]
  },
  {
   "cell_type": "code",
   "execution_count": 7,
   "metadata": {},
   "outputs": [
    {
     "data": {
      "text/html": [
       "<div>\n",
       "<style scoped>\n",
       "    .dataframe tbody tr th:only-of-type {\n",
       "        vertical-align: middle;\n",
       "    }\n",
       "\n",
       "    .dataframe tbody tr th {\n",
       "        vertical-align: top;\n",
       "    }\n",
       "\n",
       "    .dataframe thead th {\n",
       "        text-align: right;\n",
       "    }\n",
       "</style>\n",
       "<table border=\"1\" class=\"dataframe\">\n",
       "  <thead>\n",
       "    <tr style=\"text-align: right;\">\n",
       "      <th></th>\n",
       "      <th>product_id</th>\n",
       "      <th>quantity</th>\n",
       "    </tr>\n",
       "  </thead>\n",
       "  <tbody>\n",
       "    <tr>\n",
       "      <th>22</th>\n",
       "      <td>27</td>\n",
       "      <td>20</td>\n",
       "    </tr>\n",
       "    <tr>\n",
       "      <th>42</th>\n",
       "      <td>56</td>\n",
       "      <td>18</td>\n",
       "    </tr>\n",
       "    <tr>\n",
       "      <th>21</th>\n",
       "      <td>24</td>\n",
       "      <td>15</td>\n",
       "    </tr>\n",
       "    <tr>\n",
       "      <th>51</th>\n",
       "      <td>74</td>\n",
       "      <td>15</td>\n",
       "    </tr>\n",
       "    <tr>\n",
       "      <th>32</th>\n",
       "      <td>41</td>\n",
       "      <td>14</td>\n",
       "    </tr>\n",
       "    <tr>\n",
       "      <th>27</th>\n",
       "      <td>34</td>\n",
       "      <td>13</td>\n",
       "    </tr>\n",
       "    <tr>\n",
       "      <th>66</th>\n",
       "      <td>94</td>\n",
       "      <td>13</td>\n",
       "    </tr>\n",
       "    <tr>\n",
       "      <th>46</th>\n",
       "      <td>66</td>\n",
       "      <td>13</td>\n",
       "    </tr>\n",
       "    <tr>\n",
       "      <th>65</th>\n",
       "      <td>92</td>\n",
       "      <td>12</td>\n",
       "    </tr>\n",
       "    <tr>\n",
       "      <th>38</th>\n",
       "      <td>50</td>\n",
       "      <td>12</td>\n",
       "    </tr>\n",
       "  </tbody>\n",
       "</table>\n",
       "</div>"
      ],
      "text/plain": [
       "    product_id  quantity\n",
       "22          27        20\n",
       "42          56        18\n",
       "21          24        15\n",
       "51          74        15\n",
       "32          41        14\n",
       "27          34        13\n",
       "66          94        13\n",
       "46          66        13\n",
       "65          92        12\n",
       "38          50        12"
      ]
     },
     "execution_count": 7,
     "metadata": {},
     "output_type": "execute_result"
    }
   ],
   "source": [
    "res = df\\\n",
    "    .groupby('product_id', as_index=False)\\\n",
    "    .agg({'quantity':'sum'})\\\n",
    "    .sort_values('quantity', ascending=False)\\\n",
    "    .head(10)\n",
    "res "
   ]
  },
  {
   "cell_type": "code",
   "execution_count": 8,
   "metadata": {},
   "outputs": [
    {
     "data": {
      "text/plain": [
       "<AxesSubplot:xlabel='product_id', ylabel='quantity'>"
      ]
     },
     "execution_count": 8,
     "metadata": {},
     "output_type": "execute_result"
    },
    {
     "data": {
      "image/png": "[encoded data removed]",
      "text/plain": [
       "<Figure size 640x480 with 1 Axes>"
      ]
     },
     "metadata": {},
     "output_type": "display_data"
    }
   ],
   "source": [
    "import seaborn as sns\n",
    "sns.barplot(data=res, x='product_id', y='quantity')"
   ]
  },
  {
   "cell_type": "markdown",
   "metadata": {},
   "source": [
    "### Шаг 5"
   ]
  },
  {
   "cell_type": "markdown",
   "metadata": {},
   "source": [
    "Посмотрим на продажи по дням! Для визуализации снова используйте барплот, только теперь по оси `x` будут дни, по которым у нас есть данные (`date`). \n",
    "\n",
    "Далее выберите верные утверждения:"
   ]
  },
  {
   "cell_type": "markdown",
   "metadata": {},
   "source": [
    "* Меньше всего товаров было приобретено 6 декабря\n",
    "* 5 декабря было куплено почти в три раза меньше товаров, чем в предыдущий день\n",
    "* 8 и 9 декабря было продано примерно одинаковое число товаров\n",
    "* Максимальное число товаров было продано 4 декабря\n",
    "* Меньше всего продуктов было приобретено 4 декабря\n",
    "* 4 декабря было куплено почти в два раза больше товаров, чем в предыдущий день\n",
    "* 5 декабря было куплено почти в два раза больше товаров, чем в предыдущий день\n",
    "* 7 декабря было куплено почти в два раза больше товаров, чем в предыдущий день"
   ]
  },
  {
   "cell_type": "code",
   "execution_count": 9,
   "metadata": {},
   "outputs": [
    {
     "data": {
      "text/html": [
       "<div>\n",
       "<style scoped>\n",
       "    .dataframe tbody tr th:only-of-type {\n",
       "        vertical-align: middle;\n",
       "    }\n",
       "\n",
       "    .dataframe tbody tr th {\n",
       "        vertical-align: top;\n",
       "    }\n",
       "\n",
       "    .dataframe thead th {\n",
       "        text-align: right;\n",
       "    }\n",
       "</style>\n",
       "<table border=\"1\" class=\"dataframe\">\n",
       "  <thead>\n",
       "    <tr style=\"text-align: right;\">\n",
       "      <th></th>\n",
       "      <th>date</th>\n",
       "      <th>quantity</th>\n",
       "    </tr>\n",
       "  </thead>\n",
       "  <tbody>\n",
       "    <tr>\n",
       "      <th>0</th>\n",
       "      <td>2020-12-03</td>\n",
       "      <td>60</td>\n",
       "    </tr>\n",
       "    <tr>\n",
       "      <th>1</th>\n",
       "      <td>2020-12-04</td>\n",
       "      <td>113</td>\n",
       "    </tr>\n",
       "    <tr>\n",
       "      <th>2</th>\n",
       "      <td>2020-12-05</td>\n",
       "      <td>61</td>\n",
       "    </tr>\n",
       "    <tr>\n",
       "      <th>3</th>\n",
       "      <td>2020-12-06</td>\n",
       "      <td>15</td>\n",
       "    </tr>\n",
       "    <tr>\n",
       "      <th>4</th>\n",
       "      <td>2020-12-07</td>\n",
       "      <td>94</td>\n",
       "    </tr>\n",
       "    <tr>\n",
       "      <th>5</th>\n",
       "      <td>2020-12-08</td>\n",
       "      <td>68</td>\n",
       "    </tr>\n",
       "    <tr>\n",
       "      <th>6</th>\n",
       "      <td>2020-12-09</td>\n",
       "      <td>69</td>\n",
       "    </tr>\n",
       "  </tbody>\n",
       "</table>\n",
       "</div>"
      ],
      "text/plain": [
       "         date  quantity\n",
       "0  2020-12-03        60\n",
       "1  2020-12-04       113\n",
       "2  2020-12-05        61\n",
       "3  2020-12-06        15\n",
       "4  2020-12-07        94\n",
       "5  2020-12-08        68\n",
       "6  2020-12-09        69"
      ]
     },
     "execution_count": 9,
     "metadata": {},
     "output_type": "execute_result"
    }
   ],
   "source": [
    "res = df\\\n",
    "    .groupby('date', as_index=False)\\\n",
    "    .agg({'quantity':'sum'})\\\n",
    "    .sort_values('date')\\\n",
    "    .head(10)\n",
    "res "
   ]
  },
  {
   "cell_type": "code",
   "execution_count": 10,
   "metadata": {},
   "outputs": [
    {
     "data": {
      "text/plain": [
       "<AxesSubplot:xlabel='date', ylabel='quantity'>"
      ]
     },
     "execution_count": 10,
     "metadata": {},
     "output_type": "execute_result"
    },
    {
     "data": {
      "image/png": "[encoded data removed]",
      "text/plain": [
       "<Figure size 640x480 with 1 Axes>"
      ]
     },
     "metadata": {},
     "output_type": "display_data"
    }
   ],
   "source": [
    "import matplotlib.pyplot as plt\n",
    "plt.figure(figsize=(8, 6), dpi=80)\n",
    "\n",
    "sns.barplot(data=res, x='date', y='quantity')"
   ]
  },
  {
   "cell_type": "markdown",
   "metadata": {},
   "source": [
    "### Шаг 6"
   ]
  },
  {
   "cell_type": "markdown",
   "metadata": {},
   "source": [
    "Сколько пользователей приобрели какой-либо товар повторно (более 1 раза)? Повтором будем считать покупку товара с одинаковым `product_id`, совершенную в разные дни. \n",
    "\n",
    "Например, пользователь `Sasha Tsarev` дважды приобрел товар `6`. Поскольку покупка была совершена в один и тот же день, повторной в данном случае она считаться не будет. \n",
    "\n",
    "`Katya Skriptsova` также сделала две покупки товара `7`, но в разные дни, поэтому этот случай засчитывается.\n",
    "\n",
    "|product_id|quantity|name|date|                                                                                     \n",
    "|:----|:-----|:--|:-----|                                              \n",
    "|25|2|Кatya_Skriptsova|2020-12-05|\n",
    "|54|1|Olya_Silyutina|2020-12-05|\n",
    "|7|4|Кatya_Skriptsova|2020-12-05|\n",
    "|6|4|Sasha_Tsarev|2020-12-06|\n",
    "|6|1|Sasha_Tsarev|2020-12-06|\n",
    "|7|5|Кatya_Skriptsova|2020-12-06|\n",
    "\n",
    "Может пригодиться: `.drop_duplicates()`"
   ]
  },
  {
   "cell_type": "code",
   "execution_count": 11,
   "metadata": {},
   "outputs": [
    {
     "data": {
      "text/html": [
       "<div>\n",
       "<style scoped>\n",
       "    .dataframe tbody tr th:only-of-type {\n",
       "        vertical-align: middle;\n",
       "    }\n",
       "\n",
       "    .dataframe tbody tr th {\n",
       "        vertical-align: top;\n",
       "    }\n",
       "\n",
       "    .dataframe thead th {\n",
       "        text-align: right;\n",
       "    }\n",
       "</style>\n",
       "<table border=\"1\" class=\"dataframe\">\n",
       "  <thead>\n",
       "    <tr style=\"text-align: right;\">\n",
       "      <th></th>\n",
       "      <th></th>\n",
       "      <th>product_id</th>\n",
       "    </tr>\n",
       "    <tr>\n",
       "      <th>name</th>\n",
       "      <th>product_id</th>\n",
       "      <th></th>\n",
       "    </tr>\n",
       "  </thead>\n",
       "  <tbody>\n",
       "    <tr>\n",
       "      <th>Anton_Ivanov</th>\n",
       "      <th>15</th>\n",
       "      <td>2</td>\n",
       "    </tr>\n",
       "    <tr>\n",
       "      <th>Petr_Fedorov</th>\n",
       "      <th>94</th>\n",
       "      <td>2</td>\n",
       "    </tr>\n",
       "  </tbody>\n",
       "</table>\n",
       "</div>"
      ],
      "text/plain": [
       "                         product_id\n",
       "name         product_id            \n",
       "Anton_Ivanov 15                   2\n",
       "Petr_Fedorov 94                   2"
      ]
     },
     "execution_count": 11,
     "metadata": {},
     "output_type": "execute_result"
    }
   ],
   "source": [
    "df.drop_duplicates(subset=['name', 'product_id', 'date']).groupby(['name', 'product_id']).agg({'product_id':'count'}).query('product_id > 1')\n"
   ]
  },
  {
   "cell_type": "markdown",
   "metadata": {},
   "source": [
    "## Часть 2. Геном мухи и работа с нестандартным форматом данных"
   ]
  },
  {
   "cell_type": "markdown",
   "metadata": {},
   "source": [
    "В данном проекте вы поработаете с довольно нетипичными для аналитика данными: `gff файлом`, который описывает геном мухи (описание формата можно найти [здесь](http://gmod.org/wiki/GFF3)). \n",
    "\n",
    "При его выполнении вам может понадобиться часть конспекта про работу с регулярными выражениями и со строковыми данными.\n",
    "\n",
    "**Задачи**:\n",
    "\n",
    "* выделите из колонки `attributes` значение атрибута `Parent`, то есть если там записано `Parent=x,`, `something;Parent=x` или `Parent=x;something`, то нам нужен только `x`\n",
    "* выясните, какое из этих значений является самым частым\n",
    "* постройте распределение встречаемости значений в столбце `type`\n",
    "\n",
    "Данные можно достать с JupyterHub из папке `7_gff` (`'...shared/homeworks/python_ds_miniprojects/7_gff'`) , либо [отсюда](https://stepik.org/media/attachments/course/72204/gff.tsv)."
   ]
  },
  {
   "cell_type": "markdown",
   "metadata": {},
   "source": [
    "### Шаг 8"
   ]
  },
  {
   "cell_type": "markdown",
   "metadata": {},
   "source": [
    "Какое значение атрибута `Parent` самое частое?\n",
    "\n",
    "Вам необходимо извлечь из колонки `attributes` значение атрибута `Parent` для каждой строки и найти самый частый."
   ]
  },
  {
   "cell_type": "code",
   "execution_count": 17,
   "metadata": {},
   "outputs": [
    {
     "data": {
      "text/html": [
       "<div>\n",
       "<style scoped>\n",
       "    .dataframe tbody tr th:only-of-type {\n",
       "        vertical-align: middle;\n",
       "    }\n",
       "\n",
       "    .dataframe tbody tr th {\n",
       "        vertical-align: top;\n",
       "    }\n",
       "\n",
       "    .dataframe thead th {\n",
       "        text-align: right;\n",
       "    }\n",
       "</style>\n",
       "<table border=\"1\" class=\"dataframe\">\n",
       "  <thead>\n",
       "    <tr style=\"text-align: right;\">\n",
       "      <th></th>\n",
       "      <th>seq_id</th>\n",
       "      <th>source</th>\n",
       "      <th>type</th>\n",
       "      <th>start</th>\n",
       "      <th>end</th>\n",
       "      <th>score</th>\n",
       "      <th>strand</th>\n",
       "      <th>phase</th>\n",
       "      <th>attributes</th>\n",
       "    </tr>\n",
       "  </thead>\n",
       "  <tbody>\n",
       "    <tr>\n",
       "      <th>0</th>\n",
       "      <td>chr17</td>\n",
       "      <td>RefSeq</td>\n",
       "      <td>exon</td>\n",
       "      <td>6811330</td>\n",
       "      <td>6811453</td>\n",
       "      <td>.</td>\n",
       "      <td>+</td>\n",
       "      <td>.</td>\n",
       "      <td>Parent=XM_001475631.1</td>\n",
       "    </tr>\n",
       "    <tr>\n",
       "      <th>1</th>\n",
       "      <td>chr17</td>\n",
       "      <td>RefSeq</td>\n",
       "      <td>CDS</td>\n",
       "      <td>6808204</td>\n",
       "      <td>6808245</td>\n",
       "      <td>.</td>\n",
       "      <td>+</td>\n",
       "      <td>0</td>\n",
       "      <td>Name=CDS:NC_000083.5:LOC100040603;Parent=XM_00...</td>\n",
       "    </tr>\n",
       "    <tr>\n",
       "      <th>2</th>\n",
       "      <td>chr17</td>\n",
       "      <td>RefSeq</td>\n",
       "      <td>CDS</td>\n",
       "      <td>6811792</td>\n",
       "      <td>6811869</td>\n",
       "      <td>.</td>\n",
       "      <td>+</td>\n",
       "      <td>2</td>\n",
       "      <td>Name=CDS:NC_000083.5:LOC100040603;Parent=XM_00...</td>\n",
       "    </tr>\n",
       "    <tr>\n",
       "      <th>3</th>\n",
       "      <td>chr17</td>\n",
       "      <td>RefSeq</td>\n",
       "      <td>exon</td>\n",
       "      <td>6806513</td>\n",
       "      <td>6806553</td>\n",
       "      <td>.</td>\n",
       "      <td>+</td>\n",
       "      <td>.</td>\n",
       "      <td>Parent=XM_001475631.1</td>\n",
       "    </tr>\n",
       "    <tr>\n",
       "      <th>4</th>\n",
       "      <td>chr17</td>\n",
       "      <td>RefSeq</td>\n",
       "      <td>five_prime_UTR</td>\n",
       "      <td>6806513</td>\n",
       "      <td>6806526</td>\n",
       "      <td>.</td>\n",
       "      <td>+</td>\n",
       "      <td>.</td>\n",
       "      <td>Parent=XM_001475631.1</td>\n",
       "    </tr>\n",
       "    <tr>\n",
       "      <th>...</th>\n",
       "      <td>...</td>\n",
       "      <td>...</td>\n",
       "      <td>...</td>\n",
       "      <td>...</td>\n",
       "      <td>...</td>\n",
       "      <td>...</td>\n",
       "      <td>...</td>\n",
       "      <td>...</td>\n",
       "      <td>...</td>\n",
       "    </tr>\n",
       "    <tr>\n",
       "      <th>507</th>\n",
       "      <td>chr17</td>\n",
       "      <td>RefSeq</td>\n",
       "      <td>exon</td>\n",
       "      <td>6812219</td>\n",
       "      <td>6818159</td>\n",
       "      <td>.</td>\n",
       "      <td>+</td>\n",
       "      <td>.</td>\n",
       "      <td>Parent=XM_001475631.1</td>\n",
       "    </tr>\n",
       "    <tr>\n",
       "      <th>508</th>\n",
       "      <td>chr17</td>\n",
       "      <td>RefSeq</td>\n",
       "      <td>protein</td>\n",
       "      <td>6806527</td>\n",
       "      <td>6812289</td>\n",
       "      <td>.</td>\n",
       "      <td>+</td>\n",
       "      <td>.</td>\n",
       "      <td>ID=;Parent=XM_001475631.1</td>\n",
       "    </tr>\n",
       "    <tr>\n",
       "      <th>509</th>\n",
       "      <td>chr17</td>\n",
       "      <td>RefSeq</td>\n",
       "      <td>CDS</td>\n",
       "      <td>6806527</td>\n",
       "      <td>6806553</td>\n",
       "      <td>.</td>\n",
       "      <td>+</td>\n",
       "      <td>0</td>\n",
       "      <td>Name=CDS:NC_000083.5:LOC100040603;Parent=XM_00...</td>\n",
       "    </tr>\n",
       "    <tr>\n",
       "      <th>510</th>\n",
       "      <td>chr17</td>\n",
       "      <td>RefSeq</td>\n",
       "      <td>exon</td>\n",
       "      <td>6811792</td>\n",
       "      <td>6811869</td>\n",
       "      <td>.</td>\n",
       "      <td>+</td>\n",
       "      <td>.</td>\n",
       "      <td>Parent=XM_001475631.1</td>\n",
       "    </tr>\n",
       "    <tr>\n",
       "      <th>511</th>\n",
       "      <td>chr17</td>\n",
       "      <td>RefSeq</td>\n",
       "      <td>exon</td>\n",
       "      <td>6806513</td>\n",
       "      <td>6806553</td>\n",
       "      <td>.</td>\n",
       "      <td>+</td>\n",
       "      <td>.</td>\n",
       "      <td>Parent=XM_001475631.1</td>\n",
       "    </tr>\n",
       "  </tbody>\n",
       "</table>\n",
       "<p>512 rows × 9 columns</p>\n",
       "</div>"
      ],
      "text/plain": [
       "    seq_id  source            type    start      end score strand phase  \\\n",
       "0    chr17  RefSeq            exon  6811330  6811453     .      +     .   \n",
       "1    chr17  RefSeq             CDS  6808204  6808245     .      +     0   \n",
       "2    chr17  RefSeq             CDS  6811792  6811869     .      +     2   \n",
       "3    chr17  RefSeq            exon  6806513  6806553     .      +     .   \n",
       "4    chr17  RefSeq  five_prime_UTR  6806513  6806526     .      +     .   \n",
       "..     ...     ...             ...      ...      ...   ...    ...   ...   \n",
       "507  chr17  RefSeq            exon  6812219  6818159     .      +     .   \n",
       "508  chr17  RefSeq         protein  6806527  6812289     .      +     .   \n",
       "509  chr17  RefSeq             CDS  6806527  6806553     .      +     0   \n",
       "510  chr17  RefSeq            exon  6811792  6811869     .      +     .   \n",
       "511  chr17  RefSeq            exon  6806513  6806553     .      +     .   \n",
       "\n",
       "                                            attributes  \n",
       "0                                Parent=XM_001475631.1  \n",
       "1    Name=CDS:NC_000083.5:LOC100040603;Parent=XM_00...  \n",
       "2    Name=CDS:NC_000083.5:LOC100040603;Parent=XM_00...  \n",
       "3                                Parent=XM_001475631.1  \n",
       "4                                Parent=XM_001475631.1  \n",
       "..                                                 ...  \n",
       "507                              Parent=XM_001475631.1  \n",
       "508                          ID=;Parent=XM_001475631.1  \n",
       "509  Name=CDS:NC_000083.5:LOC100040603;Parent=XM_00...  \n",
       "510                              Parent=XM_001475631.1  \n",
       "511                              Parent=XM_001475631.1  \n",
       "\n",
       "[512 rows x 9 columns]"
      ]
     },
     "execution_count": 17,
     "metadata": {},
     "output_type": "execute_result"
    }
   ],
   "source": [
    "df = pd.read_csv('gff.tsv', sep='\\t')\n",
    "df"
   ]
  },
  {
   "cell_type": "code",
   "execution_count": 18,
   "metadata": {
    "scrolled": false
   },
   "outputs": [],
   "source": [
    "df_att_lst = df.attributes.to_list()"
   ]
  },
  {
   "cell_type": "code",
   "execution_count": 19,
   "metadata": {},
   "outputs": [],
   "source": [
    "new_att = []\n",
    "for att in df_att_lst:\n",
    "    att_split = att.split(';')\n",
    "    for el in att_split:\n",
    "        if 'Parent=' in el:\n",
    "            res = el.split('Parent=')[1]\n",
    "            new_att.append(res)\n",
    "            \n",
    "new_att = pd.Series(new_att)"
   ]
  },
  {
   "cell_type": "code",
   "execution_count": 20,
   "metadata": {},
   "outputs": [
    {
     "data": {
      "text/plain": [
       "XM_001475631.1              309\n",
       "XM_001475631.1,             170\n",
       "NC_000083.5:LOC100040603     33\n",
       "Name: attributes, dtype: int64"
      ]
     },
     "execution_count": 20,
     "metadata": {},
     "output_type": "execute_result"
    }
   ],
   "source": [
    "df['attributes'] = new_att\n",
    "df.attributes.value_counts()"
   ]
  },
  {
   "cell_type": "markdown",
   "metadata": {},
   "source": [
    "### Шаг 9"
   ]
  },
  {
   "cell_type": "markdown",
   "metadata": {},
   "source": [
    "Постройте распределение встречаемости значений в колонке `type`.\n",
    "\n",
    "Какое самое частое значение в колонке `type`?"
   ]
  },
  {
   "cell_type": "markdown",
   "metadata": {},
   "source": [
    "* exon\n",
    "* CDS\n",
    "* five_prime_UTR\n",
    "* mRNA\n",
    "* protein\n",
    "* three_prime_UTR"
   ]
  },
  {
   "cell_type": "code",
   "execution_count": 28,
   "metadata": {},
   "outputs": [
    {
     "data": {
      "text/html": [
       "<div>\n",
       "<style scoped>\n",
       "    .dataframe tbody tr th:only-of-type {\n",
       "        vertical-align: middle;\n",
       "    }\n",
       "\n",
       "    .dataframe tbody tr th {\n",
       "        vertical-align: top;\n",
       "    }\n",
       "\n",
       "    .dataframe thead th {\n",
       "        text-align: right;\n",
       "    }\n",
       "</style>\n",
       "<table border=\"1\" class=\"dataframe\">\n",
       "  <thead>\n",
       "    <tr style=\"text-align: right;\">\n",
       "      <th></th>\n",
       "      <th>index</th>\n",
       "      <th>type</th>\n",
       "    </tr>\n",
       "  </thead>\n",
       "  <tbody>\n",
       "    <tr>\n",
       "      <th>0</th>\n",
       "      <td>exon</td>\n",
       "      <td>201</td>\n",
       "    </tr>\n",
       "    <tr>\n",
       "      <th>1</th>\n",
       "      <td>CDS</td>\n",
       "      <td>170</td>\n",
       "    </tr>\n",
       "    <tr>\n",
       "      <th>2</th>\n",
       "      <td>five_prime_UTR</td>\n",
       "      <td>47</td>\n",
       "    </tr>\n",
       "    <tr>\n",
       "      <th>3</th>\n",
       "      <td>mRNA</td>\n",
       "      <td>33</td>\n",
       "    </tr>\n",
       "    <tr>\n",
       "      <th>4</th>\n",
       "      <td>three_prime_UTR</td>\n",
       "      <td>32</td>\n",
       "    </tr>\n",
       "    <tr>\n",
       "      <th>5</th>\n",
       "      <td>protein</td>\n",
       "      <td>29</td>\n",
       "    </tr>\n",
       "  </tbody>\n",
       "</table>\n",
       "</div>"
      ],
      "text/plain": [
       "             index  type\n",
       "0             exon   201\n",
       "1              CDS   170\n",
       "2   five_prime_UTR    47\n",
       "3             mRNA    33\n",
       "4  three_prime_UTR    32\n",
       "5          protein    29"
      ]
     },
     "execution_count": 28,
     "metadata": {},
     "output_type": "execute_result"
    }
   ],
   "source": [
    "res = pd.DataFrame(df['type'].value_counts()).reset_index()\n",
    "res"
   ]
  },
  {
   "cell_type": "code",
   "execution_count": 31,
   "metadata": {},
   "outputs": [
    {
     "data": {
      "text/plain": [
       "<AxesSubplot:xlabel='index', ylabel='type'>"
      ]
     },
     "execution_count": 31,
     "metadata": {},
     "output_type": "execute_result"
    },
    {
     "data": {
      "image/png": "[encoded data removed]",
      "text/plain": [
       "<Figure size 1280x640 with 1 Axes>"
      ]
     },
     "metadata": {},
     "output_type": "display_data"
    }
   ],
   "source": [
    "plt.figure(figsize=[16, 8], dpi=80)\n",
    "sns.barplot(data=res, x='index', y='type')"
   ]
  }
 ],
 "metadata": {
  "kernelspec": {
   "display_name": "Python 3 (ipykernel)",
   "language": "python",
   "name": "python3"
  },
  "language_info": {
   "codemirror_mode": {
    "name": "ipython",
    "version": 3
   },
   "file_extension": ".py",
   "mimetype": "text/x-python",
   "name": "python",
   "nbconvert_exporter": "python",
   "pygments_lexer": "ipython3",
   "version": "3.7.0"
  }
 },
 "nbformat": 4,
 "nbformat_minor": 4
}

{
 "cells": [
  {
   "cell_type": "markdown",
   "metadata": {},
   "source": [
    "# Проект урока 6. Оконные функции и интерактивные графики\n",
    "#  «Анализ средних цен на авокадо»"
   ]
  },
  {
   "cell_type": "markdown",
   "metadata": {},
   "source": [
    "## Шаг 1"
   ]
  },
  {
   "cell_type": "markdown",
   "metadata": {},
   "source": [
    "Представьте, что вы — аналитик в агентстве, специализирующемся на изучении рынка продуктов питания. Вам поручено исследовать тренды цен на авокадо и проанализировать средние значения. Для этого у вас есть данные от Hass Avocado Board:\n",
    "\n",
    "- Date — дата  \n",
    "- AveragePrice — средняя цена одного авокадо  \n",
    "- Total Volume — количество проданных авокадо  \n",
    "- 4046 — количество проданных авокадо PLU 4046 (PLU — код товара, Product Lookup code)  \n",
    "- 4225 — количество проданных авокадо PLU 4225  \n",
    "- 4770 — количество проданных авокадо PLU 4770  \n",
    "- Total Bags — всего упаковок  \n",
    "- Small Bags — маленькие упаковки  \n",
    "- Large Bags — большие  \n",
    "- XLarge Bags — очень большие  \n",
    "- type — обычный или органический  \n",
    "- year — год  \n",
    "- Region — город или регион the city or region of the observation  \n",
    "\n",
    "В датафрейме находятся данные не за каждый день, а за конец каждой недели. Для каждой даты есть несколько наблюдений, отличающихся по типу авокадо и региону продажи. "
   ]
  },
  {
   "cell_type": "markdown",
   "metadata": {},
   "source": [
    "Вы можете решать задания тем способом, который считаете наиболее удобным или оптимальным. А для того, чтобы лучше понять задание, следуйте по шагам выполнения. Бывает, что их можно выполнить в одну строчку, применяя методы друг за другом. А если выполняете шаги отдельно, не забудьте сохранить результат в переменную, чтобы на следующем шаге работать именно с ней.\n",
    "\n",
    "В ноутбуке место для вашего решения обозначено комментарием `# Ваш код здесь`, но вы можете писать код там, где вам удобно, добавлять или удалять ячейки с кодом или текстом по вашему усмотрению.\n",
    "\n",
    "Кроме того можно посмотреть подсказки, кликнув на строчку `► Нажмите сюда, чтобы увидеть подсказку`. Также не забывайте о наличии конспектов и возможности задать вопрос в Discord, ссылка на нужный тред есть на странице каждого шага в LMS"
   ]
  },
  {
   "cell_type": "markdown",
   "metadata": {},
   "source": [
    "## Шаг 2"
   ]
  },
  {
   "cell_type": "markdown",
   "metadata": {},
   "source": [
    "Для начала нас будут интересовать общие данные, без разбивки по типам авокадо и регионам. Прочитайте данные и сохраните датафрейм в переменную `avocado_full`. **Для каждой даты посчитайте усредненное значение средних цен на авокадо (см.колонку `AveragePrice`).** Сохраните результат в переменную `avocado_mean`.\n",
    "\n",
    "**Какое усредненное значение цены получилось в первой строчке, за 4 января 2015 года?** Округлять результат не нужно. В качестве разделителя дробной части используйте точку."
   ]
  },
  {
   "cell_type": "code",
   "execution_count": 71,
   "metadata": {},
   "outputs": [],
   "source": [
    "import pandas as pd"
   ]
  },
  {
   "cell_type": "code",
   "execution_count": 72,
   "metadata": {},
   "outputs": [],
   "source": [
    "avocado_full = pd.read_csv('avocado_full.csv', parse_dates=['Date'])"
   ]
  },
  {
   "cell_type": "code",
   "execution_count": 73,
   "metadata": {},
   "outputs": [
    {
     "data": {
      "text/html": [
       "<div>\n",
       "<style scoped>\n",
       "    .dataframe tbody tr th:only-of-type {\n",
       "        vertical-align: middle;\n",
       "    }\n",
       "\n",
       "    .dataframe tbody tr th {\n",
       "        vertical-align: top;\n",
       "    }\n",
       "\n",
       "    .dataframe thead th {\n",
       "        text-align: right;\n",
       "    }\n",
       "</style>\n",
       "<table border=\"1\" class=\"dataframe\">\n",
       "  <thead>\n",
       "    <tr style=\"text-align: right;\">\n",
       "      <th></th>\n",
       "      <th>Date</th>\n",
       "      <th>AveragePrice</th>\n",
       "      <th>Total Volume</th>\n",
       "      <th>4046</th>\n",
       "      <th>4225</th>\n",
       "      <th>4770</th>\n",
       "      <th>Total Bags</th>\n",
       "      <th>Small Bags</th>\n",
       "      <th>Large Bags</th>\n",
       "      <th>XLarge Bags</th>\n",
       "      <th>type</th>\n",
       "      <th>year</th>\n",
       "      <th>region</th>\n",
       "    </tr>\n",
       "  </thead>\n",
       "  <tbody>\n",
       "    <tr>\n",
       "      <th>0</th>\n",
       "      <td>2015-01-04</td>\n",
       "      <td>1.75</td>\n",
       "      <td>27365.89</td>\n",
       "      <td>9307.34</td>\n",
       "      <td>3844.81</td>\n",
       "      <td>615.28</td>\n",
       "      <td>13598.46</td>\n",
       "      <td>13061.10</td>\n",
       "      <td>537.36</td>\n",
       "      <td>0.00</td>\n",
       "      <td>organic</td>\n",
       "      <td>2015</td>\n",
       "      <td>Southeast</td>\n",
       "    </tr>\n",
       "    <tr>\n",
       "      <th>1</th>\n",
       "      <td>2015-01-04</td>\n",
       "      <td>1.49</td>\n",
       "      <td>17723.17</td>\n",
       "      <td>1189.35</td>\n",
       "      <td>15628.27</td>\n",
       "      <td>0.00</td>\n",
       "      <td>905.55</td>\n",
       "      <td>905.55</td>\n",
       "      <td>0.00</td>\n",
       "      <td>0.00</td>\n",
       "      <td>organic</td>\n",
       "      <td>2015</td>\n",
       "      <td>Chicago</td>\n",
       "    </tr>\n",
       "    <tr>\n",
       "      <th>2</th>\n",
       "      <td>2015-01-04</td>\n",
       "      <td>1.68</td>\n",
       "      <td>2896.72</td>\n",
       "      <td>161.68</td>\n",
       "      <td>206.96</td>\n",
       "      <td>0.00</td>\n",
       "      <td>2528.08</td>\n",
       "      <td>2528.08</td>\n",
       "      <td>0.00</td>\n",
       "      <td>0.00</td>\n",
       "      <td>organic</td>\n",
       "      <td>2015</td>\n",
       "      <td>HarrisburgScranton</td>\n",
       "    </tr>\n",
       "    <tr>\n",
       "      <th>3</th>\n",
       "      <td>2015-01-04</td>\n",
       "      <td>1.52</td>\n",
       "      <td>54956.80</td>\n",
       "      <td>3013.04</td>\n",
       "      <td>35456.88</td>\n",
       "      <td>1561.70</td>\n",
       "      <td>14925.18</td>\n",
       "      <td>11264.80</td>\n",
       "      <td>3660.38</td>\n",
       "      <td>0.00</td>\n",
       "      <td>conventional</td>\n",
       "      <td>2015</td>\n",
       "      <td>Pittsburgh</td>\n",
       "    </tr>\n",
       "    <tr>\n",
       "      <th>4</th>\n",
       "      <td>2015-01-04</td>\n",
       "      <td>1.64</td>\n",
       "      <td>1505.12</td>\n",
       "      <td>1.27</td>\n",
       "      <td>1129.50</td>\n",
       "      <td>0.00</td>\n",
       "      <td>374.35</td>\n",
       "      <td>186.67</td>\n",
       "      <td>187.68</td>\n",
       "      <td>0.00</td>\n",
       "      <td>organic</td>\n",
       "      <td>2015</td>\n",
       "      <td>Boise</td>\n",
       "    </tr>\n",
       "    <tr>\n",
       "      <th>...</th>\n",
       "      <td>...</td>\n",
       "      <td>...</td>\n",
       "      <td>...</td>\n",
       "      <td>...</td>\n",
       "      <td>...</td>\n",
       "      <td>...</td>\n",
       "      <td>...</td>\n",
       "      <td>...</td>\n",
       "      <td>...</td>\n",
       "      <td>...</td>\n",
       "      <td>...</td>\n",
       "      <td>...</td>\n",
       "      <td>...</td>\n",
       "    </tr>\n",
       "    <tr>\n",
       "      <th>18244</th>\n",
       "      <td>2018-03-25</td>\n",
       "      <td>1.36</td>\n",
       "      <td>908202.13</td>\n",
       "      <td>142681.06</td>\n",
       "      <td>463136.28</td>\n",
       "      <td>174975.75</td>\n",
       "      <td>127409.04</td>\n",
       "      <td>103579.41</td>\n",
       "      <td>22467.04</td>\n",
       "      <td>1362.59</td>\n",
       "      <td>conventional</td>\n",
       "      <td>2018</td>\n",
       "      <td>Chicago</td>\n",
       "    </tr>\n",
       "    <tr>\n",
       "      <th>18245</th>\n",
       "      <td>2018-03-25</td>\n",
       "      <td>0.70</td>\n",
       "      <td>9010588.32</td>\n",
       "      <td>3999735.71</td>\n",
       "      <td>966589.50</td>\n",
       "      <td>30130.82</td>\n",
       "      <td>4014132.29</td>\n",
       "      <td>3398569.92</td>\n",
       "      <td>546409.74</td>\n",
       "      <td>69152.63</td>\n",
       "      <td>conventional</td>\n",
       "      <td>2018</td>\n",
       "      <td>SouthCentral</td>\n",
       "    </tr>\n",
       "    <tr>\n",
       "      <th>18246</th>\n",
       "      <td>2018-03-25</td>\n",
       "      <td>1.42</td>\n",
       "      <td>163496.70</td>\n",
       "      <td>29253.30</td>\n",
       "      <td>5080.04</td>\n",
       "      <td>0.00</td>\n",
       "      <td>129163.36</td>\n",
       "      <td>109052.26</td>\n",
       "      <td>20111.10</td>\n",
       "      <td>0.00</td>\n",
       "      <td>organic</td>\n",
       "      <td>2018</td>\n",
       "      <td>SouthCentral</td>\n",
       "    </tr>\n",
       "    <tr>\n",
       "      <th>18247</th>\n",
       "      <td>2018-03-25</td>\n",
       "      <td>1.70</td>\n",
       "      <td>190257.38</td>\n",
       "      <td>29644.09</td>\n",
       "      <td>70982.10</td>\n",
       "      <td>0.00</td>\n",
       "      <td>89631.19</td>\n",
       "      <td>89424.11</td>\n",
       "      <td>207.08</td>\n",
       "      <td>0.00</td>\n",
       "      <td>organic</td>\n",
       "      <td>2018</td>\n",
       "      <td>California</td>\n",
       "    </tr>\n",
       "    <tr>\n",
       "      <th>18248</th>\n",
       "      <td>2018-03-25</td>\n",
       "      <td>1.34</td>\n",
       "      <td>1774776.77</td>\n",
       "      <td>63905.98</td>\n",
       "      <td>908653.71</td>\n",
       "      <td>843.45</td>\n",
       "      <td>801373.63</td>\n",
       "      <td>774634.09</td>\n",
       "      <td>23833.93</td>\n",
       "      <td>2905.61</td>\n",
       "      <td>conventional</td>\n",
       "      <td>2018</td>\n",
       "      <td>NewYork</td>\n",
       "    </tr>\n",
       "  </tbody>\n",
       "</table>\n",
       "<p>18249 rows × 13 columns</p>\n",
       "</div>"
      ],
      "text/plain": [
       "            Date  AveragePrice  Total Volume        4046       4225  \\\n",
       "0     2015-01-04          1.75      27365.89     9307.34    3844.81   \n",
       "1     2015-01-04          1.49      17723.17     1189.35   15628.27   \n",
       "2     2015-01-04          1.68       2896.72      161.68     206.96   \n",
       "3     2015-01-04          1.52      54956.80     3013.04   35456.88   \n",
       "4     2015-01-04          1.64       1505.12        1.27    1129.50   \n",
       "...          ...           ...           ...         ...        ...   \n",
       "18244 2018-03-25          1.36     908202.13   142681.06  463136.28   \n",
       "18245 2018-03-25          0.70    9010588.32  3999735.71  966589.50   \n",
       "18246 2018-03-25          1.42     163496.70    29253.30    5080.04   \n",
       "18247 2018-03-25          1.70     190257.38    29644.09   70982.10   \n",
       "18248 2018-03-25          1.34    1774776.77    63905.98  908653.71   \n",
       "\n",
       "            4770  Total Bags  Small Bags  Large Bags  XLarge Bags  \\\n",
       "0         615.28    13598.46    13061.10      537.36         0.00   \n",
       "1           0.00      905.55      905.55        0.00         0.00   \n",
       "2           0.00     2528.08     2528.08        0.00         0.00   \n",
       "3        1561.70    14925.18    11264.80     3660.38         0.00   \n",
       "4           0.00      374.35      186.67      187.68         0.00   \n",
       "...          ...         ...         ...         ...          ...   \n",
       "18244  174975.75   127409.04   103579.41    22467.04      1362.59   \n",
       "18245   30130.82  4014132.29  3398569.92   546409.74     69152.63   \n",
       "18246       0.00   129163.36   109052.26    20111.10         0.00   \n",
       "18247       0.00    89631.19    89424.11      207.08         0.00   \n",
       "18248     843.45   801373.63   774634.09    23833.93      2905.61   \n",
       "\n",
       "               type  year              region  \n",
       "0           organic  2015           Southeast  \n",
       "1           organic  2015             Chicago  \n",
       "2           organic  2015  HarrisburgScranton  \n",
       "3      conventional  2015          Pittsburgh  \n",
       "4           organic  2015               Boise  \n",
       "...             ...   ...                 ...  \n",
       "18244  conventional  2018             Chicago  \n",
       "18245  conventional  2018        SouthCentral  \n",
       "18246       organic  2018        SouthCentral  \n",
       "18247       organic  2018          California  \n",
       "18248  conventional  2018             NewYork  \n",
       "\n",
       "[18249 rows x 13 columns]"
      ]
     },
     "execution_count": 73,
     "metadata": {},
     "output_type": "execute_result"
    }
   ],
   "source": [
    "avocado_full\n"
   ]
  },
  {
   "cell_type": "code",
   "execution_count": 74,
   "metadata": {},
   "outputs": [
    {
     "data": {
      "text/plain": [
       "Date\n",
       "2015-01-04    1.301296\n",
       "2015-01-11    1.370648\n",
       "2015-01-18    1.391111\n",
       "2015-01-25    1.397130\n",
       "2015-02-01    1.247037\n",
       "                ...   \n",
       "2018-02-25    1.359630\n",
       "2018-03-04    1.350185\n",
       "2018-03-11    1.335093\n",
       "2018-03-18    1.313704\n",
       "2018-03-25    1.346852\n",
       "Name: AveragePrice, Length: 169, dtype: float64"
      ]
     },
     "execution_count": 74,
     "metadata": {},
     "output_type": "execute_result"
    }
   ],
   "source": [
    "avocado_mean = avocado_full\\\n",
    "    .groupby('Date')\\\n",
    "    .AveragePrice.mean()\n",
    "\n",
    "avocado_mean"
   ]
  },
  {
   "cell_type": "markdown",
   "metadata": {},
   "source": [
    "## Шаг 3"
   ]
  },
  {
   "cell_type": "markdown",
   "metadata": {},
   "source": [
    "Перед тем, как приступить к подсчету скользящего среднего, убедитесь, что вы знаете параметры метода `rolling`, представленные в [документации pandas](https://pandas.pydata.org/pandas-docs/stable/reference/api/pandas.DataFrame.rolling.html). Установите соответствие между каждым параметром и его описанием."
   ]
  },
  {
   "cell_type": "markdown",
   "metadata": {},
   "source": [
    "## Шаг 4"
   ]
  },
  {
   "cell_type": "markdown",
   "metadata": {},
   "source": [
    "**Теперь на полученных во втором шаге данных посчитайте скользящее среднее цены авокадо, с окном равным 3. Чему равно максимальное значение?** Ответ округлите до двух знаков после точки."
   ]
  },
  {
   "cell_type": "code",
   "execution_count": 75,
   "metadata": {},
   "outputs": [
    {
     "data": {
      "text/plain": [
       "1.8493209876543206"
      ]
     },
     "execution_count": 75,
     "metadata": {},
     "output_type": "execute_result"
    }
   ],
   "source": [
    "avocado_mean.rolling(window=3).mean().max()"
   ]
  },
  {
   "cell_type": "markdown",
   "metadata": {},
   "source": [
    "## Шаг 5"
   ]
  },
  {
   "cell_type": "markdown",
   "metadata": {},
   "source": [
    "Исследуйте, как размер окна влияет на сглаживание значения. **Постройте линейные графики и посмотрите, как изменится линия в зависимости от выбранного размера окна (2, 4, 10, 50). Соотнесите эти картинки с соответствующим значением размера окна:**"
   ]
  },
  {
   "cell_type": "markdown",
   "metadata": {},
   "source": [
    "![](https://ucarecdn.com/c24cc8c4-4596-4d71-a6ca-b5ad8ac3cd6f/)"
   ]
  },
  {
   "cell_type": "code",
   "execution_count": 76,
   "metadata": {},
   "outputs": [
    {
     "data": {
      "image/png": "[encoded data removed]",
      "text/plain": [
       "<Figure size 640x480 with 1 Axes>"
      ]
     },
     "metadata": {},
     "output_type": "display_data"
    },
    {
     "data": {
      "image/png": "[encoded data removed]",
      "text/plain": [
       "<Figure size 640x480 with 1 Axes>"
      ]
     },
     "metadata": {},
     "output_type": "display_data"
    },
    {
     "data": {
      "image/png": "[encoded data removed]",
      "text/plain": [
       "<Figure size 640x480 with 1 Axes>"
      ]
     },
     "metadata": {},
     "output_type": "display_data"
    },
    {
     "data": {
      "image/png": "[encoded data removed]",
      "text/plain": [
       "<Figure size 640x480 with 1 Axes>"
      ]
     },
     "metadata": {},
     "output_type": "display_data"
    }
   ],
   "source": [
    "import seaborn as sns\n",
    "import matplotlib.pyplot as plt\n",
    "%matplotlib inline\n",
    "\n",
    "windows = [2, 4, 10, 50]\n",
    "\n",
    "for el in windows:\n",
    "    fig = plt.figure()\n",
    "    ax = fig.add_subplot(111)\n",
    "    ax.set_title(f'Окно = {el}', fontsize=15)\n",
    "    res = avocado_mean.rolling(window=el).mean()\n",
    "    res.plot()\n",
    "    plt.show()\n",
    "    \n"
   ]
  },
  {
   "cell_type": "markdown",
   "metadata": {},
   "source": [
    "## Шаг 6"
   ]
  },
  {
   "cell_type": "markdown",
   "metadata": {},
   "source": [
    "**Теперь посчитайте экспоненциальное скользящее среднее.** Используйте данные в переменной `avocado_mean` и метод `ewm()` с параметром `span`, равным 2. Результат запишите в переменную `avocado_ewm`.\n",
    "\n",
    "**На LMS уже создана переменная `avocado_mean`. Загрузите в LMS ваш код, в котором сохраняете в переменную `avocado_ewm` расчет экспоненциального скользящего среднего**"
   ]
  },
  {
   "cell_type": "code",
   "execution_count": 77,
   "metadata": {},
   "outputs": [
    {
     "data": {
      "text/plain": [
       "Date\n",
       "2015-01-04    1.301296\n",
       "2015-01-11    1.353310\n",
       "2015-01-18    1.379480\n",
       "2015-01-25    1.391394\n",
       "2015-02-01    1.294758\n",
       "                ...   \n",
       "2018-02-25    1.356212\n",
       "2018-03-04    1.352194\n",
       "2018-03-11    1.340793\n",
       "2018-03-18    1.322734\n",
       "2018-03-25    1.338812\n",
       "Name: AveragePrice, Length: 169, dtype: float64"
      ]
     },
     "execution_count": 77,
     "metadata": {},
     "output_type": "execute_result"
    }
   ],
   "source": [
    "avocado_ewm = avocado_mean.ewm(span=2).mean()\n",
    "avocado_ewm"
   ]
  },
  {
   "cell_type": "markdown",
   "metadata": {},
   "source": [
    "## Шаг 7"
   ]
  },
  {
   "cell_type": "markdown",
   "metadata": {},
   "source": [
    "Теперь вернемся к изначальным данным из датафрейма `avocado_full`. Для органических авокадо (см.колонку `type`) в Чикаго (см.колонку `region`) посчитайте скользящее среднее с окном 4. Числа округлите до трех знаков после точки. На основе получившихся данных постройте интерактивный линейный график, чтобы было удобно заполнить пропуски:\n",
    "\n",
    "*При подсчете скользящего среднего средняя цена за авокадо 21 августа 2016 года была равна ..., 19 февраля 2017 её значение было равно ...*"
   ]
  },
  {
   "cell_type": "code",
   "execution_count": 91,
   "metadata": {},
   "outputs": [
    {
     "data": {
      "text/html": [
       "<div>\n",
       "<style scoped>\n",
       "    .dataframe tbody tr th:only-of-type {\n",
       "        vertical-align: middle;\n",
       "    }\n",
       "\n",
       "    .dataframe tbody tr th {\n",
       "        vertical-align: top;\n",
       "    }\n",
       "\n",
       "    .dataframe thead th {\n",
       "        text-align: right;\n",
       "    }\n",
       "</style>\n",
       "<table border=\"1\" class=\"dataframe\">\n",
       "  <thead>\n",
       "    <tr style=\"text-align: right;\">\n",
       "      <th></th>\n",
       "      <th>Date</th>\n",
       "      <th>AveragePrice</th>\n",
       "      <th>Total Volume</th>\n",
       "      <th>4046</th>\n",
       "      <th>4225</th>\n",
       "      <th>4770</th>\n",
       "      <th>Total Bags</th>\n",
       "      <th>Small Bags</th>\n",
       "      <th>Large Bags</th>\n",
       "      <th>XLarge Bags</th>\n",
       "      <th>type</th>\n",
       "      <th>year</th>\n",
       "      <th>region</th>\n",
       "    </tr>\n",
       "  </thead>\n",
       "  <tbody>\n",
       "    <tr>\n",
       "      <th>1</th>\n",
       "      <td>2015-01-04</td>\n",
       "      <td>1.49</td>\n",
       "      <td>17723.17</td>\n",
       "      <td>1189.35</td>\n",
       "      <td>15628.27</td>\n",
       "      <td>0.0</td>\n",
       "      <td>905.55</td>\n",
       "      <td>905.55</td>\n",
       "      <td>0.00</td>\n",
       "      <td>0.0</td>\n",
       "      <td>organic</td>\n",
       "      <td>2015</td>\n",
       "      <td>Chicago</td>\n",
       "    </tr>\n",
       "    <tr>\n",
       "      <th>153</th>\n",
       "      <td>2015-01-11</td>\n",
       "      <td>1.79</td>\n",
       "      <td>12915.74</td>\n",
       "      <td>1426.75</td>\n",
       "      <td>10900.10</td>\n",
       "      <td>0.0</td>\n",
       "      <td>588.89</td>\n",
       "      <td>588.89</td>\n",
       "      <td>0.00</td>\n",
       "      <td>0.0</td>\n",
       "      <td>organic</td>\n",
       "      <td>2015</td>\n",
       "      <td>Chicago</td>\n",
       "    </tr>\n",
       "    <tr>\n",
       "      <th>293</th>\n",
       "      <td>2015-01-18</td>\n",
       "      <td>1.81</td>\n",
       "      <td>12499.87</td>\n",
       "      <td>1154.81</td>\n",
       "      <td>10830.61</td>\n",
       "      <td>0.0</td>\n",
       "      <td>514.45</td>\n",
       "      <td>514.45</td>\n",
       "      <td>0.00</td>\n",
       "      <td>0.0</td>\n",
       "      <td>organic</td>\n",
       "      <td>2015</td>\n",
       "      <td>Chicago</td>\n",
       "    </tr>\n",
       "    <tr>\n",
       "      <th>343</th>\n",
       "      <td>2015-01-25</td>\n",
       "      <td>1.83</td>\n",
       "      <td>10951.51</td>\n",
       "      <td>711.63</td>\n",
       "      <td>9515.44</td>\n",
       "      <td>0.0</td>\n",
       "      <td>724.44</td>\n",
       "      <td>724.44</td>\n",
       "      <td>0.00</td>\n",
       "      <td>0.0</td>\n",
       "      <td>organic</td>\n",
       "      <td>2015</td>\n",
       "      <td>Chicago</td>\n",
       "    </tr>\n",
       "    <tr>\n",
       "      <th>537</th>\n",
       "      <td>2015-02-01</td>\n",
       "      <td>1.52</td>\n",
       "      <td>14391.05</td>\n",
       "      <td>1363.35</td>\n",
       "      <td>11835.47</td>\n",
       "      <td>0.0</td>\n",
       "      <td>1192.23</td>\n",
       "      <td>1192.23</td>\n",
       "      <td>0.00</td>\n",
       "      <td>0.0</td>\n",
       "      <td>organic</td>\n",
       "      <td>2015</td>\n",
       "      <td>Chicago</td>\n",
       "    </tr>\n",
       "    <tr>\n",
       "      <th>...</th>\n",
       "      <td>...</td>\n",
       "      <td>...</td>\n",
       "      <td>...</td>\n",
       "      <td>...</td>\n",
       "      <td>...</td>\n",
       "      <td>...</td>\n",
       "      <td>...</td>\n",
       "      <td>...</td>\n",
       "      <td>...</td>\n",
       "      <td>...</td>\n",
       "      <td>...</td>\n",
       "      <td>...</td>\n",
       "      <td>...</td>\n",
       "    </tr>\n",
       "    <tr>\n",
       "      <th>17785</th>\n",
       "      <td>2018-02-25</td>\n",
       "      <td>1.68</td>\n",
       "      <td>36432.65</td>\n",
       "      <td>246.73</td>\n",
       "      <td>29263.75</td>\n",
       "      <td>0.0</td>\n",
       "      <td>6922.17</td>\n",
       "      <td>6908.84</td>\n",
       "      <td>13.33</td>\n",
       "      <td>0.0</td>\n",
       "      <td>organic</td>\n",
       "      <td>2018</td>\n",
       "      <td>Chicago</td>\n",
       "    </tr>\n",
       "    <tr>\n",
       "      <th>17897</th>\n",
       "      <td>2018-03-04</td>\n",
       "      <td>1.62</td>\n",
       "      <td>46026.58</td>\n",
       "      <td>1107.05</td>\n",
       "      <td>35255.03</td>\n",
       "      <td>0.0</td>\n",
       "      <td>9664.50</td>\n",
       "      <td>9654.50</td>\n",
       "      <td>10.00</td>\n",
       "      <td>0.0</td>\n",
       "      <td>organic</td>\n",
       "      <td>2018</td>\n",
       "      <td>Chicago</td>\n",
       "    </tr>\n",
       "    <tr>\n",
       "      <th>17984</th>\n",
       "      <td>2018-03-11</td>\n",
       "      <td>1.66</td>\n",
       "      <td>41969.83</td>\n",
       "      <td>583.18</td>\n",
       "      <td>32382.95</td>\n",
       "      <td>0.0</td>\n",
       "      <td>9003.70</td>\n",
       "      <td>8990.36</td>\n",
       "      <td>13.34</td>\n",
       "      <td>0.0</td>\n",
       "      <td>organic</td>\n",
       "      <td>2018</td>\n",
       "      <td>Chicago</td>\n",
       "    </tr>\n",
       "    <tr>\n",
       "      <th>18075</th>\n",
       "      <td>2018-03-18</td>\n",
       "      <td>1.66</td>\n",
       "      <td>35542.17</td>\n",
       "      <td>184.53</td>\n",
       "      <td>26955.74</td>\n",
       "      <td>0.0</td>\n",
       "      <td>8401.90</td>\n",
       "      <td>8398.57</td>\n",
       "      <td>3.33</td>\n",
       "      <td>0.0</td>\n",
       "      <td>organic</td>\n",
       "      <td>2018</td>\n",
       "      <td>Chicago</td>\n",
       "    </tr>\n",
       "    <tr>\n",
       "      <th>18151</th>\n",
       "      <td>2018-03-25</td>\n",
       "      <td>1.69</td>\n",
       "      <td>35088.36</td>\n",
       "      <td>324.87</td>\n",
       "      <td>27550.29</td>\n",
       "      <td>0.0</td>\n",
       "      <td>7213.20</td>\n",
       "      <td>7176.54</td>\n",
       "      <td>36.66</td>\n",
       "      <td>0.0</td>\n",
       "      <td>organic</td>\n",
       "      <td>2018</td>\n",
       "      <td>Chicago</td>\n",
       "    </tr>\n",
       "  </tbody>\n",
       "</table>\n",
       "<p>169 rows × 13 columns</p>\n",
       "</div>"
      ],
      "text/plain": [
       "            Date  AveragePrice  Total Volume     4046      4225  4770  \\\n",
       "1     2015-01-04          1.49      17723.17  1189.35  15628.27   0.0   \n",
       "153   2015-01-11          1.79      12915.74  1426.75  10900.10   0.0   \n",
       "293   2015-01-18          1.81      12499.87  1154.81  10830.61   0.0   \n",
       "343   2015-01-25          1.83      10951.51   711.63   9515.44   0.0   \n",
       "537   2015-02-01          1.52      14391.05  1363.35  11835.47   0.0   \n",
       "...          ...           ...           ...      ...       ...   ...   \n",
       "17785 2018-02-25          1.68      36432.65   246.73  29263.75   0.0   \n",
       "17897 2018-03-04          1.62      46026.58  1107.05  35255.03   0.0   \n",
       "17984 2018-03-11          1.66      41969.83   583.18  32382.95   0.0   \n",
       "18075 2018-03-18          1.66      35542.17   184.53  26955.74   0.0   \n",
       "18151 2018-03-25          1.69      35088.36   324.87  27550.29   0.0   \n",
       "\n",
       "       Total Bags  Small Bags  Large Bags  XLarge Bags     type  year   region  \n",
       "1          905.55      905.55        0.00          0.0  organic  2015  Chicago  \n",
       "153        588.89      588.89        0.00          0.0  organic  2015  Chicago  \n",
       "293        514.45      514.45        0.00          0.0  organic  2015  Chicago  \n",
       "343        724.44      724.44        0.00          0.0  organic  2015  Chicago  \n",
       "537       1192.23     1192.23        0.00          0.0  organic  2015  Chicago  \n",
       "...           ...         ...         ...          ...      ...   ...      ...  \n",
       "17785     6922.17     6908.84       13.33          0.0  organic  2018  Chicago  \n",
       "17897     9664.50     9654.50       10.00          0.0  organic  2018  Chicago  \n",
       "17984     9003.70     8990.36       13.34          0.0  organic  2018  Chicago  \n",
       "18075     8401.90     8398.57        3.33          0.0  organic  2018  Chicago  \n",
       "18151     7213.20     7176.54       36.66          0.0  organic  2018  Chicago  \n",
       "\n",
       "[169 rows x 13 columns]"
      ]
     },
     "execution_count": 91,
     "metadata": {},
     "output_type": "execute_result"
    }
   ],
   "source": [
    "organic_ch = avocado_full.query('type == \"organic\" and region == \"Chicago\"')\n",
    "organic_ch"
   ]
  },
  {
   "cell_type": "code",
   "execution_count": 93,
   "metadata": {},
   "outputs": [
    {
     "data": {
      "text/html": [
       "<div>\n",
       "<style scoped>\n",
       "    .dataframe tbody tr th:only-of-type {\n",
       "        vertical-align: middle;\n",
       "    }\n",
       "\n",
       "    .dataframe tbody tr th {\n",
       "        vertical-align: top;\n",
       "    }\n",
       "\n",
       "    .dataframe thead th {\n",
       "        text-align: right;\n",
       "    }\n",
       "</style>\n",
       "<table border=\"1\" class=\"dataframe\">\n",
       "  <thead>\n",
       "    <tr style=\"text-align: right;\">\n",
       "      <th></th>\n",
       "      <th>AveragePrice</th>\n",
       "      <th>Total Volume</th>\n",
       "      <th>4046</th>\n",
       "      <th>4225</th>\n",
       "      <th>4770</th>\n",
       "      <th>Total Bags</th>\n",
       "      <th>Small Bags</th>\n",
       "      <th>Large Bags</th>\n",
       "      <th>XLarge Bags</th>\n",
       "      <th>type</th>\n",
       "      <th>year</th>\n",
       "      <th>region</th>\n",
       "    </tr>\n",
       "    <tr>\n",
       "      <th>Date</th>\n",
       "      <th></th>\n",
       "      <th></th>\n",
       "      <th></th>\n",
       "      <th></th>\n",
       "      <th></th>\n",
       "      <th></th>\n",
       "      <th></th>\n",
       "      <th></th>\n",
       "      <th></th>\n",
       "      <th></th>\n",
       "      <th></th>\n",
       "      <th></th>\n",
       "    </tr>\n",
       "  </thead>\n",
       "  <tbody>\n",
       "    <tr>\n",
       "      <th>2015-01-04</th>\n",
       "      <td>1.49</td>\n",
       "      <td>17723.17</td>\n",
       "      <td>1189.35</td>\n",
       "      <td>15628.27</td>\n",
       "      <td>0.0</td>\n",
       "      <td>905.55</td>\n",
       "      <td>905.55</td>\n",
       "      <td>0.00</td>\n",
       "      <td>0.0</td>\n",
       "      <td>organic</td>\n",
       "      <td>2015</td>\n",
       "      <td>Chicago</td>\n",
       "    </tr>\n",
       "    <tr>\n",
       "      <th>2015-01-11</th>\n",
       "      <td>1.79</td>\n",
       "      <td>12915.74</td>\n",
       "      <td>1426.75</td>\n",
       "      <td>10900.10</td>\n",
       "      <td>0.0</td>\n",
       "      <td>588.89</td>\n",
       "      <td>588.89</td>\n",
       "      <td>0.00</td>\n",
       "      <td>0.0</td>\n",
       "      <td>organic</td>\n",
       "      <td>2015</td>\n",
       "      <td>Chicago</td>\n",
       "    </tr>\n",
       "    <tr>\n",
       "      <th>2015-01-18</th>\n",
       "      <td>1.81</td>\n",
       "      <td>12499.87</td>\n",
       "      <td>1154.81</td>\n",
       "      <td>10830.61</td>\n",
       "      <td>0.0</td>\n",
       "      <td>514.45</td>\n",
       "      <td>514.45</td>\n",
       "      <td>0.00</td>\n",
       "      <td>0.0</td>\n",
       "      <td>organic</td>\n",
       "      <td>2015</td>\n",
       "      <td>Chicago</td>\n",
       "    </tr>\n",
       "    <tr>\n",
       "      <th>2015-01-25</th>\n",
       "      <td>1.83</td>\n",
       "      <td>10951.51</td>\n",
       "      <td>711.63</td>\n",
       "      <td>9515.44</td>\n",
       "      <td>0.0</td>\n",
       "      <td>724.44</td>\n",
       "      <td>724.44</td>\n",
       "      <td>0.00</td>\n",
       "      <td>0.0</td>\n",
       "      <td>organic</td>\n",
       "      <td>2015</td>\n",
       "      <td>Chicago</td>\n",
       "    </tr>\n",
       "    <tr>\n",
       "      <th>2015-02-01</th>\n",
       "      <td>1.52</td>\n",
       "      <td>14391.05</td>\n",
       "      <td>1363.35</td>\n",
       "      <td>11835.47</td>\n",
       "      <td>0.0</td>\n",
       "      <td>1192.23</td>\n",
       "      <td>1192.23</td>\n",
       "      <td>0.00</td>\n",
       "      <td>0.0</td>\n",
       "      <td>organic</td>\n",
       "      <td>2015</td>\n",
       "      <td>Chicago</td>\n",
       "    </tr>\n",
       "    <tr>\n",
       "      <th>...</th>\n",
       "      <td>...</td>\n",
       "      <td>...</td>\n",
       "      <td>...</td>\n",
       "      <td>...</td>\n",
       "      <td>...</td>\n",
       "      <td>...</td>\n",
       "      <td>...</td>\n",
       "      <td>...</td>\n",
       "      <td>...</td>\n",
       "      <td>...</td>\n",
       "      <td>...</td>\n",
       "      <td>...</td>\n",
       "    </tr>\n",
       "    <tr>\n",
       "      <th>2018-02-25</th>\n",
       "      <td>1.68</td>\n",
       "      <td>36432.65</td>\n",
       "      <td>246.73</td>\n",
       "      <td>29263.75</td>\n",
       "      <td>0.0</td>\n",
       "      <td>6922.17</td>\n",
       "      <td>6908.84</td>\n",
       "      <td>13.33</td>\n",
       "      <td>0.0</td>\n",
       "      <td>organic</td>\n",
       "      <td>2018</td>\n",
       "      <td>Chicago</td>\n",
       "    </tr>\n",
       "    <tr>\n",
       "      <th>2018-03-04</th>\n",
       "      <td>1.62</td>\n",
       "      <td>46026.58</td>\n",
       "      <td>1107.05</td>\n",
       "      <td>35255.03</td>\n",
       "      <td>0.0</td>\n",
       "      <td>9664.50</td>\n",
       "      <td>9654.50</td>\n",
       "      <td>10.00</td>\n",
       "      <td>0.0</td>\n",
       "      <td>organic</td>\n",
       "      <td>2018</td>\n",
       "      <td>Chicago</td>\n",
       "    </tr>\n",
       "    <tr>\n",
       "      <th>2018-03-11</th>\n",
       "      <td>1.66</td>\n",
       "      <td>41969.83</td>\n",
       "      <td>583.18</td>\n",
       "      <td>32382.95</td>\n",
       "      <td>0.0</td>\n",
       "      <td>9003.70</td>\n",
       "      <td>8990.36</td>\n",
       "      <td>13.34</td>\n",
       "      <td>0.0</td>\n",
       "      <td>organic</td>\n",
       "      <td>2018</td>\n",
       "      <td>Chicago</td>\n",
       "    </tr>\n",
       "    <tr>\n",
       "      <th>2018-03-18</th>\n",
       "      <td>1.66</td>\n",
       "      <td>35542.17</td>\n",
       "      <td>184.53</td>\n",
       "      <td>26955.74</td>\n",
       "      <td>0.0</td>\n",
       "      <td>8401.90</td>\n",
       "      <td>8398.57</td>\n",
       "      <td>3.33</td>\n",
       "      <td>0.0</td>\n",
       "      <td>organic</td>\n",
       "      <td>2018</td>\n",
       "      <td>Chicago</td>\n",
       "    </tr>\n",
       "    <tr>\n",
       "      <th>2018-03-25</th>\n",
       "      <td>1.69</td>\n",
       "      <td>35088.36</td>\n",
       "      <td>324.87</td>\n",
       "      <td>27550.29</td>\n",
       "      <td>0.0</td>\n",
       "      <td>7213.20</td>\n",
       "      <td>7176.54</td>\n",
       "      <td>36.66</td>\n",
       "      <td>0.0</td>\n",
       "      <td>organic</td>\n",
       "      <td>2018</td>\n",
       "      <td>Chicago</td>\n",
       "    </tr>\n",
       "  </tbody>\n",
       "</table>\n",
       "<p>169 rows × 12 columns</p>\n",
       "</div>"
      ],
      "text/plain": [
       "            AveragePrice  Total Volume     4046      4225  4770  Total Bags  \\\n",
       "Date                                                                          \n",
       "2015-01-04          1.49      17723.17  1189.35  15628.27   0.0      905.55   \n",
       "2015-01-11          1.79      12915.74  1426.75  10900.10   0.0      588.89   \n",
       "2015-01-18          1.81      12499.87  1154.81  10830.61   0.0      514.45   \n",
       "2015-01-25          1.83      10951.51   711.63   9515.44   0.0      724.44   \n",
       "2015-02-01          1.52      14391.05  1363.35  11835.47   0.0     1192.23   \n",
       "...                  ...           ...      ...       ...   ...         ...   \n",
       "2018-02-25          1.68      36432.65   246.73  29263.75   0.0     6922.17   \n",
       "2018-03-04          1.62      46026.58  1107.05  35255.03   0.0     9664.50   \n",
       "2018-03-11          1.66      41969.83   583.18  32382.95   0.0     9003.70   \n",
       "2018-03-18          1.66      35542.17   184.53  26955.74   0.0     8401.90   \n",
       "2018-03-25          1.69      35088.36   324.87  27550.29   0.0     7213.20   \n",
       "\n",
       "            Small Bags  Large Bags  XLarge Bags     type  year   region  \n",
       "Date                                                                     \n",
       "2015-01-04      905.55        0.00          0.0  organic  2015  Chicago  \n",
       "2015-01-11      588.89        0.00          0.0  organic  2015  Chicago  \n",
       "2015-01-18      514.45        0.00          0.0  organic  2015  Chicago  \n",
       "2015-01-25      724.44        0.00          0.0  organic  2015  Chicago  \n",
       "2015-02-01     1192.23        0.00          0.0  organic  2015  Chicago  \n",
       "...                ...         ...          ...      ...   ...      ...  \n",
       "2018-02-25     6908.84       13.33          0.0  organic  2018  Chicago  \n",
       "2018-03-04     9654.50       10.00          0.0  organic  2018  Chicago  \n",
       "2018-03-11     8990.36       13.34          0.0  organic  2018  Chicago  \n",
       "2018-03-18     8398.57        3.33          0.0  organic  2018  Chicago  \n",
       "2018-03-25     7176.54       36.66          0.0  organic  2018  Chicago  \n",
       "\n",
       "[169 rows x 12 columns]"
      ]
     },
     "execution_count": 93,
     "metadata": {},
     "output_type": "execute_result"
    }
   ],
   "source": [
    "res = organic_ch.set_index('Date')\n",
    "res\n"
   ]
  },
  {
   "cell_type": "code",
   "execution_count": 94,
   "metadata": {},
   "outputs": [
    {
     "data": {
      "text/plain": [
       "1          NaN\n",
       "153        NaN\n",
       "293        NaN\n",
       "343      1.730\n",
       "537      1.737\n",
       "         ...  \n",
       "17785    1.652\n",
       "17897    1.652\n",
       "17984    1.655\n",
       "18075    1.655\n",
       "18151    1.657\n",
       "Name: AveragePrice, Length: 169, dtype: float64"
      ]
     },
     "execution_count": 94,
     "metadata": {},
     "output_type": "execute_result"
    }
   ],
   "source": [
    "res = organic_ch.AveragePrice.rolling(window=4).mean().round(3)\n",
    "res\n"
   ]
  },
  {
   "cell_type": "code",
   "execution_count": 81,
   "metadata": {},
   "outputs": [
    {
     "name": "stdout",
     "output_type": "stream",
     "text": [
      "Requirement already satisfied: plotly in c:\\users\\elnur\\appdata\\local\\programs\\python\\python37\\lib\\site-packages (5.18.0)\n",
      "Requirement already satisfied: tenacity>=6.2.0 in c:\\users\\elnur\\appdata\\local\\programs\\python\\python37\\lib\\site-packages (from plotly) (8.2.3)\n",
      "Requirement already satisfied: packaging in c:\\users\\elnur\\appdata\\local\\programs\\python\\python37\\lib\\site-packages (from plotly) (24.0)\n"
     ]
    }
   ],
   "source": [
    "!pip install plotly\n",
    "import plotly.express as px"
   ]
  },
  {
   "cell_type": "code",
   "execution_count": 95,
   "metadata": {},
   "outputs": [
    {
     "data": {
      "application/vnd.plotly.v1+json": {
       "config": {
        "plotlyServerURL": "https://plot.ly"
       },
       "data": [
        {
         "hovertemplate": "variable=AveragePrice<br>index=%{x}<br>value=%{y}<extra></extra>",
         "legendgroup": "AveragePrice",
         "line": {
          "color": "#636efa",
          "dash": "solid"
         },
         "marker": {
          "symbol": "circle"
         },
         "mode": "lines",
         "name": "AveragePrice",
         "orientation": "v",
         "showlegend": true,
         "type": "scatter",
         "x": [
          1,
          153,
          293,
          343,
          537,
          629,
          682,
          816,
          912,
          999,
          1186,
          1259,
          1316,
          1477,
          1526,
          1680,
          1743,
          1897,
          2048,
          2082,
          2178,
          2300,
          2406,
          2557,
          2696,
          2768,
          2850,
          2922,
          3025,
          3132,
          3317,
          3434,
          3507,
          3592,
          3738,
          3855,
          3925,
          4096,
          4177,
          4236,
          4341,
          4431,
          4572,
          4724,
          4793,
          4951,
          5040,
          5118,
          5232,
          5305,
          5484,
          5512,
          5673,
          5785,
          5884,
          6027,
          6133,
          6165,
          6306,
          6467,
          6508,
          6654,
          6753,
          6885,
          6966,
          7105,
          7154,
          7242,
          7389,
          7498,
          7615,
          7705,
          7870,
          7948,
          8035,
          8189,
          8248,
          8363,
          8480,
          8568,
          8679,
          8835,
          8871,
          9004,
          9080,
          9254,
          9336,
          9486,
          9595,
          9683,
          9825,
          9843,
          10018,
          10050,
          10168,
          10325,
          10462,
          10517,
          10622,
          10702,
          10898,
          10984,
          11085,
          11165,
          11232,
          11409,
          11551,
          11591,
          11667,
          11786,
          11927,
          12081,
          12171,
          12215,
          12373,
          12430,
          12597,
          12709,
          12749,
          12914,
          12984,
          13168,
          13263,
          13291,
          13414,
          13591,
          13650,
          13732,
          13857,
          14033,
          14104,
          14237,
          14315,
          14416,
          14479,
          14631,
          14735,
          14835,
          15007,
          15033,
          15138,
          15310,
          15378,
          15529,
          15567,
          15699,
          15778,
          15976,
          16046,
          16180,
          16204,
          16326,
          16501,
          16534,
          16700,
          16754,
          16952,
          16966,
          17122,
          17227,
          17292,
          17440,
          17554,
          17625,
          17785,
          17897,
          17984,
          18075,
          18151
         ],
         "xaxis": "x",
         "y": [
          null,
          null,
          null,
          1.73,
          1.737,
          1.735,
          1.735,
          1.735,
          1.81,
          1.77,
          1.727,
          1.687,
          1.647,
          1.655,
          1.57,
          1.54,
          1.502,
          1.467,
          1.51,
          1.515,
          1.602,
          1.687,
          1.782,
          1.857,
          1.847,
          1.805,
          1.76,
          1.707,
          1.665,
          1.65,
          1.63,
          1.62,
          1.612,
          1.61,
          1.612,
          1.61,
          1.607,
          1.605,
          1.622,
          1.665,
          1.685,
          1.732,
          1.717,
          1.672,
          1.647,
          1.595,
          1.585,
          1.582,
          1.582,
          1.585,
          1.587,
          1.585,
          1.592,
          1.6,
          1.585,
          1.595,
          1.592,
          1.587,
          1.602,
          1.585,
          1.582,
          1.555,
          1.535,
          1.522,
          1.497,
          1.54,
          1.585,
          1.597,
          1.63,
          1.617,
          1.602,
          1.617,
          1.542,
          1.41,
          1.315,
          1.295,
          1.345,
          1.525,
          1.59,
          1.71,
          1.8,
          1.832,
          1.985,
          2.015,
          2.065,
          2.102,
          2.097,
          2.085,
          2.08,
          2.075,
          2.065,
          2.057,
          2.05,
          2.062,
          2.1,
          2.145,
          2.195,
          2.23,
          2.255,
          2.272,
          2.14,
          1.907,
          1.667,
          1.427,
          1.335,
          1.457,
          1.585,
          1.627,
          1.67,
          1.59,
          1.51,
          1.532,
          1.577,
          1.615,
          1.715,
          1.735,
          1.73,
          1.805,
          1.81,
          1.825,
          1.825,
          1.832,
          1.832,
          1.88,
          1.947,
          1.937,
          1.935,
          1.942,
          1.953,
          1.965,
          1.975,
          1.983,
          1.945,
          1.92,
          1.9,
          1.838,
          1.802,
          1.76,
          1.812,
          1.89,
          1.957,
          2.062,
          2.015,
          1.962,
          1.922,
          1.865,
          1.91,
          1.965,
          2.002,
          2.042,
          1.965,
          1.882,
          1.832,
          1.73,
          1.63,
          1.65,
          1.66,
          1.705,
          1.805,
          1.807,
          1.79,
          1.737,
          1.702,
          1.662,
          1.652,
          1.652,
          1.655,
          1.655,
          1.657
         ],
         "yaxis": "y"
        }
       ],
       "layout": {
        "legend": {
         "title": {
          "text": "variable"
         },
         "tracegroupgap": 0
        },
        "margin": {
         "t": 60
        },
        "template": {
         "data": {
          "bar": [
           {
            "error_x": {
             "color": "#2a3f5f"
            },
            "error_y": {
             "color": "#2a3f5f"
            },
            "marker": {
             "line": {
              "color": "#E5ECF6",
              "width": 0.5
             },
             "pattern": {
              "fillmode": "overlay",
              "size": 10,
              "solidity": 0.2
             }
            },
            "type": "bar"
           }
          ],
          "barpolar": [
           {
            "marker": {
             "line": {
              "color": "#E5ECF6",
              "width": 0.5
             },
             "pattern": {
              "fillmode": "overlay",
              "size": 10,
              "solidity": 0.2
             }
            },
            "type": "barpolar"
           }
          ],
          "carpet": [
           {
            "aaxis": {
             "endlinecolor": "#2a3f5f",
             "gridcolor": "white",
             "linecolor": "white",
             "minorgridcolor": "white",
             "startlinecolor": "#2a3f5f"
            },
            "baxis": {
             "endlinecolor": "#2a3f5f",
             "gridcolor": "white",
             "linecolor": "white",
             "minorgridcolor": "white",
             "startlinecolor": "#2a3f5f"
            },
            "type": "carpet"
           }
          ],
          "choropleth": [
           {
            "colorbar": {
             "outlinewidth": 0,
             "ticks": ""
            },
            "type": "choropleth"
           }
          ],
          "contour": [
           {
            "colorbar": {
             "outlinewidth": 0,
             "ticks": ""
            },
            "colorscale": [
             [
              0,
              "#0d0887"
             ],
             [
              0.1111111111111111,
              "#46039f"
             ],
             [
              0.2222222222222222,
              "#7201a8"
             ],
             [
              0.3333333333333333,
              "#9c179e"
             ],
             [
              0.4444444444444444,
              "#bd3786"
             ],
             [
              0.5555555555555556,
              "#d8576b"
             ],
             [
              0.6666666666666666,
              "#ed7953"
             ],
             [
              0.7777777777777778,
              "#fb9f3a"
             ],
             [
              0.8888888888888888,
              "#fdca26"
             ],
             [
              1,
              "#f0f921"
             ]
            ],
            "type": "contour"
           }
          ],
          "contourcarpet": [
           {
            "colorbar": {
             "outlinewidth": 0,
             "ticks": ""
            },
            "type": "contourcarpet"
           }
          ],
          "heatmap": [
           {
            "colorbar": {
             "outlinewidth": 0,
             "ticks": ""
            },
            "colorscale": [
             [
              0,
              "#0d0887"
             ],
             [
              0.1111111111111111,
              "#46039f"
             ],
             [
              0.2222222222222222,
              "#7201a8"
             ],
             [
              0.3333333333333333,
              "#9c179e"
             ],
             [
              0.4444444444444444,
              "#bd3786"
             ],
             [
              0.5555555555555556,
              "#d8576b"
             ],
             [
              0.6666666666666666,
              "#ed7953"
             ],
             [
              0.7777777777777778,
              "#fb9f3a"
             ],
             [
              0.8888888888888888,
              "#fdca26"
             ],
             [
              1,
              "#f0f921"
             ]
            ],
            "type": "heatmap"
           }
          ],
          "heatmapgl": [
           {
            "colorbar": {
             "outlinewidth": 0,
             "ticks": ""
            },
            "colorscale": [
             [
              0,
              "#0d0887"
             ],
             [
              0.1111111111111111,
              "#46039f"
             ],
             [
              0.2222222222222222,
              "#7201a8"
             ],
             [
              0.3333333333333333,
              "#9c179e"
             ],
             [
              0.4444444444444444,
              "#bd3786"
             ],
             [
              0.5555555555555556,
              "#d8576b"
             ],
             [
              0.6666666666666666,
              "#ed7953"
             ],
             [
              0.7777777777777778,
              "#fb9f3a"
             ],
             [
              0.8888888888888888,
              "#fdca26"
             ],
             [
              1,
              "#f0f921"
             ]
            ],
            "type": "heatmapgl"
           }
          ],
          "histogram": [
           {
            "marker": {
             "pattern": {
              "fillmode": "overlay",
              "size": 10,
              "solidity": 0.2
             }
            },
            "type": "histogram"
           }
          ],
          "histogram2d": [
           {
            "colorbar": {
             "outlinewidth": 0,
             "ticks": ""
            },
            "colorscale": [
             [
              0,
              "#0d0887"
             ],
             [
              0.1111111111111111,
              "#46039f"
             ],
             [
              0.2222222222222222,
              "#7201a8"
             ],
             [
              0.3333333333333333,
              "#9c179e"
             ],
             [
              0.4444444444444444,
              "#bd3786"
             ],
             [
              0.5555555555555556,
              "#d8576b"
             ],
             [
              0.6666666666666666,
              "#ed7953"
             ],
             [
              0.7777777777777778,
              "#fb9f3a"
             ],
             [
              0.8888888888888888,
              "#fdca26"
             ],
             [
              1,
              "#f0f921"
             ]
            ],
            "type": "histogram2d"
           }
          ],
          "histogram2dcontour": [
           {
            "colorbar": {
             "outlinewidth": 0,
             "ticks": ""
            },
            "colorscale": [
             [
              0,
              "#0d0887"
             ],
             [
              0.1111111111111111,
              "#46039f"
             ],
             [
              0.2222222222222222,
              "#7201a8"
             ],
             [
              0.3333333333333333,
              "#9c179e"
             ],
             [
              0.4444444444444444,
              "#bd3786"
             ],
             [
              0.5555555555555556,
              "#d8576b"
             ],
             [
              0.6666666666666666,
              "#ed7953"
             ],
             [
              0.7777777777777778,
              "#fb9f3a"
             ],
             [
              0.8888888888888888,
              "#fdca26"
             ],
             [
              1,
              "#f0f921"
             ]
            ],
            "type": "histogram2dcontour"
           }
          ],
          "mesh3d": [
           {
            "colorbar": {
             "outlinewidth": 0,
             "ticks": ""
            },
            "type": "mesh3d"
           }
          ],
          "parcoords": [
           {
            "line": {
             "colorbar": {
              "outlinewidth": 0,
              "ticks": ""
             }
            },
            "type": "parcoords"
           }
          ],
          "pie": [
           {
            "automargin": true,
            "type": "pie"
           }
          ],
          "scatter": [
           {
            "fillpattern": {
             "fillmode": "overlay",
             "size": 10,
             "solidity": 0.2
            },
            "type": "scatter"
           }
          ],
          "scatter3d": [
           {
            "line": {
             "colorbar": {
              "outlinewidth": 0,
              "ticks": ""
             }
            },
            "marker": {
             "colorbar": {
              "outlinewidth": 0,
              "ticks": ""
             }
            },
            "type": "scatter3d"
           }
          ],
          "scattercarpet": [
           {
            "marker": {
             "colorbar": {
              "outlinewidth": 0,
              "ticks": ""
             }
            },
            "type": "scattercarpet"
           }
          ],
          "scattergeo": [
           {
            "marker": {
             "colorbar": {
              "outlinewidth": 0,
              "ticks": ""
             }
            },
            "type": "scattergeo"
           }
          ],
          "scattergl": [
           {
            "marker": {
             "colorbar": {
              "outlinewidth": 0,
              "ticks": ""
             }
            },
            "type": "scattergl"
           }
          ],
          "scattermapbox": [
           {
            "marker": {
             "colorbar": {
              "outlinewidth": 0,
              "ticks": ""
             }
            },
            "type": "scattermapbox"
           }
          ],
          "scatterpolar": [
           {
            "marker": {
             "colorbar": {
              "outlinewidth": 0,
              "ticks": ""
             }
            },
            "type": "scatterpolar"
           }
          ],
          "scatterpolargl": [
           {
            "marker": {
             "colorbar": {
              "outlinewidth": 0,
              "ticks": ""
             }
            },
            "type": "scatterpolargl"
           }
          ],
          "scatterternary": [
           {
            "marker": {
             "colorbar": {
              "outlinewidth": 0,
              "ticks": ""
             }
            },
            "type": "scatterternary"
           }
          ],
          "surface": [
           {
            "colorbar": {
             "outlinewidth": 0,
             "ticks": ""
            },
            "colorscale": [
             [
              0,
              "#0d0887"
             ],
             [
              0.1111111111111111,
              "#46039f"
             ],
             [
              0.2222222222222222,
              "#7201a8"
             ],
             [
              0.3333333333333333,
              "#9c179e"
             ],
             [
              0.4444444444444444,
              "#bd3786"
             ],
             [
              0.5555555555555556,
              "#d8576b"
             ],
             [
              0.6666666666666666,
              "#ed7953"
             ],
             [
              0.7777777777777778,
              "#fb9f3a"
             ],
             [
              0.8888888888888888,
              "#fdca26"
             ],
             [
              1,
              "#f0f921"
             ]
            ],
            "type": "surface"
           }
          ],
          "table": [
           {
            "cells": {
             "fill": {
              "color": "#EBF0F8"
             },
             "line": {
              "color": "white"
             }
            },
            "header": {
             "fill": {
              "color": "#C8D4E3"
             },
             "line": {
              "color": "white"
             }
            },
            "type": "table"
           }
          ]
         },
         "layout": {
          "annotationdefaults": {
           "arrowcolor": "#2a3f5f",
           "arrowhead": 0,
           "arrowwidth": 1
          },
          "autotypenumbers": "strict",
          "coloraxis": {
           "colorbar": {
            "outlinewidth": 0,
            "ticks": ""
           }
          },
          "colorscale": {
           "diverging": [
            [
             0,
             "#8e0152"
            ],
            [
             0.1,
             "#c51b7d"
            ],
            [
             0.2,
             "#de77ae"
            ],
            [
             0.3,
             "#f1b6da"
            ],
            [
             0.4,
             "#fde0ef"
            ],
            [
             0.5,
             "#f7f7f7"
            ],
            [
             0.6,
             "#e6f5d0"
            ],
            [
             0.7,
             "#b8e186"
            ],
            [
             0.8,
             "#7fbc41"
            ],
            [
             0.9,
             "#4d9221"
            ],
            [
             1,
             "#276419"
            ]
           ],
           "sequential": [
            [
             0,
             "#0d0887"
            ],
            [
             0.1111111111111111,
             "#46039f"
            ],
            [
             0.2222222222222222,
             "#7201a8"
            ],
            [
             0.3333333333333333,
             "#9c179e"
            ],
            [
             0.4444444444444444,
             "#bd3786"
            ],
            [
             0.5555555555555556,
             "#d8576b"
            ],
            [
             0.6666666666666666,
             "#ed7953"
            ],
            [
             0.7777777777777778,
             "#fb9f3a"
            ],
            [
             0.8888888888888888,
             "#fdca26"
            ],
            [
             1,
             "#f0f921"
            ]
           ],
           "sequentialminus": [
            [
             0,
             "#0d0887"
            ],
            [
             0.1111111111111111,
             "#46039f"
            ],
            [
             0.2222222222222222,
             "#7201a8"
            ],
            [
             0.3333333333333333,
             "#9c179e"
            ],
            [
             0.4444444444444444,
             "#bd3786"
            ],
            [
             0.5555555555555556,
             "#d8576b"
            ],
            [
             0.6666666666666666,
             "#ed7953"
            ],
            [
             0.7777777777777778,
             "#fb9f3a"
            ],
            [
             0.8888888888888888,
             "#fdca26"
            ],
            [
             1,
             "#f0f921"
            ]
           ]
          },
          "colorway": [
           "#636efa",
           "#EF553B",
           "#00cc96",
           "#ab63fa",
           "#FFA15A",
           "#19d3f3",
           "#FF6692",
           "#B6E880",
           "#FF97FF",
           "#FECB52"
          ],
          "font": {
           "color": "#2a3f5f"
          },
          "geo": {
           "bgcolor": "white",
           "lakecolor": "white",
           "landcolor": "#E5ECF6",
           "showlakes": true,
           "showland": true,
           "subunitcolor": "white"
          },
          "hoverlabel": {
           "align": "left"
          },
          "hovermode": "closest",
          "mapbox": {
           "style": "light"
          },
          "paper_bgcolor": "white",
          "plot_bgcolor": "#E5ECF6",
          "polar": {
           "angularaxis": {
            "gridcolor": "white",
            "linecolor": "white",
            "ticks": ""
           },
           "bgcolor": "#E5ECF6",
           "radialaxis": {
            "gridcolor": "white",
            "linecolor": "white",
            "ticks": ""
           }
          },
          "scene": {
           "xaxis": {
            "backgroundcolor": "#E5ECF6",
            "gridcolor": "white",
            "gridwidth": 2,
            "linecolor": "white",
            "showbackground": true,
            "ticks": "",
            "zerolinecolor": "white"
           },
           "yaxis": {
            "backgroundcolor": "#E5ECF6",
            "gridcolor": "white",
            "gridwidth": 2,
            "linecolor": "white",
            "showbackground": true,
            "ticks": "",
            "zerolinecolor": "white"
           },
           "zaxis": {
            "backgroundcolor": "#E5ECF6",
            "gridcolor": "white",
            "gridwidth": 2,
            "linecolor": "white",
            "showbackground": true,
            "ticks": "",
            "zerolinecolor": "white"
           }
          },
          "shapedefaults": {
           "line": {
            "color": "#2a3f5f"
           }
          },
          "ternary": {
           "aaxis": {
            "gridcolor": "white",
            "linecolor": "white",
            "ticks": ""
           },
           "baxis": {
            "gridcolor": "white",
            "linecolor": "white",
            "ticks": ""
           },
           "bgcolor": "#E5ECF6",
           "caxis": {
            "gridcolor": "white",
            "linecolor": "white",
            "ticks": ""
           }
          },
          "title": {
           "x": 0.05
          },
          "xaxis": {
           "automargin": true,
           "gridcolor": "white",
           "linecolor": "white",
           "ticks": "",
           "title": {
            "standoff": 15
           },
           "zerolinecolor": "white",
           "zerolinewidth": 2
          },
          "yaxis": {
           "automargin": true,
           "gridcolor": "white",
           "linecolor": "white",
           "ticks": "",
           "title": {
            "standoff": 15
           },
           "zerolinecolor": "white",
           "zerolinewidth": 2
          }
         }
        },
        "xaxis": {
         "anchor": "y",
         "domain": [
          0,
          1
         ],
         "title": {
          "text": "index"
         }
        },
        "yaxis": {
         "anchor": "x",
         "domain": [
          0,
          1
         ],
         "title": {
          "text": "value"
         }
        }
       }
      },
      "text/html": [
       "<div>                            <div id=\"211c7ef8-19d8-40ff-871a-f109d5205607\" class=\"plotly-graph-div\" style=\"height:525px; width:100%;\"></div>            <script type=\"text/javascript\">                require([\"plotly\"], function(Plotly) {                    window.PLOTLYENV=window.PLOTLYENV || {};                                    if (document.getElementById(\"211c7ef8-19d8-40ff-871a-f109d5205607\")) {                    Plotly.newPlot(                        \"211c7ef8-19d8-40ff-871a-f109d5205607\",                        [{\"hovertemplate\":\"variable=AveragePrice\\u003cbr\\u003eindex=%{x}\\u003cbr\\u003evalue=%{y}\\u003cextra\\u003e\\u003c\\u002fextra\\u003e\",\"legendgroup\":\"AveragePrice\",\"line\":{\"color\":\"#636efa\",\"dash\":\"solid\"},\"marker\":{\"symbol\":\"circle\"},\"mode\":\"lines\",\"name\":\"AveragePrice\",\"orientation\":\"v\",\"showlegend\":true,\"x\":[1,153,293,343,537,629,682,816,912,999,1186,1259,1316,1477,1526,1680,1743,1897,2048,2082,2178,2300,2406,2557,2696,2768,2850,2922,3025,3132,3317,3434,3507,3592,3738,3855,3925,4096,4177,4236,4341,4431,4572,4724,4793,4951,5040,5118,5232,5305,5484,5512,5673,5785,5884,6027,6133,6165,6306,6467,6508,6654,6753,6885,6966,7105,7154,7242,7389,7498,7615,7705,7870,7948,8035,8189,8248,8363,8480,8568,8679,8835,8871,9004,9080,9254,9336,9486,9595,9683,9825,9843,10018,10050,10168,10325,10462,10517,10622,10702,10898,10984,11085,11165,11232,11409,11551,11591,11667,11786,11927,12081,12171,12215,12373,12430,12597,12709,12749,12914,12984,13168,13263,13291,13414,13591,13650,13732,13857,14033,14104,14237,14315,14416,14479,14631,14735,14835,15007,15033,15138,15310,15378,15529,15567,15699,15778,15976,16046,16180,16204,16326,16501,16534,16700,16754,16952,16966,17122,17227,17292,17440,17554,17625,17785,17897,17984,18075,18151],\"xaxis\":\"x\",\"y\":[null,null,null,1.73,1.737,1.735,1.735,1.735,1.81,1.77,1.727,1.687,1.647,1.655,1.57,1.54,1.502,1.467,1.51,1.515,1.602,1.687,1.782,1.857,1.847,1.805,1.76,1.707,1.665,1.65,1.63,1.62,1.612,1.61,1.612,1.61,1.607,1.605,1.622,1.665,1.685,1.732,1.717,1.672,1.647,1.595,1.585,1.582,1.582,1.585,1.587,1.585,1.592,1.6,1.585,1.595,1.592,1.587,1.602,1.585,1.582,1.555,1.535,1.522,1.497,1.54,1.585,1.597,1.63,1.617,1.602,1.617,1.542,1.41,1.315,1.295,1.345,1.525,1.59,1.71,1.8,1.832,1.985,2.015,2.065,2.102,2.097,2.085,2.08,2.075,2.065,2.057,2.05,2.062,2.1,2.145,2.195,2.23,2.255,2.272,2.14,1.907,1.667,1.427,1.335,1.457,1.585,1.627,1.67,1.59,1.51,1.532,1.577,1.615,1.715,1.735,1.73,1.805,1.81,1.825,1.825,1.832,1.832,1.88,1.947,1.937,1.935,1.942,1.953,1.965,1.975,1.983,1.945,1.92,1.9,1.838,1.802,1.76,1.812,1.89,1.957,2.062,2.015,1.962,1.922,1.865,1.91,1.965,2.002,2.042,1.965,1.882,1.832,1.73,1.63,1.65,1.66,1.705,1.805,1.807,1.79,1.737,1.702,1.662,1.652,1.652,1.655,1.655,1.657],\"yaxis\":\"y\",\"type\":\"scatter\"}],                        {\"template\":{\"data\":{\"histogram2dcontour\":[{\"type\":\"histogram2dcontour\",\"colorbar\":{\"outlinewidth\":0,\"ticks\":\"\"},\"colorscale\":[[0.0,\"#0d0887\"],[0.1111111111111111,\"#46039f\"],[0.2222222222222222,\"#7201a8\"],[0.3333333333333333,\"#9c179e\"],[0.4444444444444444,\"#bd3786\"],[0.5555555555555556,\"#d8576b\"],[0.6666666666666666,\"#ed7953\"],[0.7777777777777778,\"#fb9f3a\"],[0.8888888888888888,\"#fdca26\"],[1.0,\"#f0f921\"]]}],\"choropleth\":[{\"type\":\"choropleth\",\"colorbar\":{\"outlinewidth\":0,\"ticks\":\"\"}}],\"histogram2d\":[{\"type\":\"histogram2d\",\"colorbar\":{\"outlinewidth\":0,\"ticks\":\"\"},\"colorscale\":[[0.0,\"#0d0887\"],[0.1111111111111111,\"#46039f\"],[0.2222222222222222,\"#7201a8\"],[0.3333333333333333,\"#9c179e\"],[0.4444444444444444,\"#bd3786\"],[0.5555555555555556,\"#d8576b\"],[0.6666666666666666,\"#ed7953\"],[0.7777777777777778,\"#fb9f3a\"],[0.8888888888888888,\"#fdca26\"],[1.0,\"#f0f921\"]]}],\"heatmap\":[{\"type\":\"heatmap\",\"colorbar\":{\"outlinewidth\":0,\"ticks\":\"\"},\"colorscale\":[[0.0,\"#0d0887\"],[0.1111111111111111,\"#46039f\"],[0.2222222222222222,\"#7201a8\"],[0.3333333333333333,\"#9c179e\"],[0.4444444444444444,\"#bd3786\"],[0.5555555555555556,\"#d8576b\"],[0.6666666666666666,\"#ed7953\"],[0.7777777777777778,\"#fb9f3a\"],[0.8888888888888888,\"#fdca26\"],[1.0,\"#f0f921\"]]}],\"heatmapgl\":[{\"type\":\"heatmapgl\",\"colorbar\":{\"outlinewidth\":0,\"ticks\":\"\"},\"colorscale\":[[0.0,\"#0d0887\"],[0.1111111111111111,\"#46039f\"],[0.2222222222222222,\"#7201a8\"],[0.3333333333333333,\"#9c179e\"],[0.4444444444444444,\"#bd3786\"],[0.5555555555555556,\"#d8576b\"],[0.6666666666666666,\"#ed7953\"],[0.7777777777777778,\"#fb9f3a\"],[0.8888888888888888,\"#fdca26\"],[1.0,\"#f0f921\"]]}],\"contourcarpet\":[{\"type\":\"contourcarpet\",\"colorbar\":{\"outlinewidth\":0,\"ticks\":\"\"}}],\"contour\":[{\"type\":\"contour\",\"colorbar\":{\"outlinewidth\":0,\"ticks\":\"\"},\"colorscale\":[[0.0,\"#0d0887\"],[0.1111111111111111,\"#46039f\"],[0.2222222222222222,\"#7201a8\"],[0.3333333333333333,\"#9c179e\"],[0.4444444444444444,\"#bd3786\"],[0.5555555555555556,\"#d8576b\"],[0.6666666666666666,\"#ed7953\"],[0.7777777777777778,\"#fb9f3a\"],[0.8888888888888888,\"#fdca26\"],[1.0,\"#f0f921\"]]}],\"surface\":[{\"type\":\"surface\",\"colorbar\":{\"outlinewidth\":0,\"ticks\":\"\"},\"colorscale\":[[0.0,\"#0d0887\"],[0.1111111111111111,\"#46039f\"],[0.2222222222222222,\"#7201a8\"],[0.3333333333333333,\"#9c179e\"],[0.4444444444444444,\"#bd3786\"],[0.5555555555555556,\"#d8576b\"],[0.6666666666666666,\"#ed7953\"],[0.7777777777777778,\"#fb9f3a\"],[0.8888888888888888,\"#fdca26\"],[1.0,\"#f0f921\"]]}],\"mesh3d\":[{\"type\":\"mesh3d\",\"colorbar\":{\"outlinewidth\":0,\"ticks\":\"\"}}],\"scatter\":[{\"fillpattern\":{\"fillmode\":\"overlay\",\"size\":10,\"solidity\":0.2},\"type\":\"scatter\"}],\"parcoords\":[{\"type\":\"parcoords\",\"line\":{\"colorbar\":{\"outlinewidth\":0,\"ticks\":\"\"}}}],\"scatterpolargl\":[{\"type\":\"scatterpolargl\",\"marker\":{\"colorbar\":{\"outlinewidth\":0,\"ticks\":\"\"}}}],\"bar\":[{\"error_x\":{\"color\":\"#2a3f5f\"},\"error_y\":{\"color\":\"#2a3f5f\"},\"marker\":{\"line\":{\"color\":\"#E5ECF6\",\"width\":0.5},\"pattern\":{\"fillmode\":\"overlay\",\"size\":10,\"solidity\":0.2}},\"type\":\"bar\"}],\"scattergeo\":[{\"type\":\"scattergeo\",\"marker\":{\"colorbar\":{\"outlinewidth\":0,\"ticks\":\"\"}}}],\"scatterpolar\":[{\"type\":\"scatterpolar\",\"marker\":{\"colorbar\":{\"outlinewidth\":0,\"ticks\":\"\"}}}],\"histogram\":[{\"marker\":{\"pattern\":{\"fillmode\":\"overlay\",\"size\":10,\"solidity\":0.2}},\"type\":\"histogram\"}],\"scattergl\":[{\"type\":\"scattergl\",\"marker\":{\"colorbar\":{\"outlinewidth\":0,\"ticks\":\"\"}}}],\"scatter3d\":[{\"type\":\"scatter3d\",\"line\":{\"colorbar\":{\"outlinewidth\":0,\"ticks\":\"\"}},\"marker\":{\"colorbar\":{\"outlinewidth\":0,\"ticks\":\"\"}}}],\"scattermapbox\":[{\"type\":\"scattermapbox\",\"marker\":{\"colorbar\":{\"outlinewidth\":0,\"ticks\":\"\"}}}],\"scatterternary\":[{\"type\":\"scatterternary\",\"marker\":{\"colorbar\":{\"outlinewidth\":0,\"ticks\":\"\"}}}],\"scattercarpet\":[{\"type\":\"scattercarpet\",\"marker\":{\"colorbar\":{\"outlinewidth\":0,\"ticks\":\"\"}}}],\"carpet\":[{\"aaxis\":{\"endlinecolor\":\"#2a3f5f\",\"gridcolor\":\"white\",\"linecolor\":\"white\",\"minorgridcolor\":\"white\",\"startlinecolor\":\"#2a3f5f\"},\"baxis\":{\"endlinecolor\":\"#2a3f5f\",\"gridcolor\":\"white\",\"linecolor\":\"white\",\"minorgridcolor\":\"white\",\"startlinecolor\":\"#2a3f5f\"},\"type\":\"carpet\"}],\"table\":[{\"cells\":{\"fill\":{\"color\":\"#EBF0F8\"},\"line\":{\"color\":\"white\"}},\"header\":{\"fill\":{\"color\":\"#C8D4E3\"},\"line\":{\"color\":\"white\"}},\"type\":\"table\"}],\"barpolar\":[{\"marker\":{\"line\":{\"color\":\"#E5ECF6\",\"width\":0.5},\"pattern\":{\"fillmode\":\"overlay\",\"size\":10,\"solidity\":0.2}},\"type\":\"barpolar\"}],\"pie\":[{\"automargin\":true,\"type\":\"pie\"}]},\"layout\":{\"autotypenumbers\":\"strict\",\"colorway\":[\"#636efa\",\"#EF553B\",\"#00cc96\",\"#ab63fa\",\"#FFA15A\",\"#19d3f3\",\"#FF6692\",\"#B6E880\",\"#FF97FF\",\"#FECB52\"],\"font\":{\"color\":\"#2a3f5f\"},\"hovermode\":\"closest\",\"hoverlabel\":{\"align\":\"left\"},\"paper_bgcolor\":\"white\",\"plot_bgcolor\":\"#E5ECF6\",\"polar\":{\"bgcolor\":\"#E5ECF6\",\"angularaxis\":{\"gridcolor\":\"white\",\"linecolor\":\"white\",\"ticks\":\"\"},\"radialaxis\":{\"gridcolor\":\"white\",\"linecolor\":\"white\",\"ticks\":\"\"}},\"ternary\":{\"bgcolor\":\"#E5ECF6\",\"aaxis\":{\"gridcolor\":\"white\",\"linecolor\":\"white\",\"ticks\":\"\"},\"baxis\":{\"gridcolor\":\"white\",\"linecolor\":\"white\",\"ticks\":\"\"},\"caxis\":{\"gridcolor\":\"white\",\"linecolor\":\"white\",\"ticks\":\"\"}},\"coloraxis\":{\"colorbar\":{\"outlinewidth\":0,\"ticks\":\"\"}},\"colorscale\":{\"sequential\":[[0.0,\"#0d0887\"],[0.1111111111111111,\"#46039f\"],[0.2222222222222222,\"#7201a8\"],[0.3333333333333333,\"#9c179e\"],[0.4444444444444444,\"#bd3786\"],[0.5555555555555556,\"#d8576b\"],[0.6666666666666666,\"#ed7953\"],[0.7777777777777778,\"#fb9f3a\"],[0.8888888888888888,\"#fdca26\"],[1.0,\"#f0f921\"]],\"sequentialminus\":[[0.0,\"#0d0887\"],[0.1111111111111111,\"#46039f\"],[0.2222222222222222,\"#7201a8\"],[0.3333333333333333,\"#9c179e\"],[0.4444444444444444,\"#bd3786\"],[0.5555555555555556,\"#d8576b\"],[0.6666666666666666,\"#ed7953\"],[0.7777777777777778,\"#fb9f3a\"],[0.8888888888888888,\"#fdca26\"],[1.0,\"#f0f921\"]],\"diverging\":[[0,\"#8e0152\"],[0.1,\"#c51b7d\"],[0.2,\"#de77ae\"],[0.3,\"#f1b6da\"],[0.4,\"#fde0ef\"],[0.5,\"#f7f7f7\"],[0.6,\"#e6f5d0\"],[0.7,\"#b8e186\"],[0.8,\"#7fbc41\"],[0.9,\"#4d9221\"],[1,\"#276419\"]]},\"xaxis\":{\"gridcolor\":\"white\",\"linecolor\":\"white\",\"ticks\":\"\",\"title\":{\"standoff\":15},\"zerolinecolor\":\"white\",\"automargin\":true,\"zerolinewidth\":2},\"yaxis\":{\"gridcolor\":\"white\",\"linecolor\":\"white\",\"ticks\":\"\",\"title\":{\"standoff\":15},\"zerolinecolor\":\"white\",\"automargin\":true,\"zerolinewidth\":2},\"scene\":{\"xaxis\":{\"backgroundcolor\":\"#E5ECF6\",\"gridcolor\":\"white\",\"linecolor\":\"white\",\"showbackground\":true,\"ticks\":\"\",\"zerolinecolor\":\"white\",\"gridwidth\":2},\"yaxis\":{\"backgroundcolor\":\"#E5ECF6\",\"gridcolor\":\"white\",\"linecolor\":\"white\",\"showbackground\":true,\"ticks\":\"\",\"zerolinecolor\":\"white\",\"gridwidth\":2},\"zaxis\":{\"backgroundcolor\":\"#E5ECF6\",\"gridcolor\":\"white\",\"linecolor\":\"white\",\"showbackground\":true,\"ticks\":\"\",\"zerolinecolor\":\"white\",\"gridwidth\":2}},\"shapedefaults\":{\"line\":{\"color\":\"#2a3f5f\"}},\"annotationdefaults\":{\"arrowcolor\":\"#2a3f5f\",\"arrowhead\":0,\"arrowwidth\":1},\"geo\":{\"bgcolor\":\"white\",\"landcolor\":\"#E5ECF6\",\"subunitcolor\":\"white\",\"showland\":true,\"showlakes\":true,\"lakecolor\":\"white\"},\"title\":{\"x\":0.05},\"mapbox\":{\"style\":\"light\"}}},\"xaxis\":{\"anchor\":\"y\",\"domain\":[0.0,1.0],\"title\":{\"text\":\"index\"}},\"yaxis\":{\"anchor\":\"x\",\"domain\":[0.0,1.0],\"title\":{\"text\":\"value\"}},\"legend\":{\"title\":{\"text\":\"variable\"},\"tracegroupgap\":0},\"margin\":{\"t\":60}},                        {\"responsive\": true}                    ).then(function(){\n",
       "                            \n",
       "var gd = document.getElementById('211c7ef8-19d8-40ff-871a-f109d5205607');\n",
       "var x = new MutationObserver(function (mutations, observer) {{\n",
       "        var display = window.getComputedStyle(gd).display;\n",
       "        if (!display || display === 'none') {{\n",
       "            console.log([gd, 'removed!']);\n",
       "            Plotly.purge(gd);\n",
       "            observer.disconnect();\n",
       "        }}\n",
       "}});\n",
       "\n",
       "// Listen for the removal of the full notebook cells\n",
       "var notebookContainer = gd.closest('#notebook-container');\n",
       "if (notebookContainer) {{\n",
       "    x.observe(notebookContainer, {childList: true});\n",
       "}}\n",
       "\n",
       "// Listen for the clearing of the current output cell\n",
       "var outputEl = gd.closest('.output');\n",
       "if (outputEl) {{\n",
       "    x.observe(outputEl, {childList: true});\n",
       "}}\n",
       "\n",
       "                        })                };                });            </script>        </div>"
      ]
     },
     "metadata": {},
     "output_type": "display_data"
    }
   ],
   "source": [
    "px.line(res)"
   ]
  },
  {
   "cell_type": "markdown",
   "metadata": {},
   "source": [
    "## Шаг 8"
   ]
  },
  {
   "cell_type": "markdown",
   "metadata": {},
   "source": [
    "Для ещё большего обобщения информации, чем подсчет скользящих значений, можно использовать разделение значений на группы, интервалы. **С помощью функции `cut()` из библиотеки `pandas` разбейте средние цены (см.колонку `AveragePrice` в датафрейме `organic_ch` с прошлого шага с записями только об органических авокадо в Чикаго) на две группы: те, что больше общего среднего значения по всем этим ценам и те, что не больше (то есть средняя цена будет меньше или равна общему среднему). Определите, каких цен больше.** Для этого:  \n",
    "1) Выведите описательную статистику для колонки со средним ценами и определите минимальное, среднее и максимальное значения.  \n",
    "2) Вместо минимального, возьмите значение, которое будет ниже минимального (насколько ниже — не важно).  \n",
    "3) Сохраните три значения (ниже минимального, среднее и максимальное) в таком же порядке в список `bins` (это будут три границы для двух групп цен (левая граница не включается в группу, а правая включается).  \n",
    "4) Запишите в список `labels` две строки с названиями групп в таком порядке: `меньше или равно среднему` и `больше среднего`.  \n",
    "5) Используя подготовленные списки `bins` и `labels`, с помощью функции `pd.cut()` разбейте значения в колонке `AveragePrice` датафрейма `organic_ch` на группы — и сохраните результат в новую колонку `AveragePrice_label` этого же датафрейма.  \n",
    "6) Посчитайте, каких значений цен больше: тех, что `меньше или равно среднему`, или тех, что `больше среднего`."
   ]
  },
  {
   "cell_type": "code",
   "execution_count": 96,
   "metadata": {},
   "outputs": [
    {
     "data": {
      "text/html": [
       "<div>\n",
       "<style scoped>\n",
       "    .dataframe tbody tr th:only-of-type {\n",
       "        vertical-align: middle;\n",
       "    }\n",
       "\n",
       "    .dataframe tbody tr th {\n",
       "        vertical-align: top;\n",
       "    }\n",
       "\n",
       "    .dataframe thead th {\n",
       "        text-align: right;\n",
       "    }\n",
       "</style>\n",
       "<table border=\"1\" class=\"dataframe\">\n",
       "  <thead>\n",
       "    <tr style=\"text-align: right;\">\n",
       "      <th></th>\n",
       "      <th>AveragePrice</th>\n",
       "      <th>Total Volume</th>\n",
       "      <th>4046</th>\n",
       "      <th>4225</th>\n",
       "      <th>4770</th>\n",
       "      <th>Total Bags</th>\n",
       "      <th>Small Bags</th>\n",
       "      <th>Large Bags</th>\n",
       "      <th>XLarge Bags</th>\n",
       "      <th>year</th>\n",
       "    </tr>\n",
       "  </thead>\n",
       "  <tbody>\n",
       "    <tr>\n",
       "      <th>count</th>\n",
       "      <td>169.000000</td>\n",
       "      <td>169.000000</td>\n",
       "      <td>169.000000</td>\n",
       "      <td>169.000000</td>\n",
       "      <td>169.0</td>\n",
       "      <td>169.000000</td>\n",
       "      <td>169.000000</td>\n",
       "      <td>169.000000</td>\n",
       "      <td>169.0</td>\n",
       "      <td>169.000000</td>\n",
       "    </tr>\n",
       "    <tr>\n",
       "      <th>mean</th>\n",
       "      <td>1.744201</td>\n",
       "      <td>31321.856509</td>\n",
       "      <td>408.501775</td>\n",
       "      <td>27524.999053</td>\n",
       "      <td>0.0</td>\n",
       "      <td>3388.190178</td>\n",
       "      <td>3372.943846</td>\n",
       "      <td>15.246331</td>\n",
       "      <td>0.0</td>\n",
       "      <td>2016.147929</td>\n",
       "    </tr>\n",
       "    <tr>\n",
       "      <th>std</th>\n",
       "      <td>0.225277</td>\n",
       "      <td>11695.293667</td>\n",
       "      <td>422.358983</td>\n",
       "      <td>11135.090846</td>\n",
       "      <td>0.0</td>\n",
       "      <td>3728.824929</td>\n",
       "      <td>3732.389546</td>\n",
       "      <td>148.619039</td>\n",
       "      <td>0.0</td>\n",
       "      <td>0.942709</td>\n",
       "    </tr>\n",
       "    <tr>\n",
       "      <th>min</th>\n",
       "      <td>1.080000</td>\n",
       "      <td>9910.840000</td>\n",
       "      <td>21.790000</td>\n",
       "      <td>5013.570000</td>\n",
       "      <td>0.0</td>\n",
       "      <td>33.330000</td>\n",
       "      <td>30.000000</td>\n",
       "      <td>0.000000</td>\n",
       "      <td>0.0</td>\n",
       "      <td>2015.000000</td>\n",
       "    </tr>\n",
       "    <tr>\n",
       "      <th>25%</th>\n",
       "      <td>1.600000</td>\n",
       "      <td>24460.460000</td>\n",
       "      <td>78.310000</td>\n",
       "      <td>21147.930000</td>\n",
       "      <td>0.0</td>\n",
       "      <td>580.000000</td>\n",
       "      <td>569.940000</td>\n",
       "      <td>0.000000</td>\n",
       "      <td>0.0</td>\n",
       "      <td>2015.000000</td>\n",
       "    </tr>\n",
       "    <tr>\n",
       "      <th>50%</th>\n",
       "      <td>1.680000</td>\n",
       "      <td>29892.840000</td>\n",
       "      <td>171.400000</td>\n",
       "      <td>26198.440000</td>\n",
       "      <td>0.0</td>\n",
       "      <td>2025.000000</td>\n",
       "      <td>1985.090000</td>\n",
       "      <td>0.000000</td>\n",
       "      <td>0.0</td>\n",
       "      <td>2016.000000</td>\n",
       "    </tr>\n",
       "    <tr>\n",
       "      <th>75%</th>\n",
       "      <td>1.920000</td>\n",
       "      <td>36774.580000</td>\n",
       "      <td>722.160000</td>\n",
       "      <td>32668.250000</td>\n",
       "      <td>0.0</td>\n",
       "      <td>4344.590000</td>\n",
       "      <td>4344.590000</td>\n",
       "      <td>3.330000</td>\n",
       "      <td>0.0</td>\n",
       "      <td>2017.000000</td>\n",
       "    </tr>\n",
       "    <tr>\n",
       "      <th>max</th>\n",
       "      <td>2.300000</td>\n",
       "      <td>88346.470000</td>\n",
       "      <td>1720.140000</td>\n",
       "      <td>86707.640000</td>\n",
       "      <td>0.0</td>\n",
       "      <td>22340.770000</td>\n",
       "      <td>22340.770000</td>\n",
       "      <td>1928.610000</td>\n",
       "      <td>0.0</td>\n",
       "      <td>2018.000000</td>\n",
       "    </tr>\n",
       "  </tbody>\n",
       "</table>\n",
       "</div>"
      ],
      "text/plain": [
       "       AveragePrice  Total Volume         4046          4225   4770  \\\n",
       "count    169.000000    169.000000   169.000000    169.000000  169.0   \n",
       "mean       1.744201  31321.856509   408.501775  27524.999053    0.0   \n",
       "std        0.225277  11695.293667   422.358983  11135.090846    0.0   \n",
       "min        1.080000   9910.840000    21.790000   5013.570000    0.0   \n",
       "25%        1.600000  24460.460000    78.310000  21147.930000    0.0   \n",
       "50%        1.680000  29892.840000   171.400000  26198.440000    0.0   \n",
       "75%        1.920000  36774.580000   722.160000  32668.250000    0.0   \n",
       "max        2.300000  88346.470000  1720.140000  86707.640000    0.0   \n",
       "\n",
       "         Total Bags    Small Bags   Large Bags  XLarge Bags         year  \n",
       "count    169.000000    169.000000   169.000000        169.0   169.000000  \n",
       "mean    3388.190178   3372.943846    15.246331          0.0  2016.147929  \n",
       "std     3728.824929   3732.389546   148.619039          0.0     0.942709  \n",
       "min       33.330000     30.000000     0.000000          0.0  2015.000000  \n",
       "25%      580.000000    569.940000     0.000000          0.0  2015.000000  \n",
       "50%     2025.000000   1985.090000     0.000000          0.0  2016.000000  \n",
       "75%     4344.590000   4344.590000     3.330000          0.0  2017.000000  \n",
       "max    22340.770000  22340.770000  1928.610000          0.0  2018.000000  "
      ]
     },
     "execution_count": 96,
     "metadata": {},
     "output_type": "execute_result"
    }
   ],
   "source": [
    "desc = organic_ch.describe()\n",
    "desc"
   ]
  },
  {
   "cell_type": "code",
   "execution_count": 97,
   "metadata": {},
   "outputs": [],
   "source": [
    "bins = [desc.AveragePrice['min'], desc.AveragePrice['mean'], desc.AveragePrice['max']]\n"
   ]
  },
  {
   "cell_type": "code",
   "execution_count": 98,
   "metadata": {},
   "outputs": [],
   "source": [
    "labels = ['меньше или равно среднему', 'больше среднего']"
   ]
  },
  {
   "cell_type": "code",
   "execution_count": 99,
   "metadata": {},
   "outputs": [
    {
     "data": {
      "text/html": [
       "<div>\n",
       "<style scoped>\n",
       "    .dataframe tbody tr th:only-of-type {\n",
       "        vertical-align: middle;\n",
       "    }\n",
       "\n",
       "    .dataframe tbody tr th {\n",
       "        vertical-align: top;\n",
       "    }\n",
       "\n",
       "    .dataframe thead th {\n",
       "        text-align: right;\n",
       "    }\n",
       "</style>\n",
       "<table border=\"1\" class=\"dataframe\">\n",
       "  <thead>\n",
       "    <tr style=\"text-align: right;\">\n",
       "      <th></th>\n",
       "      <th>Date</th>\n",
       "      <th>AveragePrice</th>\n",
       "      <th>Total Volume</th>\n",
       "      <th>4046</th>\n",
       "      <th>4225</th>\n",
       "      <th>4770</th>\n",
       "      <th>Total Bags</th>\n",
       "      <th>Small Bags</th>\n",
       "      <th>Large Bags</th>\n",
       "      <th>XLarge Bags</th>\n",
       "      <th>type</th>\n",
       "      <th>year</th>\n",
       "      <th>region</th>\n",
       "    </tr>\n",
       "  </thead>\n",
       "  <tbody>\n",
       "    <tr>\n",
       "      <th>1</th>\n",
       "      <td>2015-01-04</td>\n",
       "      <td>1.49</td>\n",
       "      <td>17723.17</td>\n",
       "      <td>1189.35</td>\n",
       "      <td>15628.27</td>\n",
       "      <td>0.0</td>\n",
       "      <td>905.55</td>\n",
       "      <td>905.55</td>\n",
       "      <td>0.00</td>\n",
       "      <td>0.0</td>\n",
       "      <td>organic</td>\n",
       "      <td>2015</td>\n",
       "      <td>Chicago</td>\n",
       "    </tr>\n",
       "    <tr>\n",
       "      <th>153</th>\n",
       "      <td>2015-01-11</td>\n",
       "      <td>1.79</td>\n",
       "      <td>12915.74</td>\n",
       "      <td>1426.75</td>\n",
       "      <td>10900.10</td>\n",
       "      <td>0.0</td>\n",
       "      <td>588.89</td>\n",
       "      <td>588.89</td>\n",
       "      <td>0.00</td>\n",
       "      <td>0.0</td>\n",
       "      <td>organic</td>\n",
       "      <td>2015</td>\n",
       "      <td>Chicago</td>\n",
       "    </tr>\n",
       "    <tr>\n",
       "      <th>293</th>\n",
       "      <td>2015-01-18</td>\n",
       "      <td>1.81</td>\n",
       "      <td>12499.87</td>\n",
       "      <td>1154.81</td>\n",
       "      <td>10830.61</td>\n",
       "      <td>0.0</td>\n",
       "      <td>514.45</td>\n",
       "      <td>514.45</td>\n",
       "      <td>0.00</td>\n",
       "      <td>0.0</td>\n",
       "      <td>organic</td>\n",
       "      <td>2015</td>\n",
       "      <td>Chicago</td>\n",
       "    </tr>\n",
       "    <tr>\n",
       "      <th>343</th>\n",
       "      <td>2015-01-25</td>\n",
       "      <td>1.83</td>\n",
       "      <td>10951.51</td>\n",
       "      <td>711.63</td>\n",
       "      <td>9515.44</td>\n",
       "      <td>0.0</td>\n",
       "      <td>724.44</td>\n",
       "      <td>724.44</td>\n",
       "      <td>0.00</td>\n",
       "      <td>0.0</td>\n",
       "      <td>organic</td>\n",
       "      <td>2015</td>\n",
       "      <td>Chicago</td>\n",
       "    </tr>\n",
       "    <tr>\n",
       "      <th>537</th>\n",
       "      <td>2015-02-01</td>\n",
       "      <td>1.52</td>\n",
       "      <td>14391.05</td>\n",
       "      <td>1363.35</td>\n",
       "      <td>11835.47</td>\n",
       "      <td>0.0</td>\n",
       "      <td>1192.23</td>\n",
       "      <td>1192.23</td>\n",
       "      <td>0.00</td>\n",
       "      <td>0.0</td>\n",
       "      <td>organic</td>\n",
       "      <td>2015</td>\n",
       "      <td>Chicago</td>\n",
       "    </tr>\n",
       "    <tr>\n",
       "      <th>...</th>\n",
       "      <td>...</td>\n",
       "      <td>...</td>\n",
       "      <td>...</td>\n",
       "      <td>...</td>\n",
       "      <td>...</td>\n",
       "      <td>...</td>\n",
       "      <td>...</td>\n",
       "      <td>...</td>\n",
       "      <td>...</td>\n",
       "      <td>...</td>\n",
       "      <td>...</td>\n",
       "      <td>...</td>\n",
       "      <td>...</td>\n",
       "    </tr>\n",
       "    <tr>\n",
       "      <th>17785</th>\n",
       "      <td>2018-02-25</td>\n",
       "      <td>1.68</td>\n",
       "      <td>36432.65</td>\n",
       "      <td>246.73</td>\n",
       "      <td>29263.75</td>\n",
       "      <td>0.0</td>\n",
       "      <td>6922.17</td>\n",
       "      <td>6908.84</td>\n",
       "      <td>13.33</td>\n",
       "      <td>0.0</td>\n",
       "      <td>organic</td>\n",
       "      <td>2018</td>\n",
       "      <td>Chicago</td>\n",
       "    </tr>\n",
       "    <tr>\n",
       "      <th>17897</th>\n",
       "      <td>2018-03-04</td>\n",
       "      <td>1.62</td>\n",
       "      <td>46026.58</td>\n",
       "      <td>1107.05</td>\n",
       "      <td>35255.03</td>\n",
       "      <td>0.0</td>\n",
       "      <td>9664.50</td>\n",
       "      <td>9654.50</td>\n",
       "      <td>10.00</td>\n",
       "      <td>0.0</td>\n",
       "      <td>organic</td>\n",
       "      <td>2018</td>\n",
       "      <td>Chicago</td>\n",
       "    </tr>\n",
       "    <tr>\n",
       "      <th>17984</th>\n",
       "      <td>2018-03-11</td>\n",
       "      <td>1.66</td>\n",
       "      <td>41969.83</td>\n",
       "      <td>583.18</td>\n",
       "      <td>32382.95</td>\n",
       "      <td>0.0</td>\n",
       "      <td>9003.70</td>\n",
       "      <td>8990.36</td>\n",
       "      <td>13.34</td>\n",
       "      <td>0.0</td>\n",
       "      <td>organic</td>\n",
       "      <td>2018</td>\n",
       "      <td>Chicago</td>\n",
       "    </tr>\n",
       "    <tr>\n",
       "      <th>18075</th>\n",
       "      <td>2018-03-18</td>\n",
       "      <td>1.66</td>\n",
       "      <td>35542.17</td>\n",
       "      <td>184.53</td>\n",
       "      <td>26955.74</td>\n",
       "      <td>0.0</td>\n",
       "      <td>8401.90</td>\n",
       "      <td>8398.57</td>\n",
       "      <td>3.33</td>\n",
       "      <td>0.0</td>\n",
       "      <td>organic</td>\n",
       "      <td>2018</td>\n",
       "      <td>Chicago</td>\n",
       "    </tr>\n",
       "    <tr>\n",
       "      <th>18151</th>\n",
       "      <td>2018-03-25</td>\n",
       "      <td>1.69</td>\n",
       "      <td>35088.36</td>\n",
       "      <td>324.87</td>\n",
       "      <td>27550.29</td>\n",
       "      <td>0.0</td>\n",
       "      <td>7213.20</td>\n",
       "      <td>7176.54</td>\n",
       "      <td>36.66</td>\n",
       "      <td>0.0</td>\n",
       "      <td>organic</td>\n",
       "      <td>2018</td>\n",
       "      <td>Chicago</td>\n",
       "    </tr>\n",
       "  </tbody>\n",
       "</table>\n",
       "<p>169 rows × 13 columns</p>\n",
       "</div>"
      ],
      "text/plain": [
       "            Date  AveragePrice  Total Volume     4046      4225  4770  \\\n",
       "1     2015-01-04          1.49      17723.17  1189.35  15628.27   0.0   \n",
       "153   2015-01-11          1.79      12915.74  1426.75  10900.10   0.0   \n",
       "293   2015-01-18          1.81      12499.87  1154.81  10830.61   0.0   \n",
       "343   2015-01-25          1.83      10951.51   711.63   9515.44   0.0   \n",
       "537   2015-02-01          1.52      14391.05  1363.35  11835.47   0.0   \n",
       "...          ...           ...           ...      ...       ...   ...   \n",
       "17785 2018-02-25          1.68      36432.65   246.73  29263.75   0.0   \n",
       "17897 2018-03-04          1.62      46026.58  1107.05  35255.03   0.0   \n",
       "17984 2018-03-11          1.66      41969.83   583.18  32382.95   0.0   \n",
       "18075 2018-03-18          1.66      35542.17   184.53  26955.74   0.0   \n",
       "18151 2018-03-25          1.69      35088.36   324.87  27550.29   0.0   \n",
       "\n",
       "       Total Bags  Small Bags  Large Bags  XLarge Bags     type  year   region  \n",
       "1          905.55      905.55        0.00          0.0  organic  2015  Chicago  \n",
       "153        588.89      588.89        0.00          0.0  organic  2015  Chicago  \n",
       "293        514.45      514.45        0.00          0.0  organic  2015  Chicago  \n",
       "343        724.44      724.44        0.00          0.0  organic  2015  Chicago  \n",
       "537       1192.23     1192.23        0.00          0.0  organic  2015  Chicago  \n",
       "...           ...         ...         ...          ...      ...   ...      ...  \n",
       "17785     6922.17     6908.84       13.33          0.0  organic  2018  Chicago  \n",
       "17897     9664.50     9654.50       10.00          0.0  organic  2018  Chicago  \n",
       "17984     9003.70     8990.36       13.34          0.0  organic  2018  Chicago  \n",
       "18075     8401.90     8398.57        3.33          0.0  organic  2018  Chicago  \n",
       "18151     7213.20     7176.54       36.66          0.0  organic  2018  Chicago  \n",
       "\n",
       "[169 rows x 13 columns]"
      ]
     },
     "execution_count": 99,
     "metadata": {},
     "output_type": "execute_result"
    }
   ],
   "source": [
    "organic_ch"
   ]
  },
  {
   "cell_type": "code",
   "execution_count": 100,
   "metadata": {},
   "outputs": [
    {
     "name": "stderr",
     "output_type": "stream",
     "text": [
      "c:\\users\\elnur\\appdata\\local\\programs\\python\\python37\\lib\\site-packages\\ipykernel_launcher.py:1: SettingWithCopyWarning:\n",
      "\n",
      "\n",
      "A value is trying to be set on a copy of a slice from a DataFrame.\n",
      "Try using .loc[row_indexer,col_indexer] = value instead\n",
      "\n",
      "See the caveats in the documentation: https://pandas.pydata.org/pandas-docs/stable/user_guide/indexing.html#returning-a-view-versus-a-copy\n",
      "\n"
     ]
    }
   ],
   "source": [
    "organic_ch['AveragePrice_label'] = pd.cut(organic_ch['AveragePrice'] , bins=bins, labels=labels)\n"
   ]
  },
  {
   "cell_type": "code",
   "execution_count": 102,
   "metadata": {},
   "outputs": [
    {
     "data": {
      "text/plain": [
       "меньше или равно среднему    94\n",
       "больше среднего              74\n",
       "Name: AveragePrice_label, dtype: int64"
      ]
     },
     "execution_count": 102,
     "metadata": {},
     "output_type": "execute_result"
    }
   ],
   "source": [
    "organic_ch.AveragePrice_label.value_counts()"
   ]
  },
  {
   "cell_type": "markdown",
   "metadata": {},
   "source": [
    "## Итоги"
   ]
  },
  {
   "cell_type": "markdown",
   "metadata": {},
   "source": [
    "В этом уроке вы исследовали тренды цен на авокадо и проанализировали средние значения, используя оконные функции (скользящее среднее и экспоненциальное скользящее среднее) и интерактивные графики, а также потренировались преобразовывать числовую переменную в категориальную, чтобы поделить значения на группы"
   ]
  }
 ],
 "metadata": {
  "kernelspec": {
   "display_name": "Python 3 (ipykernel)",
   "language": "python",
   "name": "python3"
  },
  "language_info": {
   "codemirror_mode": {
    "name": "ipython",
    "version": 3
   },
   "file_extension": ".py",
   "mimetype": "text/x-python",
   "name": "python",
   "nbconvert_exporter": "python",
   "pygments_lexer": "ipython3",
   "version": "3.7.0"
  }
 },
 "nbformat": 4,
 "nbformat_minor": 4
}

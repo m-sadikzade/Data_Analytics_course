{
 "cells": [
  {
   "cell_type": "code",
   "execution_count": null,
   "id": "2ecf8767-7417-41dd-9ec5-3ab9dc3e4d60",
   "metadata": {},
   "outputs": [],
   "source": []
  }
 ],
 "metadata": {
  "kernelspec": {
   "display_name": "Python 3 (ipykernel)",
   "language": "python",
   "name": "python3"
  },
  "language_info": {
   "name": ""
  }
 },
 "nbformat": 4,
 "nbformat_minor": 5
}
